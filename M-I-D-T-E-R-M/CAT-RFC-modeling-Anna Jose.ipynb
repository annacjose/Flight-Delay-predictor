{
 "cells": [
  {
   "cell_type": "markdown",
   "metadata": {},
   "source": [
    "# Machine Learning\n",
    "\n",
    "In this file, instructions how to approach the challenge can be found."
   ]
  },
  {
   "cell_type": "markdown",
   "metadata": {},
   "source": [
    "We are going to work on different types of Machine Learning problems:\n",
    "\n",
    "- **Regression Problem**: The goal is to predict delay of flights.\n",
    "- **(Stretch) Multiclass Classification**: If the plane was delayed, we will predict what type of delay it is (will be).\n",
    "- **(Stretch) Binary Classification**: The goal is to predict if the flight will be cancelled."
   ]
  },
  {
   "cell_type": "code",
   "execution_count": null,
   "metadata": {},
   "outputs": [],
   "source": []
  },
  {
   "cell_type": "markdown",
   "metadata": {},
   "source": [
    "## Main Task: Regression Problem"
   ]
  },
  {
   "cell_type": "markdown",
   "metadata": {},
   "source": [
    "The target variable is **ARR_DELAY**. We need to be careful which columns to use and which don't. For example, DEP_DELAY is going to be the perfect predictor, but we can't use it because in real-life scenario, we want to predict the delay before the flight takes of --> We can use average delay from earlier days but not the one from the actual flight we predict.  \n",
    "\n",
    "For example, variables **CARRIER_DELAY, WEATHER_DELAY, NAS_DELAY, SECURITY_DELAY, LATE_AIRCRAFT_DELAY** shouldn't be used directly as predictors as well. However, we can create various transformations from earlier values.\n",
    "\n",
    "We will be evaluating your models by predicting the ARR_DELAY for all flights **1 week in advance**."
   ]
  },
  {
   "cell_type": "markdown",
   "metadata": {},
   "source": [
    "### Feature Engineering"
   ]
  },
  {
   "cell_type": "markdown",
   "metadata": {},
   "source": [
    "Feature engineering will play a crucial role in this problems. We have only very little attributes so we need to create some features that will have some predictive power.\n",
    "\n",
    "- weather: we can use some weather API to look for the weather in time of the scheduled departure and scheduled arrival.\n",
    "- statistics (avg, mean, median, std, min, max...): we can take a look at previous delays and compute descriptive statistics\n",
    "- airports encoding: we need to think about what to do with the airports and other categorical variables\n",
    "- time of the day: the delay probably depends on the airport traffic which varies during the day.\n",
    "- airport traffic\n",
    "- unsupervised learning as feature engineering?\n",
    "- **what are the additional options?**: Think about what we could do more to improve the model."
   ]
  },
  {
   "cell_type": "code",
   "execution_count": 69,
   "metadata": {},
   "outputs": [],
   "source": [
    "import pandas as pd\n",
    "import numpy as np"
   ]
  },
  {
   "cell_type": "code",
   "execution_count": 70,
   "metadata": {},
   "outputs": [],
   "source": [
    "passengers = pd.read_csv('/Users/annajose/Desktop/BOOTCAMP 2/Week5Day5/M-I-D-T-E-R-M/passengers.csv')"
   ]
  },
  {
   "cell_type": "code",
   "execution_count": 71,
   "metadata": {},
   "outputs": [],
   "source": [
    "fuelconsumption = pd.read_csv('/Users/annajose/Desktop/BOOTCAMP 2/Week5Day5/M-I-D-T-E-R-M/fuel_consumption.csv')"
   ]
  },
  {
   "cell_type": "code",
   "execution_count": 72,
   "metadata": {},
   "outputs": [
    {
     "data": {
      "text/plain": [
       "month                0\n",
       "airline_id           1\n",
       "unique_carrier       1\n",
       "carrier              0\n",
       "carrier_name         1\n",
       "carrier_group_new    0\n",
       "sdomt_gallons        1\n",
       "satl_gallons         1\n",
       "spac_gallons         1\n",
       "slat_gallons         2\n",
       "sint_gallons         1\n",
       "ts_gallons           1\n",
       "tdomt_gallons        3\n",
       "tint_gallons         1\n",
       "total_gallons        6\n",
       "sdomt_cost           0\n",
       "satl_cost            1\n",
       "spac_cost            1\n",
       "slat_cost            1\n",
       "sint_cost            1\n",
       "ts_cost              0\n",
       "tdomt_cost           0\n",
       "tint_cost            1\n",
       "total_cost           0\n",
       "year                 0\n",
       "dtype: int64"
      ]
     },
     "execution_count": 72,
     "metadata": {},
     "output_type": "execute_result"
    }
   ],
   "source": [
    "fuelconsumption.isnull().sum()"
   ]
  },
  {
   "cell_type": "code",
   "execution_count": 73,
   "metadata": {},
   "outputs": [],
   "source": [
    "flights = pd.read_csv('/Users/annajose/Desktop/BOOTCAMP 2/Week5Day5/M-I-D-T-E-R-M/flights.csv')"
   ]
  },
  {
   "cell_type": "code",
   "execution_count": 74,
   "metadata": {},
   "outputs": [
    {
     "data": {
      "text/plain": [
       "Index(['fl_date', 'mkt_unique_carrier', 'branded_code_share', 'mkt_carrier',\n",
       "       'mkt_carrier_fl_num', 'op_unique_carrier', 'tail_num',\n",
       "       'op_carrier_fl_num', 'origin_airport_id', 'origin', 'origin_city_name',\n",
       "       'dest_airport_id', 'dest', 'dest_city_name', 'crs_dep_time', 'dep_time',\n",
       "       'dep_delay', 'taxi_out', 'wheels_off', 'wheels_on', 'taxi_in',\n",
       "       'crs_arr_time', 'arr_time', 'arr_delay', 'cancelled',\n",
       "       'cancellation_code', 'diverted', 'dup', 'crs_elapsed_time',\n",
       "       'actual_elapsed_time', 'air_time', 'flights', 'distance',\n",
       "       'carrier_delay', 'weather_delay', 'nas_delay', 'security_delay',\n",
       "       'late_aircraft_delay', 'first_dep_time', 'total_add_gtime',\n",
       "       'longest_add_gtime', 'no_name'],\n",
       "      dtype='object')"
      ]
     },
     "execution_count": 74,
     "metadata": {},
     "output_type": "execute_result"
    }
   ],
   "source": [
    "flights.columns"
   ]
  },
  {
   "cell_type": "code",
   "execution_count": 75,
   "metadata": {},
   "outputs": [
    {
     "data": {
      "text/plain": [
       "fl_date                     0\n",
       "mkt_unique_carrier          0\n",
       "branded_code_share          0\n",
       "mkt_carrier                 0\n",
       "mkt_carrier_fl_num          0\n",
       "op_unique_carrier           0\n",
       "tail_num                  291\n",
       "op_carrier_fl_num           0\n",
       "origin_airport_id           0\n",
       "origin                      0\n",
       "origin_city_name            0\n",
       "dest_airport_id             0\n",
       "dest                        0\n",
       "dest_city_name              0\n",
       "crs_dep_time                0\n",
       "dep_time                 1640\n",
       "dep_delay                1667\n",
       "taxi_out                 1738\n",
       "wheels_off               1738\n",
       "wheels_on                1795\n",
       "taxi_in                  1795\n",
       "crs_arr_time                0\n",
       "arr_time                 1751\n",
       "arr_delay                1990\n",
       "cancelled                   0\n",
       "cancellation_code       98293\n",
       "diverted                    0\n",
       "dup                         0\n",
       "crs_elapsed_time            0\n",
       "actual_elapsed_time      1973\n",
       "air_time                 2017\n",
       "flights                     0\n",
       "distance                    0\n",
       "carrier_delay           81074\n",
       "weather_delay           81074\n",
       "nas_delay               81074\n",
       "security_delay          81074\n",
       "late_aircraft_delay     81074\n",
       "first_dep_time          99279\n",
       "total_add_gtime         99279\n",
       "longest_add_gtime       99279\n",
       "no_name                100000\n",
       "dtype: int64"
      ]
     },
     "execution_count": 75,
     "metadata": {},
     "output_type": "execute_result"
    }
   ],
   "source": [
    "flights.isnull().sum()"
   ]
  },
  {
   "cell_type": "code",
   "execution_count": 76,
   "metadata": {},
   "outputs": [],
   "source": [
    "#Dropped 33 columns\n",
    "flights1 = flights.drop(['op_carrier_fl_num', 'mkt_unique_carrier', 'dep_time', 'actual_elapsed_time', 'air_time','dep_delay', 'carrier_delay', 'weather_delay', 'nas_delay', 'security_delay', 'late_aircraft_delay', 'taxi_out', 'wheels_off', 'wheels_on', 'taxi_in', 'arr_time', 'dest', 'dest_city_name','origin', 'origin_city_name', 'branded_code_share', 'carrier_delay','weather_delay','nas_delay','security_delay', 'late_aircraft_delay', 'first_dep_time', 'total_add_gtime','longest_add_gtime','cancelled', 'cancellation_code', 'diverted', 'dup', 'flights', 'no_name'], axis = 1)"
   ]
  },
  {
   "cell_type": "code",
   "execution_count": 77,
   "metadata": {},
   "outputs": [
    {
     "data": {
      "text/plain": [
       "Index(['fl_date', 'mkt_carrier', 'mkt_carrier_fl_num', 'op_unique_carrier',\n",
       "       'tail_num', 'origin_airport_id', 'dest_airport_id', 'crs_dep_time',\n",
       "       'crs_arr_time', 'arr_delay', 'crs_elapsed_time', 'distance'],\n",
       "      dtype='object')"
      ]
     },
     "execution_count": 77,
     "metadata": {},
     "output_type": "execute_result"
    }
   ],
   "source": [
    "flights1.columns"
   ]
  },
  {
   "cell_type": "code",
   "execution_count": 78,
   "metadata": {},
   "outputs": [
    {
     "data": {
      "text/plain": [
       "0    N492HA\n",
       "dtype: object"
      ]
     },
     "execution_count": 78,
     "metadata": {},
     "output_type": "execute_result"
    }
   ],
   "source": [
    "tail_number_mode = flights1['tail_num'].mode()\n",
    "tail_number_mode"
   ]
  },
  {
   "cell_type": "code",
   "execution_count": 79,
   "metadata": {},
   "outputs": [],
   "source": [
    "flights1['tail_num'] = flights1['tail_num'].fillna(str(tail_number_mode[0]))"
   ]
  },
  {
   "cell_type": "code",
   "execution_count": 80,
   "metadata": {},
   "outputs": [],
   "source": [
    "flights1['arr_delay'] = flights1['arr_delay'].fillna(flights1['arr_delay'].mean())"
   ]
  },
  {
   "cell_type": "code",
   "execution_count": 81,
   "metadata": {},
   "outputs": [
    {
     "data": {
      "text/plain": [
       "fl_date               0\n",
       "mkt_carrier           0\n",
       "mkt_carrier_fl_num    0\n",
       "op_unique_carrier     0\n",
       "tail_num              0\n",
       "origin_airport_id     0\n",
       "dest_airport_id       0\n",
       "crs_dep_time          0\n",
       "crs_arr_time          0\n",
       "arr_delay             0\n",
       "crs_elapsed_time      0\n",
       "distance              0\n",
       "dtype: int64"
      ]
     },
     "execution_count": 81,
     "metadata": {},
     "output_type": "execute_result"
    }
   ],
   "source": [
    "flights1.isnull().sum()"
   ]
  },
  {
   "cell_type": "markdown",
   "metadata": {},
   "source": [
    "* adding month, day of the week, day of the month"
   ]
  },
  {
   "cell_type": "code",
   "execution_count": 82,
   "metadata": {},
   "outputs": [],
   "source": [
    "flights1['fl_date'] = pd.to_datetime(flights1['fl_date'], errors='coerce')\n",
    "flights1['month'] = flights1['fl_date'].dt.month\n",
    "flights1['day_of_week'] = flights1['fl_date'].dt.dayofweek\n",
    "flights1['day_of_month'] = flights1['fl_date'].dt.day\n",
    "flights1['year'] = flights1['fl_date'].dt.year"
   ]
  },
  {
   "cell_type": "code",
   "execution_count": 83,
   "metadata": {},
   "outputs": [],
   "source": [
    "flights1=flights1.drop('fl_date', axis = 1)"
   ]
  },
  {
   "cell_type": "code",
   "execution_count": 84,
   "metadata": {},
   "outputs": [
    {
     "data": {
      "text/html": [
       "<div>\n",
       "<style scoped>\n",
       "    .dataframe tbody tr th:only-of-type {\n",
       "        vertical-align: middle;\n",
       "    }\n",
       "\n",
       "    .dataframe tbody tr th {\n",
       "        vertical-align: top;\n",
       "    }\n",
       "\n",
       "    .dataframe thead th {\n",
       "        text-align: right;\n",
       "    }\n",
       "</style>\n",
       "<table border=\"1\" class=\"dataframe\">\n",
       "  <thead>\n",
       "    <tr style=\"text-align: right;\">\n",
       "      <th></th>\n",
       "      <th>mkt_carrier</th>\n",
       "      <th>mkt_carrier_fl_num</th>\n",
       "      <th>op_unique_carrier</th>\n",
       "      <th>tail_num</th>\n",
       "      <th>origin_airport_id</th>\n",
       "      <th>dest_airport_id</th>\n",
       "      <th>crs_dep_time</th>\n",
       "      <th>crs_arr_time</th>\n",
       "      <th>arr_delay</th>\n",
       "      <th>crs_elapsed_time</th>\n",
       "      <th>distance</th>\n",
       "      <th>month</th>\n",
       "      <th>day_of_week</th>\n",
       "      <th>day_of_month</th>\n",
       "      <th>year</th>\n",
       "    </tr>\n",
       "  </thead>\n",
       "  <tbody>\n",
       "    <tr>\n",
       "      <th>0</th>\n",
       "      <td>AA</td>\n",
       "      <td>5052</td>\n",
       "      <td>OH</td>\n",
       "      <td>N557NN</td>\n",
       "      <td>11057</td>\n",
       "      <td>11995</td>\n",
       "      <td>1634</td>\n",
       "      <td>1733</td>\n",
       "      <td>-4.0</td>\n",
       "      <td>59</td>\n",
       "      <td>83</td>\n",
       "      <td>11</td>\n",
       "      <td>2</td>\n",
       "      <td>27</td>\n",
       "      <td>2019</td>\n",
       "    </tr>\n",
       "    <tr>\n",
       "      <th>1</th>\n",
       "      <td>AA</td>\n",
       "      <td>5812</td>\n",
       "      <td>YV</td>\n",
       "      <td>N952LR</td>\n",
       "      <td>13851</td>\n",
       "      <td>11298</td>\n",
       "      <td>1652</td>\n",
       "      <td>1802</td>\n",
       "      <td>24.0</td>\n",
       "      <td>70</td>\n",
       "      <td>175</td>\n",
       "      <td>12</td>\n",
       "      <td>3</td>\n",
       "      <td>26</td>\n",
       "      <td>2019</td>\n",
       "    </tr>\n",
       "    <tr>\n",
       "      <th>2</th>\n",
       "      <td>WN</td>\n",
       "      <td>1270</td>\n",
       "      <td>WN</td>\n",
       "      <td>N962WN</td>\n",
       "      <td>15304</td>\n",
       "      <td>14730</td>\n",
       "      <td>955</td>\n",
       "      <td>1155</td>\n",
       "      <td>0.0</td>\n",
       "      <td>120</td>\n",
       "      <td>727</td>\n",
       "      <td>10</td>\n",
       "      <td>3</td>\n",
       "      <td>25</td>\n",
       "      <td>2018</td>\n",
       "    </tr>\n",
       "    <tr>\n",
       "      <th>3</th>\n",
       "      <td>DL</td>\n",
       "      <td>2031</td>\n",
       "      <td>DL</td>\n",
       "      <td>N979AT</td>\n",
       "      <td>10397</td>\n",
       "      <td>15624</td>\n",
       "      <td>1342</td>\n",
       "      <td>1353</td>\n",
       "      <td>31.0</td>\n",
       "      <td>71</td>\n",
       "      <td>250</td>\n",
       "      <td>6</td>\n",
       "      <td>0</td>\n",
       "      <td>25</td>\n",
       "      <td>2018</td>\n",
       "    </tr>\n",
       "    <tr>\n",
       "      <th>4</th>\n",
       "      <td>B6</td>\n",
       "      <td>2705</td>\n",
       "      <td>B6</td>\n",
       "      <td>N547JB</td>\n",
       "      <td>11618</td>\n",
       "      <td>11697</td>\n",
       "      <td>1646</td>\n",
       "      <td>1952</td>\n",
       "      <td>-10.0</td>\n",
       "      <td>186</td>\n",
       "      <td>1065</td>\n",
       "      <td>11</td>\n",
       "      <td>2</td>\n",
       "      <td>20</td>\n",
       "      <td>2019</td>\n",
       "    </tr>\n",
       "    <tr>\n",
       "      <th>...</th>\n",
       "      <td>...</td>\n",
       "      <td>...</td>\n",
       "      <td>...</td>\n",
       "      <td>...</td>\n",
       "      <td>...</td>\n",
       "      <td>...</td>\n",
       "      <td>...</td>\n",
       "      <td>...</td>\n",
       "      <td>...</td>\n",
       "      <td>...</td>\n",
       "      <td>...</td>\n",
       "      <td>...</td>\n",
       "      <td>...</td>\n",
       "      <td>...</td>\n",
       "      <td>...</td>\n",
       "    </tr>\n",
       "    <tr>\n",
       "      <th>99995</th>\n",
       "      <td>NK</td>\n",
       "      <td>292</td>\n",
       "      <td>NK</td>\n",
       "      <td>N667NK</td>\n",
       "      <td>12889</td>\n",
       "      <td>12266</td>\n",
       "      <td>1845</td>\n",
       "      <td>2342</td>\n",
       "      <td>-9.0</td>\n",
       "      <td>177</td>\n",
       "      <td>1222</td>\n",
       "      <td>12</td>\n",
       "      <td>6</td>\n",
       "      <td>2</td>\n",
       "      <td>2018</td>\n",
       "    </tr>\n",
       "    <tr>\n",
       "      <th>99996</th>\n",
       "      <td>AA</td>\n",
       "      <td>1537</td>\n",
       "      <td>AA</td>\n",
       "      <td>N352PS</td>\n",
       "      <td>14492</td>\n",
       "      <td>13930</td>\n",
       "      <td>1450</td>\n",
       "      <td>1611</td>\n",
       "      <td>18.0</td>\n",
       "      <td>141</td>\n",
       "      <td>646</td>\n",
       "      <td>6</td>\n",
       "      <td>5</td>\n",
       "      <td>29</td>\n",
       "      <td>2019</td>\n",
       "    </tr>\n",
       "    <tr>\n",
       "      <th>99997</th>\n",
       "      <td>DL</td>\n",
       "      <td>4293</td>\n",
       "      <td>OO</td>\n",
       "      <td>N875AS</td>\n",
       "      <td>12003</td>\n",
       "      <td>14869</td>\n",
       "      <td>1759</td>\n",
       "      <td>1944</td>\n",
       "      <td>-14.0</td>\n",
       "      <td>105</td>\n",
       "      <td>463</td>\n",
       "      <td>12</td>\n",
       "      <td>0</td>\n",
       "      <td>17</td>\n",
       "      <td>2018</td>\n",
       "    </tr>\n",
       "    <tr>\n",
       "      <th>99998</th>\n",
       "      <td>WN</td>\n",
       "      <td>5594</td>\n",
       "      <td>WN</td>\n",
       "      <td>N8694E</td>\n",
       "      <td>14107</td>\n",
       "      <td>13232</td>\n",
       "      <td>1445</td>\n",
       "      <td>2000</td>\n",
       "      <td>-11.0</td>\n",
       "      <td>195</td>\n",
       "      <td>1444</td>\n",
       "      <td>3</td>\n",
       "      <td>0</td>\n",
       "      <td>19</td>\n",
       "      <td>2018</td>\n",
       "    </tr>\n",
       "    <tr>\n",
       "      <th>99999</th>\n",
       "      <td>NK</td>\n",
       "      <td>622</td>\n",
       "      <td>NK</td>\n",
       "      <td>N609NK</td>\n",
       "      <td>13198</td>\n",
       "      <td>12889</td>\n",
       "      <td>1825</td>\n",
       "      <td>1927</td>\n",
       "      <td>-3.0</td>\n",
       "      <td>182</td>\n",
       "      <td>1139</td>\n",
       "      <td>4</td>\n",
       "      <td>0</td>\n",
       "      <td>22</td>\n",
       "      <td>2019</td>\n",
       "    </tr>\n",
       "  </tbody>\n",
       "</table>\n",
       "<p>100000 rows × 15 columns</p>\n",
       "</div>"
      ],
      "text/plain": [
       "      mkt_carrier  mkt_carrier_fl_num op_unique_carrier tail_num  \\\n",
       "0              AA                5052                OH   N557NN   \n",
       "1              AA                5812                YV   N952LR   \n",
       "2              WN                1270                WN   N962WN   \n",
       "3              DL                2031                DL   N979AT   \n",
       "4              B6                2705                B6   N547JB   \n",
       "...           ...                 ...               ...      ...   \n",
       "99995          NK                 292                NK   N667NK   \n",
       "99996          AA                1537                AA   N352PS   \n",
       "99997          DL                4293                OO   N875AS   \n",
       "99998          WN                5594                WN   N8694E   \n",
       "99999          NK                 622                NK   N609NK   \n",
       "\n",
       "       origin_airport_id  dest_airport_id  crs_dep_time  crs_arr_time  \\\n",
       "0                  11057            11995          1634          1733   \n",
       "1                  13851            11298          1652          1802   \n",
       "2                  15304            14730           955          1155   \n",
       "3                  10397            15624          1342          1353   \n",
       "4                  11618            11697          1646          1952   \n",
       "...                  ...              ...           ...           ...   \n",
       "99995              12889            12266          1845          2342   \n",
       "99996              14492            13930          1450          1611   \n",
       "99997              12003            14869          1759          1944   \n",
       "99998              14107            13232          1445          2000   \n",
       "99999              13198            12889          1825          1927   \n",
       "\n",
       "       arr_delay  crs_elapsed_time  distance  month  day_of_week  \\\n",
       "0           -4.0                59        83     11            2   \n",
       "1           24.0                70       175     12            3   \n",
       "2            0.0               120       727     10            3   \n",
       "3           31.0                71       250      6            0   \n",
       "4          -10.0               186      1065     11            2   \n",
       "...          ...               ...       ...    ...          ...   \n",
       "99995       -9.0               177      1222     12            6   \n",
       "99996       18.0               141       646      6            5   \n",
       "99997      -14.0               105       463     12            0   \n",
       "99998      -11.0               195      1444      3            0   \n",
       "99999       -3.0               182      1139      4            0   \n",
       "\n",
       "       day_of_month  year  \n",
       "0                27  2019  \n",
       "1                26  2019  \n",
       "2                25  2018  \n",
       "3                25  2018  \n",
       "4                20  2019  \n",
       "...             ...   ...  \n",
       "99995             2  2018  \n",
       "99996            29  2019  \n",
       "99997            17  2018  \n",
       "99998            19  2018  \n",
       "99999            22  2019  \n",
       "\n",
       "[100000 rows x 15 columns]"
      ]
     },
     "execution_count": 84,
     "metadata": {},
     "output_type": "execute_result"
    }
   ],
   "source": [
    "flights1"
   ]
  },
  {
   "cell_type": "code",
   "execution_count": 85,
   "metadata": {},
   "outputs": [],
   "source": [
    "# flights2 = flights1.copy()\n",
    "# flights_cat = flights2.drop(['arr_delay'], axis=1)"
   ]
  },
  {
   "cell_type": "code",
   "execution_count": 86,
   "metadata": {},
   "outputs": [],
   "source": [
    "#flights_cat"
   ]
  },
  {
   "cell_type": "markdown",
   "metadata": {},
   "source": [
    "* get_dummies categorical features, didnt end up using"
   ]
  },
  {
   "cell_type": "code",
   "execution_count": 87,
   "metadata": {},
   "outputs": [],
   "source": [
    "#df_dum = pd.get_dummies(flights1['dest_airport_id'])"
   ]
  },
  {
   "cell_type": "code",
   "execution_count": 88,
   "metadata": {},
   "outputs": [
    {
     "data": {
      "text/plain": [
       "mkt_carrier            object\n",
       "mkt_carrier_fl_num      int64\n",
       "op_unique_carrier      object\n",
       "tail_num               object\n",
       "origin_airport_id       int64\n",
       "dest_airport_id         int64\n",
       "crs_dep_time            int64\n",
       "crs_arr_time            int64\n",
       "arr_delay             float64\n",
       "crs_elapsed_time        int64\n",
       "distance                int64\n",
       "month                   int64\n",
       "day_of_week             int64\n",
       "day_of_month            int64\n",
       "year                    int64\n",
       "dtype: object"
      ]
     },
     "execution_count": 88,
     "metadata": {},
     "output_type": "execute_result"
    }
   ],
   "source": [
    "flights1.dtypes"
   ]
  },
  {
   "cell_type": "code",
   "execution_count": 89,
   "metadata": {},
   "outputs": [
    {
     "data": {
      "text/html": [
       "<div>\n",
       "<style scoped>\n",
       "    .dataframe tbody tr th:only-of-type {\n",
       "        vertical-align: middle;\n",
       "    }\n",
       "\n",
       "    .dataframe tbody tr th {\n",
       "        vertical-align: top;\n",
       "    }\n",
       "\n",
       "    .dataframe thead th {\n",
       "        text-align: right;\n",
       "    }\n",
       "</style>\n",
       "<table border=\"1\" class=\"dataframe\">\n",
       "  <thead>\n",
       "    <tr style=\"text-align: right;\">\n",
       "      <th></th>\n",
       "      <th>mkt_carrier</th>\n",
       "      <th>mkt_carrier_fl_num</th>\n",
       "      <th>op_unique_carrier</th>\n",
       "      <th>tail_num</th>\n",
       "      <th>origin_airport_id</th>\n",
       "      <th>dest_airport_id</th>\n",
       "      <th>crs_dep_time</th>\n",
       "      <th>crs_arr_time</th>\n",
       "      <th>arr_delay</th>\n",
       "      <th>crs_elapsed_time</th>\n",
       "      <th>distance</th>\n",
       "      <th>month</th>\n",
       "      <th>day_of_week</th>\n",
       "      <th>day_of_month</th>\n",
       "      <th>year</th>\n",
       "      <th>arr_delay_cat</th>\n",
       "    </tr>\n",
       "  </thead>\n",
       "  <tbody>\n",
       "    <tr>\n",
       "      <th>0</th>\n",
       "      <td>AA</td>\n",
       "      <td>5052</td>\n",
       "      <td>OH</td>\n",
       "      <td>N557NN</td>\n",
       "      <td>11057</td>\n",
       "      <td>11995</td>\n",
       "      <td>1634</td>\n",
       "      <td>1733</td>\n",
       "      <td>-4.0</td>\n",
       "      <td>59</td>\n",
       "      <td>83</td>\n",
       "      <td>11</td>\n",
       "      <td>2</td>\n",
       "      <td>27</td>\n",
       "      <td>2019</td>\n",
       "      <td>0</td>\n",
       "    </tr>\n",
       "    <tr>\n",
       "      <th>1</th>\n",
       "      <td>AA</td>\n",
       "      <td>5812</td>\n",
       "      <td>YV</td>\n",
       "      <td>N952LR</td>\n",
       "      <td>13851</td>\n",
       "      <td>11298</td>\n",
       "      <td>1652</td>\n",
       "      <td>1802</td>\n",
       "      <td>24.0</td>\n",
       "      <td>70</td>\n",
       "      <td>175</td>\n",
       "      <td>12</td>\n",
       "      <td>3</td>\n",
       "      <td>26</td>\n",
       "      <td>2019</td>\n",
       "      <td>1</td>\n",
       "    </tr>\n",
       "    <tr>\n",
       "      <th>2</th>\n",
       "      <td>WN</td>\n",
       "      <td>1270</td>\n",
       "      <td>WN</td>\n",
       "      <td>N962WN</td>\n",
       "      <td>15304</td>\n",
       "      <td>14730</td>\n",
       "      <td>955</td>\n",
       "      <td>1155</td>\n",
       "      <td>0.0</td>\n",
       "      <td>120</td>\n",
       "      <td>727</td>\n",
       "      <td>10</td>\n",
       "      <td>3</td>\n",
       "      <td>25</td>\n",
       "      <td>2018</td>\n",
       "      <td>0</td>\n",
       "    </tr>\n",
       "    <tr>\n",
       "      <th>3</th>\n",
       "      <td>DL</td>\n",
       "      <td>2031</td>\n",
       "      <td>DL</td>\n",
       "      <td>N979AT</td>\n",
       "      <td>10397</td>\n",
       "      <td>15624</td>\n",
       "      <td>1342</td>\n",
       "      <td>1353</td>\n",
       "      <td>31.0</td>\n",
       "      <td>71</td>\n",
       "      <td>250</td>\n",
       "      <td>6</td>\n",
       "      <td>0</td>\n",
       "      <td>25</td>\n",
       "      <td>2018</td>\n",
       "      <td>1</td>\n",
       "    </tr>\n",
       "    <tr>\n",
       "      <th>4</th>\n",
       "      <td>B6</td>\n",
       "      <td>2705</td>\n",
       "      <td>B6</td>\n",
       "      <td>N547JB</td>\n",
       "      <td>11618</td>\n",
       "      <td>11697</td>\n",
       "      <td>1646</td>\n",
       "      <td>1952</td>\n",
       "      <td>-10.0</td>\n",
       "      <td>186</td>\n",
       "      <td>1065</td>\n",
       "      <td>11</td>\n",
       "      <td>2</td>\n",
       "      <td>20</td>\n",
       "      <td>2019</td>\n",
       "      <td>0</td>\n",
       "    </tr>\n",
       "    <tr>\n",
       "      <th>...</th>\n",
       "      <td>...</td>\n",
       "      <td>...</td>\n",
       "      <td>...</td>\n",
       "      <td>...</td>\n",
       "      <td>...</td>\n",
       "      <td>...</td>\n",
       "      <td>...</td>\n",
       "      <td>...</td>\n",
       "      <td>...</td>\n",
       "      <td>...</td>\n",
       "      <td>...</td>\n",
       "      <td>...</td>\n",
       "      <td>...</td>\n",
       "      <td>...</td>\n",
       "      <td>...</td>\n",
       "      <td>...</td>\n",
       "    </tr>\n",
       "    <tr>\n",
       "      <th>99995</th>\n",
       "      <td>NK</td>\n",
       "      <td>292</td>\n",
       "      <td>NK</td>\n",
       "      <td>N667NK</td>\n",
       "      <td>12889</td>\n",
       "      <td>12266</td>\n",
       "      <td>1845</td>\n",
       "      <td>2342</td>\n",
       "      <td>-9.0</td>\n",
       "      <td>177</td>\n",
       "      <td>1222</td>\n",
       "      <td>12</td>\n",
       "      <td>6</td>\n",
       "      <td>2</td>\n",
       "      <td>2018</td>\n",
       "      <td>0</td>\n",
       "    </tr>\n",
       "    <tr>\n",
       "      <th>99996</th>\n",
       "      <td>AA</td>\n",
       "      <td>1537</td>\n",
       "      <td>AA</td>\n",
       "      <td>N352PS</td>\n",
       "      <td>14492</td>\n",
       "      <td>13930</td>\n",
       "      <td>1450</td>\n",
       "      <td>1611</td>\n",
       "      <td>18.0</td>\n",
       "      <td>141</td>\n",
       "      <td>646</td>\n",
       "      <td>6</td>\n",
       "      <td>5</td>\n",
       "      <td>29</td>\n",
       "      <td>2019</td>\n",
       "      <td>1</td>\n",
       "    </tr>\n",
       "    <tr>\n",
       "      <th>99997</th>\n",
       "      <td>DL</td>\n",
       "      <td>4293</td>\n",
       "      <td>OO</td>\n",
       "      <td>N875AS</td>\n",
       "      <td>12003</td>\n",
       "      <td>14869</td>\n",
       "      <td>1759</td>\n",
       "      <td>1944</td>\n",
       "      <td>-14.0</td>\n",
       "      <td>105</td>\n",
       "      <td>463</td>\n",
       "      <td>12</td>\n",
       "      <td>0</td>\n",
       "      <td>17</td>\n",
       "      <td>2018</td>\n",
       "      <td>0</td>\n",
       "    </tr>\n",
       "    <tr>\n",
       "      <th>99998</th>\n",
       "      <td>WN</td>\n",
       "      <td>5594</td>\n",
       "      <td>WN</td>\n",
       "      <td>N8694E</td>\n",
       "      <td>14107</td>\n",
       "      <td>13232</td>\n",
       "      <td>1445</td>\n",
       "      <td>2000</td>\n",
       "      <td>-11.0</td>\n",
       "      <td>195</td>\n",
       "      <td>1444</td>\n",
       "      <td>3</td>\n",
       "      <td>0</td>\n",
       "      <td>19</td>\n",
       "      <td>2018</td>\n",
       "      <td>0</td>\n",
       "    </tr>\n",
       "    <tr>\n",
       "      <th>99999</th>\n",
       "      <td>NK</td>\n",
       "      <td>622</td>\n",
       "      <td>NK</td>\n",
       "      <td>N609NK</td>\n",
       "      <td>13198</td>\n",
       "      <td>12889</td>\n",
       "      <td>1825</td>\n",
       "      <td>1927</td>\n",
       "      <td>-3.0</td>\n",
       "      <td>182</td>\n",
       "      <td>1139</td>\n",
       "      <td>4</td>\n",
       "      <td>0</td>\n",
       "      <td>22</td>\n",
       "      <td>2019</td>\n",
       "      <td>0</td>\n",
       "    </tr>\n",
       "  </tbody>\n",
       "</table>\n",
       "<p>100000 rows × 16 columns</p>\n",
       "</div>"
      ],
      "text/plain": [
       "      mkt_carrier  mkt_carrier_fl_num op_unique_carrier tail_num  \\\n",
       "0              AA                5052                OH   N557NN   \n",
       "1              AA                5812                YV   N952LR   \n",
       "2              WN                1270                WN   N962WN   \n",
       "3              DL                2031                DL   N979AT   \n",
       "4              B6                2705                B6   N547JB   \n",
       "...           ...                 ...               ...      ...   \n",
       "99995          NK                 292                NK   N667NK   \n",
       "99996          AA                1537                AA   N352PS   \n",
       "99997          DL                4293                OO   N875AS   \n",
       "99998          WN                5594                WN   N8694E   \n",
       "99999          NK                 622                NK   N609NK   \n",
       "\n",
       "       origin_airport_id  dest_airport_id  crs_dep_time  crs_arr_time  \\\n",
       "0                  11057            11995          1634          1733   \n",
       "1                  13851            11298          1652          1802   \n",
       "2                  15304            14730           955          1155   \n",
       "3                  10397            15624          1342          1353   \n",
       "4                  11618            11697          1646          1952   \n",
       "...                  ...              ...           ...           ...   \n",
       "99995              12889            12266          1845          2342   \n",
       "99996              14492            13930          1450          1611   \n",
       "99997              12003            14869          1759          1944   \n",
       "99998              14107            13232          1445          2000   \n",
       "99999              13198            12889          1825          1927   \n",
       "\n",
       "       arr_delay  crs_elapsed_time  distance  month  day_of_week  \\\n",
       "0           -4.0                59        83     11            2   \n",
       "1           24.0                70       175     12            3   \n",
       "2            0.0               120       727     10            3   \n",
       "3           31.0                71       250      6            0   \n",
       "4          -10.0               186      1065     11            2   \n",
       "...          ...               ...       ...    ...          ...   \n",
       "99995       -9.0               177      1222     12            6   \n",
       "99996       18.0               141       646      6            5   \n",
       "99997      -14.0               105       463     12            0   \n",
       "99998      -11.0               195      1444      3            0   \n",
       "99999       -3.0               182      1139      4            0   \n",
       "\n",
       "       day_of_month  year  arr_delay_cat  \n",
       "0                27  2019              0  \n",
       "1                26  2019              1  \n",
       "2                25  2018              0  \n",
       "3                25  2018              1  \n",
       "4                20  2019              0  \n",
       "...             ...   ...            ...  \n",
       "99995             2  2018              0  \n",
       "99996            29  2019              1  \n",
       "99997            17  2018              0  \n",
       "99998            19  2018              0  \n",
       "99999            22  2019              0  \n",
       "\n",
       "[100000 rows x 16 columns]"
      ]
     },
     "execution_count": 89,
     "metadata": {},
     "output_type": "execute_result"
    }
   ],
   "source": [
    "flights1['arr_delay_cat'] = flights1['arr_delay'].apply(lambda x: 1 if x > 5 else 0)\n",
    "flights1"
   ]
  },
  {
   "cell_type": "markdown",
   "metadata": {},
   "source": [
    "* make the types categories"
   ]
  },
  {
   "cell_type": "code",
   "execution_count": 90,
   "metadata": {},
   "outputs": [],
   "source": [
    "#flights1[\"mkt_unique_carrier\"] = flights1[\"mkt_unique_carrier\"].astype(\"category\")\n",
    "flights1[\"mkt_carrier\"] = flights1[\"mkt_carrier\"].astype(\"category\")\n",
    "flights1[\"op_unique_carrier\"] = flights1[\"op_unique_carrier\"].astype(\"category\")\n",
    "flights1[\"tail_num\"] = flights1[\"tail_num\"].astype(\"category\")\n",
    "#flights1[\"op_carrier_fl_num\"] = flights1[\"op_carrier_fl_num\"].astype(\"category\")\n",
    "flights1[\"origin_airport_id\"] = flights1[\"origin_airport_id\"].astype(\"category\")\n",
    "flights1[\"dest_airport_id\"] = flights1[\"dest_airport_id\"].astype(\"category\")\n",
    "flights1[\"mkt_carrier_fl_num\"] = flights1[\"mkt_carrier_fl_num\"].astype(\"category\")\n",
    "flights1[\"arr_delay_cat\"] = flights1[\"arr_delay_cat\"].astype(\"category\")"
   ]
  },
  {
   "cell_type": "code",
   "execution_count": 91,
   "metadata": {},
   "outputs": [
    {
     "data": {
      "text/plain": [
       "mkt_carrier           category\n",
       "mkt_carrier_fl_num    category\n",
       "op_unique_carrier     category\n",
       "tail_num              category\n",
       "origin_airport_id     category\n",
       "dest_airport_id       category\n",
       "crs_dep_time             int64\n",
       "crs_arr_time             int64\n",
       "arr_delay              float64\n",
       "crs_elapsed_time         int64\n",
       "distance                 int64\n",
       "month                    int64\n",
       "day_of_week              int64\n",
       "day_of_month             int64\n",
       "year                     int64\n",
       "arr_delay_cat         category\n",
       "dtype: object"
      ]
     },
     "execution_count": 91,
     "metadata": {},
     "output_type": "execute_result"
    }
   ],
   "source": [
    "flights1.dtypes"
   ]
  },
  {
   "cell_type": "markdown",
   "metadata": {},
   "source": [
    "* make arr_delay categorial"
   ]
  },
  {
   "cell_type": "code",
   "execution_count": 92,
   "metadata": {},
   "outputs": [],
   "source": [
    "# ENCODE AIRPORTS AND TAILNUM\n",
    "from sklearn.preprocessing import OrdinalEncoder\n",
    "encoder = OrdinalEncoder()\n",
    "flights1['mkt_carrier'] = encoder.fit_transform(flights1[['mkt_carrier']])\n",
    "#flights1['mkt_unique_carrier'] = encoder.fit_transform(flights1[['mkt_unique_carrier']])\n",
    "flights1['mkt_carrier_fl_num'] = encoder.fit_transform(flights1[['mkt_carrier_fl_num']])\n",
    "flights1['op_unique_carrier'] = encoder.fit_transform(flights1[['op_unique_carrier']])\n",
    "flights1['tail_num'] = encoder.fit_transform(flights1[['tail_num']])\n",
    "#flights1['op_carrier_fl_num'] = encoder.fit_transform(flights1[['op_carrier_fl_num']])\n",
    "flights1['origin_airport_id'] = encoder.fit_transform(flights1[['origin_airport_id']])\n",
    "flights1['dest_airport_id'] = encoder.fit_transform(flights1[['dest_airport_id']])"
   ]
  },
  {
   "cell_type": "code",
   "execution_count": 93,
   "metadata": {},
   "outputs": [
    {
     "data": {
      "text/html": [
       "<div>\n",
       "<style scoped>\n",
       "    .dataframe tbody tr th:only-of-type {\n",
       "        vertical-align: middle;\n",
       "    }\n",
       "\n",
       "    .dataframe tbody tr th {\n",
       "        vertical-align: top;\n",
       "    }\n",
       "\n",
       "    .dataframe thead th {\n",
       "        text-align: right;\n",
       "    }\n",
       "</style>\n",
       "<table border=\"1\" class=\"dataframe\">\n",
       "  <thead>\n",
       "    <tr style=\"text-align: right;\">\n",
       "      <th></th>\n",
       "      <th>mkt_carrier</th>\n",
       "      <th>mkt_carrier_fl_num</th>\n",
       "      <th>op_unique_carrier</th>\n",
       "      <th>tail_num</th>\n",
       "      <th>origin_airport_id</th>\n",
       "      <th>dest_airport_id</th>\n",
       "      <th>crs_dep_time</th>\n",
       "      <th>crs_arr_time</th>\n",
       "      <th>arr_delay</th>\n",
       "      <th>crs_elapsed_time</th>\n",
       "      <th>distance</th>\n",
       "      <th>month</th>\n",
       "      <th>day_of_week</th>\n",
       "      <th>day_of_month</th>\n",
       "      <th>year</th>\n",
       "      <th>arr_delay_cat</th>\n",
       "    </tr>\n",
       "  </thead>\n",
       "  <tbody>\n",
       "    <tr>\n",
       "      <th>0</th>\n",
       "      <td>0.0</td>\n",
       "      <td>5044.0</td>\n",
       "      <td>18.0</td>\n",
       "      <td>2732.0</td>\n",
       "      <td>75.0</td>\n",
       "      <td>145.0</td>\n",
       "      <td>1634</td>\n",
       "      <td>1733</td>\n",
       "      <td>-4.0</td>\n",
       "      <td>59</td>\n",
       "      <td>83</td>\n",
       "      <td>11</td>\n",
       "      <td>2</td>\n",
       "      <td>27</td>\n",
       "      <td>2019</td>\n",
       "      <td>0</td>\n",
       "    </tr>\n",
       "    <tr>\n",
       "      <th>1</th>\n",
       "      <td>0.0</td>\n",
       "      <td>5804.0</td>\n",
       "      <td>25.0</td>\n",
       "      <td>5792.0</td>\n",
       "      <td>251.0</td>\n",
       "      <td>95.0</td>\n",
       "      <td>1652</td>\n",
       "      <td>1802</td>\n",
       "      <td>24.0</td>\n",
       "      <td>70</td>\n",
       "      <td>175</td>\n",
       "      <td>12</td>\n",
       "      <td>3</td>\n",
       "      <td>26</td>\n",
       "      <td>2019</td>\n",
       "      <td>1</td>\n",
       "    </tr>\n",
       "    <tr>\n",
       "      <th>2</th>\n",
       "      <td>10.0</td>\n",
       "      <td>1266.0</td>\n",
       "      <td>24.0</td>\n",
       "      <td>5905.0</td>\n",
       "      <td>351.0</td>\n",
       "      <td>318.0</td>\n",
       "      <td>955</td>\n",
       "      <td>1155</td>\n",
       "      <td>0.0</td>\n",
       "      <td>120</td>\n",
       "      <td>727</td>\n",
       "      <td>10</td>\n",
       "      <td>3</td>\n",
       "      <td>25</td>\n",
       "      <td>2018</td>\n",
       "      <td>0</td>\n",
       "    </tr>\n",
       "    <tr>\n",
       "      <th>3</th>\n",
       "      <td>3.0</td>\n",
       "      <td>2027.0</td>\n",
       "      <td>8.0</td>\n",
       "      <td>6038.0</td>\n",
       "      <td>22.0</td>\n",
       "      <td>364.0</td>\n",
       "      <td>1342</td>\n",
       "      <td>1353</td>\n",
       "      <td>31.0</td>\n",
       "      <td>71</td>\n",
       "      <td>250</td>\n",
       "      <td>6</td>\n",
       "      <td>0</td>\n",
       "      <td>25</td>\n",
       "      <td>2018</td>\n",
       "      <td>1</td>\n",
       "    </tr>\n",
       "    <tr>\n",
       "      <th>4</th>\n",
       "      <td>2.0</td>\n",
       "      <td>2701.0</td>\n",
       "      <td>5.0</td>\n",
       "      <td>2683.0</td>\n",
       "      <td>120.0</td>\n",
       "      <td>127.0</td>\n",
       "      <td>1646</td>\n",
       "      <td>1952</td>\n",
       "      <td>-10.0</td>\n",
       "      <td>186</td>\n",
       "      <td>1065</td>\n",
       "      <td>11</td>\n",
       "      <td>2</td>\n",
       "      <td>20</td>\n",
       "      <td>2019</td>\n",
       "      <td>0</td>\n",
       "    </tr>\n",
       "    <tr>\n",
       "      <th>...</th>\n",
       "      <td>...</td>\n",
       "      <td>...</td>\n",
       "      <td>...</td>\n",
       "      <td>...</td>\n",
       "      <td>...</td>\n",
       "      <td>...</td>\n",
       "      <td>...</td>\n",
       "      <td>...</td>\n",
       "      <td>...</td>\n",
       "      <td>...</td>\n",
       "      <td>...</td>\n",
       "      <td>...</td>\n",
       "      <td>...</td>\n",
       "      <td>...</td>\n",
       "      <td>...</td>\n",
       "      <td>...</td>\n",
       "    </tr>\n",
       "    <tr>\n",
       "      <th>99995</th>\n",
       "      <td>7.0</td>\n",
       "      <td>290.0</td>\n",
       "      <td>17.0</td>\n",
       "      <td>3356.0</td>\n",
       "      <td>193.0</td>\n",
       "      <td>167.0</td>\n",
       "      <td>1845</td>\n",
       "      <td>2342</td>\n",
       "      <td>-9.0</td>\n",
       "      <td>177</td>\n",
       "      <td>1222</td>\n",
       "      <td>12</td>\n",
       "      <td>6</td>\n",
       "      <td>2</td>\n",
       "      <td>2018</td>\n",
       "      <td>0</td>\n",
       "    </tr>\n",
       "    <tr>\n",
       "      <th>99996</th>\n",
       "      <td>0.0</td>\n",
       "      <td>1533.0</td>\n",
       "      <td>2.0</td>\n",
       "      <td>1651.0</td>\n",
       "      <td>295.0</td>\n",
       "      <td>255.0</td>\n",
       "      <td>1450</td>\n",
       "      <td>1611</td>\n",
       "      <td>18.0</td>\n",
       "      <td>141</td>\n",
       "      <td>646</td>\n",
       "      <td>6</td>\n",
       "      <td>5</td>\n",
       "      <td>29</td>\n",
       "      <td>2019</td>\n",
       "      <td>1</td>\n",
       "    </tr>\n",
       "    <tr>\n",
       "      <th>99997</th>\n",
       "      <td>3.0</td>\n",
       "      <td>4285.0</td>\n",
       "      <td>19.0</td>\n",
       "      <td>5006.0</td>\n",
       "      <td>148.0</td>\n",
       "      <td>330.0</td>\n",
       "      <td>1759</td>\n",
       "      <td>1944</td>\n",
       "      <td>-14.0</td>\n",
       "      <td>105</td>\n",
       "      <td>463</td>\n",
       "      <td>12</td>\n",
       "      <td>0</td>\n",
       "      <td>17</td>\n",
       "      <td>2018</td>\n",
       "      <td>0</td>\n",
       "    </tr>\n",
       "    <tr>\n",
       "      <th>99998</th>\n",
       "      <td>10.0</td>\n",
       "      <td>5586.0</td>\n",
       "      <td>24.0</td>\n",
       "      <td>4929.0</td>\n",
       "      <td>270.0</td>\n",
       "      <td>219.0</td>\n",
       "      <td>1445</td>\n",
       "      <td>2000</td>\n",
       "      <td>-11.0</td>\n",
       "      <td>195</td>\n",
       "      <td>1444</td>\n",
       "      <td>3</td>\n",
       "      <td>0</td>\n",
       "      <td>19</td>\n",
       "      <td>2018</td>\n",
       "      <td>0</td>\n",
       "    </tr>\n",
       "    <tr>\n",
       "      <th>99999</th>\n",
       "      <td>7.0</td>\n",
       "      <td>620.0</td>\n",
       "      <td>17.0</td>\n",
       "      <td>2995.0</td>\n",
       "      <td>217.0</td>\n",
       "      <td>192.0</td>\n",
       "      <td>1825</td>\n",
       "      <td>1927</td>\n",
       "      <td>-3.0</td>\n",
       "      <td>182</td>\n",
       "      <td>1139</td>\n",
       "      <td>4</td>\n",
       "      <td>0</td>\n",
       "      <td>22</td>\n",
       "      <td>2019</td>\n",
       "      <td>0</td>\n",
       "    </tr>\n",
       "  </tbody>\n",
       "</table>\n",
       "<p>100000 rows × 16 columns</p>\n",
       "</div>"
      ],
      "text/plain": [
       "       mkt_carrier  mkt_carrier_fl_num  op_unique_carrier  tail_num  \\\n",
       "0              0.0              5044.0               18.0    2732.0   \n",
       "1              0.0              5804.0               25.0    5792.0   \n",
       "2             10.0              1266.0               24.0    5905.0   \n",
       "3              3.0              2027.0                8.0    6038.0   \n",
       "4              2.0              2701.0                5.0    2683.0   \n",
       "...            ...                 ...                ...       ...   \n",
       "99995          7.0               290.0               17.0    3356.0   \n",
       "99996          0.0              1533.0                2.0    1651.0   \n",
       "99997          3.0              4285.0               19.0    5006.0   \n",
       "99998         10.0              5586.0               24.0    4929.0   \n",
       "99999          7.0               620.0               17.0    2995.0   \n",
       "\n",
       "       origin_airport_id  dest_airport_id  crs_dep_time  crs_arr_time  \\\n",
       "0                   75.0            145.0          1634          1733   \n",
       "1                  251.0             95.0          1652          1802   \n",
       "2                  351.0            318.0           955          1155   \n",
       "3                   22.0            364.0          1342          1353   \n",
       "4                  120.0            127.0          1646          1952   \n",
       "...                  ...              ...           ...           ...   \n",
       "99995              193.0            167.0          1845          2342   \n",
       "99996              295.0            255.0          1450          1611   \n",
       "99997              148.0            330.0          1759          1944   \n",
       "99998              270.0            219.0          1445          2000   \n",
       "99999              217.0            192.0          1825          1927   \n",
       "\n",
       "       arr_delay  crs_elapsed_time  distance  month  day_of_week  \\\n",
       "0           -4.0                59        83     11            2   \n",
       "1           24.0                70       175     12            3   \n",
       "2            0.0               120       727     10            3   \n",
       "3           31.0                71       250      6            0   \n",
       "4          -10.0               186      1065     11            2   \n",
       "...          ...               ...       ...    ...          ...   \n",
       "99995       -9.0               177      1222     12            6   \n",
       "99996       18.0               141       646      6            5   \n",
       "99997      -14.0               105       463     12            0   \n",
       "99998      -11.0               195      1444      3            0   \n",
       "99999       -3.0               182      1139      4            0   \n",
       "\n",
       "       day_of_month  year arr_delay_cat  \n",
       "0                27  2019             0  \n",
       "1                26  2019             1  \n",
       "2                25  2018             0  \n",
       "3                25  2018             1  \n",
       "4                20  2019             0  \n",
       "...             ...   ...           ...  \n",
       "99995             2  2018             0  \n",
       "99996            29  2019             1  \n",
       "99997            17  2018             0  \n",
       "99998            19  2018             0  \n",
       "99999            22  2019             0  \n",
       "\n",
       "[100000 rows x 16 columns]"
      ]
     },
     "execution_count": 93,
     "metadata": {},
     "output_type": "execute_result"
    }
   ],
   "source": [
    "flights1"
   ]
  },
  {
   "cell_type": "code",
   "execution_count": 94,
   "metadata": {},
   "outputs": [],
   "source": [
    "flights2 = flights1.copy()\n",
    "flights_cat = flights2.drop(['arr_delay'], axis=1)"
   ]
  },
  {
   "cell_type": "code",
   "execution_count": 95,
   "metadata": {},
   "outputs": [
    {
     "data": {
      "text/html": [
       "<div>\n",
       "<style scoped>\n",
       "    .dataframe tbody tr th:only-of-type {\n",
       "        vertical-align: middle;\n",
       "    }\n",
       "\n",
       "    .dataframe tbody tr th {\n",
       "        vertical-align: top;\n",
       "    }\n",
       "\n",
       "    .dataframe thead th {\n",
       "        text-align: right;\n",
       "    }\n",
       "</style>\n",
       "<table border=\"1\" class=\"dataframe\">\n",
       "  <thead>\n",
       "    <tr style=\"text-align: right;\">\n",
       "      <th></th>\n",
       "      <th>mkt_carrier</th>\n",
       "      <th>mkt_carrier_fl_num</th>\n",
       "      <th>op_unique_carrier</th>\n",
       "      <th>tail_num</th>\n",
       "      <th>origin_airport_id</th>\n",
       "      <th>dest_airport_id</th>\n",
       "      <th>crs_dep_time</th>\n",
       "      <th>crs_arr_time</th>\n",
       "      <th>crs_elapsed_time</th>\n",
       "      <th>distance</th>\n",
       "      <th>month</th>\n",
       "      <th>day_of_week</th>\n",
       "      <th>day_of_month</th>\n",
       "      <th>year</th>\n",
       "      <th>arr_delay_cat</th>\n",
       "    </tr>\n",
       "  </thead>\n",
       "  <tbody>\n",
       "    <tr>\n",
       "      <th>0</th>\n",
       "      <td>0.0</td>\n",
       "      <td>5044.0</td>\n",
       "      <td>18.0</td>\n",
       "      <td>2732.0</td>\n",
       "      <td>75.0</td>\n",
       "      <td>145.0</td>\n",
       "      <td>1634</td>\n",
       "      <td>1733</td>\n",
       "      <td>59</td>\n",
       "      <td>83</td>\n",
       "      <td>11</td>\n",
       "      <td>2</td>\n",
       "      <td>27</td>\n",
       "      <td>2019</td>\n",
       "      <td>0</td>\n",
       "    </tr>\n",
       "    <tr>\n",
       "      <th>1</th>\n",
       "      <td>0.0</td>\n",
       "      <td>5804.0</td>\n",
       "      <td>25.0</td>\n",
       "      <td>5792.0</td>\n",
       "      <td>251.0</td>\n",
       "      <td>95.0</td>\n",
       "      <td>1652</td>\n",
       "      <td>1802</td>\n",
       "      <td>70</td>\n",
       "      <td>175</td>\n",
       "      <td>12</td>\n",
       "      <td>3</td>\n",
       "      <td>26</td>\n",
       "      <td>2019</td>\n",
       "      <td>1</td>\n",
       "    </tr>\n",
       "    <tr>\n",
       "      <th>2</th>\n",
       "      <td>10.0</td>\n",
       "      <td>1266.0</td>\n",
       "      <td>24.0</td>\n",
       "      <td>5905.0</td>\n",
       "      <td>351.0</td>\n",
       "      <td>318.0</td>\n",
       "      <td>955</td>\n",
       "      <td>1155</td>\n",
       "      <td>120</td>\n",
       "      <td>727</td>\n",
       "      <td>10</td>\n",
       "      <td>3</td>\n",
       "      <td>25</td>\n",
       "      <td>2018</td>\n",
       "      <td>0</td>\n",
       "    </tr>\n",
       "    <tr>\n",
       "      <th>3</th>\n",
       "      <td>3.0</td>\n",
       "      <td>2027.0</td>\n",
       "      <td>8.0</td>\n",
       "      <td>6038.0</td>\n",
       "      <td>22.0</td>\n",
       "      <td>364.0</td>\n",
       "      <td>1342</td>\n",
       "      <td>1353</td>\n",
       "      <td>71</td>\n",
       "      <td>250</td>\n",
       "      <td>6</td>\n",
       "      <td>0</td>\n",
       "      <td>25</td>\n",
       "      <td>2018</td>\n",
       "      <td>1</td>\n",
       "    </tr>\n",
       "    <tr>\n",
       "      <th>4</th>\n",
       "      <td>2.0</td>\n",
       "      <td>2701.0</td>\n",
       "      <td>5.0</td>\n",
       "      <td>2683.0</td>\n",
       "      <td>120.0</td>\n",
       "      <td>127.0</td>\n",
       "      <td>1646</td>\n",
       "      <td>1952</td>\n",
       "      <td>186</td>\n",
       "      <td>1065</td>\n",
       "      <td>11</td>\n",
       "      <td>2</td>\n",
       "      <td>20</td>\n",
       "      <td>2019</td>\n",
       "      <td>0</td>\n",
       "    </tr>\n",
       "    <tr>\n",
       "      <th>...</th>\n",
       "      <td>...</td>\n",
       "      <td>...</td>\n",
       "      <td>...</td>\n",
       "      <td>...</td>\n",
       "      <td>...</td>\n",
       "      <td>...</td>\n",
       "      <td>...</td>\n",
       "      <td>...</td>\n",
       "      <td>...</td>\n",
       "      <td>...</td>\n",
       "      <td>...</td>\n",
       "      <td>...</td>\n",
       "      <td>...</td>\n",
       "      <td>...</td>\n",
       "      <td>...</td>\n",
       "    </tr>\n",
       "    <tr>\n",
       "      <th>99995</th>\n",
       "      <td>7.0</td>\n",
       "      <td>290.0</td>\n",
       "      <td>17.0</td>\n",
       "      <td>3356.0</td>\n",
       "      <td>193.0</td>\n",
       "      <td>167.0</td>\n",
       "      <td>1845</td>\n",
       "      <td>2342</td>\n",
       "      <td>177</td>\n",
       "      <td>1222</td>\n",
       "      <td>12</td>\n",
       "      <td>6</td>\n",
       "      <td>2</td>\n",
       "      <td>2018</td>\n",
       "      <td>0</td>\n",
       "    </tr>\n",
       "    <tr>\n",
       "      <th>99996</th>\n",
       "      <td>0.0</td>\n",
       "      <td>1533.0</td>\n",
       "      <td>2.0</td>\n",
       "      <td>1651.0</td>\n",
       "      <td>295.0</td>\n",
       "      <td>255.0</td>\n",
       "      <td>1450</td>\n",
       "      <td>1611</td>\n",
       "      <td>141</td>\n",
       "      <td>646</td>\n",
       "      <td>6</td>\n",
       "      <td>5</td>\n",
       "      <td>29</td>\n",
       "      <td>2019</td>\n",
       "      <td>1</td>\n",
       "    </tr>\n",
       "    <tr>\n",
       "      <th>99997</th>\n",
       "      <td>3.0</td>\n",
       "      <td>4285.0</td>\n",
       "      <td>19.0</td>\n",
       "      <td>5006.0</td>\n",
       "      <td>148.0</td>\n",
       "      <td>330.0</td>\n",
       "      <td>1759</td>\n",
       "      <td>1944</td>\n",
       "      <td>105</td>\n",
       "      <td>463</td>\n",
       "      <td>12</td>\n",
       "      <td>0</td>\n",
       "      <td>17</td>\n",
       "      <td>2018</td>\n",
       "      <td>0</td>\n",
       "    </tr>\n",
       "    <tr>\n",
       "      <th>99998</th>\n",
       "      <td>10.0</td>\n",
       "      <td>5586.0</td>\n",
       "      <td>24.0</td>\n",
       "      <td>4929.0</td>\n",
       "      <td>270.0</td>\n",
       "      <td>219.0</td>\n",
       "      <td>1445</td>\n",
       "      <td>2000</td>\n",
       "      <td>195</td>\n",
       "      <td>1444</td>\n",
       "      <td>3</td>\n",
       "      <td>0</td>\n",
       "      <td>19</td>\n",
       "      <td>2018</td>\n",
       "      <td>0</td>\n",
       "    </tr>\n",
       "    <tr>\n",
       "      <th>99999</th>\n",
       "      <td>7.0</td>\n",
       "      <td>620.0</td>\n",
       "      <td>17.0</td>\n",
       "      <td>2995.0</td>\n",
       "      <td>217.0</td>\n",
       "      <td>192.0</td>\n",
       "      <td>1825</td>\n",
       "      <td>1927</td>\n",
       "      <td>182</td>\n",
       "      <td>1139</td>\n",
       "      <td>4</td>\n",
       "      <td>0</td>\n",
       "      <td>22</td>\n",
       "      <td>2019</td>\n",
       "      <td>0</td>\n",
       "    </tr>\n",
       "  </tbody>\n",
       "</table>\n",
       "<p>100000 rows × 15 columns</p>\n",
       "</div>"
      ],
      "text/plain": [
       "       mkt_carrier  mkt_carrier_fl_num  op_unique_carrier  tail_num  \\\n",
       "0              0.0              5044.0               18.0    2732.0   \n",
       "1              0.0              5804.0               25.0    5792.0   \n",
       "2             10.0              1266.0               24.0    5905.0   \n",
       "3              3.0              2027.0                8.0    6038.0   \n",
       "4              2.0              2701.0                5.0    2683.0   \n",
       "...            ...                 ...                ...       ...   \n",
       "99995          7.0               290.0               17.0    3356.0   \n",
       "99996          0.0              1533.0                2.0    1651.0   \n",
       "99997          3.0              4285.0               19.0    5006.0   \n",
       "99998         10.0              5586.0               24.0    4929.0   \n",
       "99999          7.0               620.0               17.0    2995.0   \n",
       "\n",
       "       origin_airport_id  dest_airport_id  crs_dep_time  crs_arr_time  \\\n",
       "0                   75.0            145.0          1634          1733   \n",
       "1                  251.0             95.0          1652          1802   \n",
       "2                  351.0            318.0           955          1155   \n",
       "3                   22.0            364.0          1342          1353   \n",
       "4                  120.0            127.0          1646          1952   \n",
       "...                  ...              ...           ...           ...   \n",
       "99995              193.0            167.0          1845          2342   \n",
       "99996              295.0            255.0          1450          1611   \n",
       "99997              148.0            330.0          1759          1944   \n",
       "99998              270.0            219.0          1445          2000   \n",
       "99999              217.0            192.0          1825          1927   \n",
       "\n",
       "       crs_elapsed_time  distance  month  day_of_week  day_of_month  year  \\\n",
       "0                    59        83     11            2            27  2019   \n",
       "1                    70       175     12            3            26  2019   \n",
       "2                   120       727     10            3            25  2018   \n",
       "3                    71       250      6            0            25  2018   \n",
       "4                   186      1065     11            2            20  2019   \n",
       "...                 ...       ...    ...          ...           ...   ...   \n",
       "99995               177      1222     12            6             2  2018   \n",
       "99996               141       646      6            5            29  2019   \n",
       "99997               105       463     12            0            17  2018   \n",
       "99998               195      1444      3            0            19  2018   \n",
       "99999               182      1139      4            0            22  2019   \n",
       "\n",
       "      arr_delay_cat  \n",
       "0                 0  \n",
       "1                 1  \n",
       "2                 0  \n",
       "3                 1  \n",
       "4                 0  \n",
       "...             ...  \n",
       "99995             0  \n",
       "99996             1  \n",
       "99997             0  \n",
       "99998             0  \n",
       "99999             0  \n",
       "\n",
       "[100000 rows x 15 columns]"
      ]
     },
     "execution_count": 95,
     "metadata": {},
     "output_type": "execute_result"
    }
   ],
   "source": [
    "flights_cat"
   ]
  },
  {
   "cell_type": "code",
   "execution_count": 96,
   "metadata": {},
   "outputs": [],
   "source": [
    "import seaborn as sns"
   ]
  },
  {
   "cell_type": "code",
   "execution_count": 97,
   "metadata": {},
   "outputs": [],
   "source": [
    "#sns.histplot(data = flights_cat, x='arr_delay_cat')"
   ]
  },
  {
   "cell_type": "code",
   "execution_count": 98,
   "metadata": {},
   "outputs": [
    {
     "data": {
      "text/html": [
       "<div>\n",
       "<style scoped>\n",
       "    .dataframe tbody tr th:only-of-type {\n",
       "        vertical-align: middle;\n",
       "    }\n",
       "\n",
       "    .dataframe tbody tr th {\n",
       "        vertical-align: top;\n",
       "    }\n",
       "\n",
       "    .dataframe thead th {\n",
       "        text-align: right;\n",
       "    }\n",
       "</style>\n",
       "<table border=\"1\" class=\"dataframe\">\n",
       "  <thead>\n",
       "    <tr style=\"text-align: right;\">\n",
       "      <th></th>\n",
       "      <th>mkt_carrier</th>\n",
       "      <th>mkt_carrier_fl_num</th>\n",
       "      <th>op_unique_carrier</th>\n",
       "      <th>tail_num</th>\n",
       "      <th>origin_airport_id</th>\n",
       "      <th>dest_airport_id</th>\n",
       "      <th>crs_dep_time</th>\n",
       "      <th>crs_arr_time</th>\n",
       "      <th>crs_elapsed_time</th>\n",
       "      <th>distance</th>\n",
       "      <th>month</th>\n",
       "      <th>day_of_week</th>\n",
       "      <th>day_of_month</th>\n",
       "      <th>year</th>\n",
       "    </tr>\n",
       "  </thead>\n",
       "  <tbody>\n",
       "    <tr>\n",
       "      <th>mkt_carrier</th>\n",
       "      <td>1.000000</td>\n",
       "      <td>-0.046108</td>\n",
       "      <td>0.600547</td>\n",
       "      <td>-0.019634</td>\n",
       "      <td>0.032450</td>\n",
       "      <td>0.027297</td>\n",
       "      <td>0.010414</td>\n",
       "      <td>0.002687</td>\n",
       "      <td>-0.016445</td>\n",
       "      <td>0.016598</td>\n",
       "      <td>-0.007962</td>\n",
       "      <td>0.000488</td>\n",
       "      <td>-0.001351</td>\n",
       "      <td>-0.005957</td>\n",
       "    </tr>\n",
       "    <tr>\n",
       "      <th>mkt_carrier_fl_num</th>\n",
       "      <td>-0.046108</td>\n",
       "      <td>1.000000</td>\n",
       "      <td>0.260990</td>\n",
       "      <td>-0.054267</td>\n",
       "      <td>-0.025794</td>\n",
       "      <td>-0.033332</td>\n",
       "      <td>-0.000246</td>\n",
       "      <td>0.009461</td>\n",
       "      <td>-0.335062</td>\n",
       "      <td>-0.366063</td>\n",
       "      <td>0.011229</td>\n",
       "      <td>0.054560</td>\n",
       "      <td>0.012991</td>\n",
       "      <td>-0.016524</td>\n",
       "    </tr>\n",
       "    <tr>\n",
       "      <th>op_unique_carrier</th>\n",
       "      <td>0.600547</td>\n",
       "      <td>0.260990</td>\n",
       "      <td>1.000000</td>\n",
       "      <td>-0.026575</td>\n",
       "      <td>0.043558</td>\n",
       "      <td>0.037257</td>\n",
       "      <td>0.008594</td>\n",
       "      <td>-0.003290</td>\n",
       "      <td>-0.179746</td>\n",
       "      <td>-0.159308</td>\n",
       "      <td>-0.004841</td>\n",
       "      <td>-0.000187</td>\n",
       "      <td>0.006346</td>\n",
       "      <td>-0.001587</td>\n",
       "    </tr>\n",
       "    <tr>\n",
       "      <th>tail_num</th>\n",
       "      <td>-0.019634</td>\n",
       "      <td>-0.054267</td>\n",
       "      <td>-0.026575</td>\n",
       "      <td>1.000000</td>\n",
       "      <td>-0.052000</td>\n",
       "      <td>-0.051812</td>\n",
       "      <td>0.001671</td>\n",
       "      <td>0.000083</td>\n",
       "      <td>-0.021559</td>\n",
       "      <td>-0.018048</td>\n",
       "      <td>-0.008968</td>\n",
       "      <td>-0.005848</td>\n",
       "      <td>-0.004404</td>\n",
       "      <td>-0.004178</td>\n",
       "    </tr>\n",
       "    <tr>\n",
       "      <th>origin_airport_id</th>\n",
       "      <td>0.032450</td>\n",
       "      <td>-0.025794</td>\n",
       "      <td>0.043558</td>\n",
       "      <td>-0.052000</td>\n",
       "      <td>1.000000</td>\n",
       "      <td>0.015309</td>\n",
       "      <td>-0.033332</td>\n",
       "      <td>-0.010478</td>\n",
       "      <td>0.053544</td>\n",
       "      <td>0.074384</td>\n",
       "      <td>0.002490</td>\n",
       "      <td>0.000610</td>\n",
       "      <td>-0.003025</td>\n",
       "      <td>-0.001509</td>\n",
       "    </tr>\n",
       "    <tr>\n",
       "      <th>dest_airport_id</th>\n",
       "      <td>0.027297</td>\n",
       "      <td>-0.033332</td>\n",
       "      <td>0.037257</td>\n",
       "      <td>-0.051812</td>\n",
       "      <td>0.015309</td>\n",
       "      <td>1.000000</td>\n",
       "      <td>0.025416</td>\n",
       "      <td>0.017996</td>\n",
       "      <td>0.086315</td>\n",
       "      <td>0.075890</td>\n",
       "      <td>-0.000078</td>\n",
       "      <td>0.005197</td>\n",
       "      <td>-0.000135</td>\n",
       "      <td>-0.004282</td>\n",
       "    </tr>\n",
       "    <tr>\n",
       "      <th>crs_dep_time</th>\n",
       "      <td>0.010414</td>\n",
       "      <td>-0.000246</td>\n",
       "      <td>0.008594</td>\n",
       "      <td>0.001671</td>\n",
       "      <td>-0.033332</td>\n",
       "      <td>0.025416</td>\n",
       "      <td>1.000000</td>\n",
       "      <td>0.695884</td>\n",
       "      <td>-0.016594</td>\n",
       "      <td>-0.007990</td>\n",
       "      <td>0.000424</td>\n",
       "      <td>0.002489</td>\n",
       "      <td>0.001827</td>\n",
       "      <td>0.000918</td>\n",
       "    </tr>\n",
       "    <tr>\n",
       "      <th>crs_arr_time</th>\n",
       "      <td>0.002687</td>\n",
       "      <td>0.009461</td>\n",
       "      <td>-0.003290</td>\n",
       "      <td>0.000083</td>\n",
       "      <td>-0.010478</td>\n",
       "      <td>0.017996</td>\n",
       "      <td>0.695884</td>\n",
       "      <td>1.000000</td>\n",
       "      <td>0.023132</td>\n",
       "      <td>0.018333</td>\n",
       "      <td>-0.005317</td>\n",
       "      <td>0.006115</td>\n",
       "      <td>-0.005233</td>\n",
       "      <td>-0.001258</td>\n",
       "    </tr>\n",
       "    <tr>\n",
       "      <th>crs_elapsed_time</th>\n",
       "      <td>-0.016445</td>\n",
       "      <td>-0.335062</td>\n",
       "      <td>-0.179746</td>\n",
       "      <td>-0.021559</td>\n",
       "      <td>0.053544</td>\n",
       "      <td>0.086315</td>\n",
       "      <td>-0.016594</td>\n",
       "      <td>0.023132</td>\n",
       "      <td>1.000000</td>\n",
       "      <td>0.982633</td>\n",
       "      <td>-0.009162</td>\n",
       "      <td>0.010041</td>\n",
       "      <td>-0.003608</td>\n",
       "      <td>0.006542</td>\n",
       "    </tr>\n",
       "    <tr>\n",
       "      <th>distance</th>\n",
       "      <td>0.016598</td>\n",
       "      <td>-0.366063</td>\n",
       "      <td>-0.159308</td>\n",
       "      <td>-0.018048</td>\n",
       "      <td>0.074384</td>\n",
       "      <td>0.075890</td>\n",
       "      <td>-0.007990</td>\n",
       "      <td>0.018333</td>\n",
       "      <td>0.982633</td>\n",
       "      <td>1.000000</td>\n",
       "      <td>-0.001181</td>\n",
       "      <td>0.012084</td>\n",
       "      <td>-0.004037</td>\n",
       "      <td>0.001651</td>\n",
       "    </tr>\n",
       "    <tr>\n",
       "      <th>month</th>\n",
       "      <td>-0.007962</td>\n",
       "      <td>0.011229</td>\n",
       "      <td>-0.004841</td>\n",
       "      <td>-0.008968</td>\n",
       "      <td>0.002490</td>\n",
       "      <td>-0.000078</td>\n",
       "      <td>0.000424</td>\n",
       "      <td>-0.005317</td>\n",
       "      <td>-0.009162</td>\n",
       "      <td>-0.001181</td>\n",
       "      <td>1.000000</td>\n",
       "      <td>0.013047</td>\n",
       "      <td>0.010296</td>\n",
       "      <td>-0.005263</td>\n",
       "    </tr>\n",
       "    <tr>\n",
       "      <th>day_of_week</th>\n",
       "      <td>0.000488</td>\n",
       "      <td>0.054560</td>\n",
       "      <td>-0.000187</td>\n",
       "      <td>-0.005848</td>\n",
       "      <td>0.000610</td>\n",
       "      <td>0.005197</td>\n",
       "      <td>0.002489</td>\n",
       "      <td>0.006115</td>\n",
       "      <td>0.010041</td>\n",
       "      <td>0.012084</td>\n",
       "      <td>0.013047</td>\n",
       "      <td>1.000000</td>\n",
       "      <td>-0.000050</td>\n",
       "      <td>-0.003864</td>\n",
       "    </tr>\n",
       "    <tr>\n",
       "      <th>day_of_month</th>\n",
       "      <td>-0.001351</td>\n",
       "      <td>0.012991</td>\n",
       "      <td>0.006346</td>\n",
       "      <td>-0.004404</td>\n",
       "      <td>-0.003025</td>\n",
       "      <td>-0.000135</td>\n",
       "      <td>0.001827</td>\n",
       "      <td>-0.005233</td>\n",
       "      <td>-0.003608</td>\n",
       "      <td>-0.004037</td>\n",
       "      <td>0.010296</td>\n",
       "      <td>-0.000050</td>\n",
       "      <td>1.000000</td>\n",
       "      <td>-0.005808</td>\n",
       "    </tr>\n",
       "    <tr>\n",
       "      <th>year</th>\n",
       "      <td>-0.005957</td>\n",
       "      <td>-0.016524</td>\n",
       "      <td>-0.001587</td>\n",
       "      <td>-0.004178</td>\n",
       "      <td>-0.001509</td>\n",
       "      <td>-0.004282</td>\n",
       "      <td>0.000918</td>\n",
       "      <td>-0.001258</td>\n",
       "      <td>0.006542</td>\n",
       "      <td>0.001651</td>\n",
       "      <td>-0.005263</td>\n",
       "      <td>-0.003864</td>\n",
       "      <td>-0.005808</td>\n",
       "      <td>1.000000</td>\n",
       "    </tr>\n",
       "  </tbody>\n",
       "</table>\n",
       "</div>"
      ],
      "text/plain": [
       "                    mkt_carrier  mkt_carrier_fl_num  op_unique_carrier  \\\n",
       "mkt_carrier            1.000000           -0.046108           0.600547   \n",
       "mkt_carrier_fl_num    -0.046108            1.000000           0.260990   \n",
       "op_unique_carrier      0.600547            0.260990           1.000000   \n",
       "tail_num              -0.019634           -0.054267          -0.026575   \n",
       "origin_airport_id      0.032450           -0.025794           0.043558   \n",
       "dest_airport_id        0.027297           -0.033332           0.037257   \n",
       "crs_dep_time           0.010414           -0.000246           0.008594   \n",
       "crs_arr_time           0.002687            0.009461          -0.003290   \n",
       "crs_elapsed_time      -0.016445           -0.335062          -0.179746   \n",
       "distance               0.016598           -0.366063          -0.159308   \n",
       "month                 -0.007962            0.011229          -0.004841   \n",
       "day_of_week            0.000488            0.054560          -0.000187   \n",
       "day_of_month          -0.001351            0.012991           0.006346   \n",
       "year                  -0.005957           -0.016524          -0.001587   \n",
       "\n",
       "                    tail_num  origin_airport_id  dest_airport_id  \\\n",
       "mkt_carrier        -0.019634           0.032450         0.027297   \n",
       "mkt_carrier_fl_num -0.054267          -0.025794        -0.033332   \n",
       "op_unique_carrier  -0.026575           0.043558         0.037257   \n",
       "tail_num            1.000000          -0.052000        -0.051812   \n",
       "origin_airport_id  -0.052000           1.000000         0.015309   \n",
       "dest_airport_id    -0.051812           0.015309         1.000000   \n",
       "crs_dep_time        0.001671          -0.033332         0.025416   \n",
       "crs_arr_time        0.000083          -0.010478         0.017996   \n",
       "crs_elapsed_time   -0.021559           0.053544         0.086315   \n",
       "distance           -0.018048           0.074384         0.075890   \n",
       "month              -0.008968           0.002490        -0.000078   \n",
       "day_of_week        -0.005848           0.000610         0.005197   \n",
       "day_of_month       -0.004404          -0.003025        -0.000135   \n",
       "year               -0.004178          -0.001509        -0.004282   \n",
       "\n",
       "                    crs_dep_time  crs_arr_time  crs_elapsed_time  distance  \\\n",
       "mkt_carrier             0.010414      0.002687         -0.016445  0.016598   \n",
       "mkt_carrier_fl_num     -0.000246      0.009461         -0.335062 -0.366063   \n",
       "op_unique_carrier       0.008594     -0.003290         -0.179746 -0.159308   \n",
       "tail_num                0.001671      0.000083         -0.021559 -0.018048   \n",
       "origin_airport_id      -0.033332     -0.010478          0.053544  0.074384   \n",
       "dest_airport_id         0.025416      0.017996          0.086315  0.075890   \n",
       "crs_dep_time            1.000000      0.695884         -0.016594 -0.007990   \n",
       "crs_arr_time            0.695884      1.000000          0.023132  0.018333   \n",
       "crs_elapsed_time       -0.016594      0.023132          1.000000  0.982633   \n",
       "distance               -0.007990      0.018333          0.982633  1.000000   \n",
       "month                   0.000424     -0.005317         -0.009162 -0.001181   \n",
       "day_of_week             0.002489      0.006115          0.010041  0.012084   \n",
       "day_of_month            0.001827     -0.005233         -0.003608 -0.004037   \n",
       "year                    0.000918     -0.001258          0.006542  0.001651   \n",
       "\n",
       "                       month  day_of_week  day_of_month      year  \n",
       "mkt_carrier        -0.007962     0.000488     -0.001351 -0.005957  \n",
       "mkt_carrier_fl_num  0.011229     0.054560      0.012991 -0.016524  \n",
       "op_unique_carrier  -0.004841    -0.000187      0.006346 -0.001587  \n",
       "tail_num           -0.008968    -0.005848     -0.004404 -0.004178  \n",
       "origin_airport_id   0.002490     0.000610     -0.003025 -0.001509  \n",
       "dest_airport_id    -0.000078     0.005197     -0.000135 -0.004282  \n",
       "crs_dep_time        0.000424     0.002489      0.001827  0.000918  \n",
       "crs_arr_time       -0.005317     0.006115     -0.005233 -0.001258  \n",
       "crs_elapsed_time   -0.009162     0.010041     -0.003608  0.006542  \n",
       "distance           -0.001181     0.012084     -0.004037  0.001651  \n",
       "month               1.000000     0.013047      0.010296 -0.005263  \n",
       "day_of_week         0.013047     1.000000     -0.000050 -0.003864  \n",
       "day_of_month        0.010296    -0.000050      1.000000 -0.005808  \n",
       "year               -0.005263    -0.003864     -0.005808  1.000000  "
      ]
     },
     "execution_count": 98,
     "metadata": {},
     "output_type": "execute_result"
    }
   ],
   "source": [
    "flights_cat.corr()"
   ]
  },
  {
   "cell_type": "code",
   "execution_count": 99,
   "metadata": {},
   "outputs": [
    {
     "data": {
      "text/plain": [
       "<AxesSubplot:>"
      ]
     },
     "execution_count": 99,
     "metadata": {},
     "output_type": "execute_result"
    },
    {
     "data": {
      "image/png": "[encoded data removed]",
      "text/plain": [
       "<Figure size 792x648 with 2 Axes>"
      ]
     },
     "metadata": {},
     "output_type": "display_data"
    }
   ],
   "source": [
    "from string import ascii_letters\n",
    "import numpy as np\n",
    "import pandas as pd\n",
    "import seaborn as sns\n",
    "import matplotlib.pyplot as plt\n",
    "sns.set_theme(style=\"white\")\n",
    "\n",
    "# Compute the correlation matrix\n",
    "corr = flights_cat.corr()\n",
    "# Generate a mask for the upper triangle\n",
    "mask = np.triu(np.ones_like(corr, dtype=bool))\n",
    "# Set up the matplotlib figure\n",
    "f, ax = plt.subplots(figsize=(11, 9))\n",
    "# Generate a custom diverging colormap\n",
    "cmap = sns.diverging_palette(230, 20, as_cmap=True)\n",
    "# Draw the heatmap with the mask and correct aspect ratio\n",
    "sns.heatmap(corr, mask=mask, cmap=cmap, vmax=.3, center=0,\n",
    "            square=True, linewidths=.5, cbar_kws={\"shrink\": .5})"
   ]
  },
  {
   "cell_type": "markdown",
   "metadata": {},
   "source": [
    "### Feature Selection / Dimensionality Reduction"
   ]
  },
  {
   "cell_type": "code",
   "execution_count": null,
   "metadata": {},
   "outputs": [],
   "source": []
  },
  {
   "cell_type": "markdown",
   "metadata": {},
   "source": [
    "We need to apply different selection techniques to find out which one will be the best for our problems.\n",
    "\n",
    "- Original Features vs. PCA conponents?"
   ]
  },
  {
   "cell_type": "code",
   "execution_count": 100,
   "metadata": {},
   "outputs": [],
   "source": [
    "# dont need PCA if didnt do get_dummies"
   ]
  },
  {
   "cell_type": "code",
   "execution_count": null,
   "metadata": {},
   "outputs": [],
   "source": []
  },
  {
   "cell_type": "markdown",
   "metadata": {},
   "source": [
    "* PCA testing"
   ]
  },
  {
   "cell_type": "code",
   "execution_count": 101,
   "metadata": {},
   "outputs": [],
   "source": [
    "from sklearn.decomposition import PCA\n",
    "import matplotlib.pyplot as plt"
   ]
  },
  {
   "cell_type": "code",
   "execution_count": 102,
   "metadata": {},
   "outputs": [],
   "source": [
    "pca_test = PCA(n_components=5)\n",
    "principalComponents_test = pca_test.fit_transform(flights1)"
   ]
  },
  {
   "cell_type": "code",
   "execution_count": 103,
   "metadata": {},
   "outputs": [
    {
     "data": {
      "text/plain": [
       "(100000, 5)"
      ]
     },
     "execution_count": 103,
     "metadata": {},
     "output_type": "execute_result"
    }
   ],
   "source": [
    "principalComponents_test.shape"
   ]
  },
  {
   "cell_type": "code",
   "execution_count": 104,
   "metadata": {},
   "outputs": [
    {
     "data": {
      "text/plain": [
       "PCA(n_components=5)"
      ]
     },
     "execution_count": 104,
     "metadata": {},
     "output_type": "execute_result"
    }
   ],
   "source": [
    "pca_test"
   ]
  },
  {
   "cell_type": "code",
   "execution_count": null,
   "metadata": {},
   "outputs": [],
   "source": []
  },
  {
   "cell_type": "markdown",
   "metadata": {},
   "source": [
    "### Modeling"
   ]
  },
  {
   "cell_type": "markdown",
   "metadata": {},
   "source": [
    "Use different ML techniques to predict each problem.\n",
    "\n",
    "- linear\n",
    "- Naive Bayes\n",
    "- Random Forest Regressor\n",
    "- SVM classification\n",
    "- XGBoost regresspr\n",
    "- The ensemble of your own choice"
   ]
  },
  {
   "cell_type": "markdown",
   "metadata": {},
   "source": [
    "#### pickle module to save model"
   ]
  },
  {
   "cell_type": "code",
   "execution_count": 105,
   "metadata": {},
   "outputs": [],
   "source": [
    "import pickle"
   ]
  },
  {
   "cell_type": "markdown",
   "metadata": {},
   "source": [
    "* target and features"
   ]
  },
  {
   "cell_type": "code",
   "execution_count": 106,
   "metadata": {},
   "outputs": [],
   "source": [
    "y_cat = np.array(flights_cat.arr_delay_cat)"
   ]
  },
  {
   "cell_type": "code",
   "execution_count": 107,
   "metadata": {},
   "outputs": [],
   "source": [
    "X_df = flights_cat.drop(['arr_delay_cat'], axis = 1)"
   ]
  },
  {
   "cell_type": "code",
   "execution_count": 108,
   "metadata": {},
   "outputs": [
    {
     "data": {
      "text/plain": [
       "array([[0.000e+00, 5.044e+03, 1.800e+01, ..., 2.000e+00, 2.700e+01,\n",
       "        2.019e+03],\n",
       "       [0.000e+00, 5.804e+03, 2.500e+01, ..., 3.000e+00, 2.600e+01,\n",
       "        2.019e+03],\n",
       "       [1.000e+01, 1.266e+03, 2.400e+01, ..., 3.000e+00, 2.500e+01,\n",
       "        2.018e+03],\n",
       "       ...,\n",
       "       [3.000e+00, 4.285e+03, 1.900e+01, ..., 0.000e+00, 1.700e+01,\n",
       "        2.018e+03],\n",
       "       [1.000e+01, 5.586e+03, 2.400e+01, ..., 0.000e+00, 1.900e+01,\n",
       "        2.018e+03],\n",
       "       [7.000e+00, 6.200e+02, 1.700e+01, ..., 0.000e+00, 2.200e+01,\n",
       "        2.019e+03]])"
      ]
     },
     "execution_count": 108,
     "metadata": {},
     "output_type": "execute_result"
    }
   ],
   "source": [
    "X = np.array(X_df)\n",
    "X"
   ]
  },
  {
   "cell_type": "markdown",
   "metadata": {},
   "source": [
    "* train test split and making samples"
   ]
  },
  {
   "cell_type": "code",
   "execution_count": 109,
   "metadata": {},
   "outputs": [],
   "source": [
    "import sklearn.model_selection as model_selection"
   ]
  },
  {
   "cell_type": "code",
   "execution_count": 110,
   "metadata": {},
   "outputs": [],
   "source": [
    "#creating y_train_cat and y_test_cat\n",
    "X_train, X_test, y_train_cat, y_test_cat = model_selection.train_test_split(X, y_cat, train_size=0.70,test_size=0.30, random_state=101, shuffle = True, stratify=None)"
   ]
  },
  {
   "cell_type": "code",
   "execution_count": 111,
   "metadata": {},
   "outputs": [],
   "source": [
    "#X_train_sample = pd.DataFrame(X_train).sample(frac = 0.50, random_state=101)"
   ]
  },
  {
   "cell_type": "code",
   "execution_count": 112,
   "metadata": {},
   "outputs": [],
   "source": [
    "#y_train_sample = pd.DataFrame(y_train).sample(frac = 0.50, random_state=101)"
   ]
  },
  {
   "cell_type": "code",
   "execution_count": 113,
   "metadata": {},
   "outputs": [],
   "source": [
    "#y_trainCat_sample = pd.DataFrame(y_train_cat).sample(frac = 0.50, random_state=101)"
   ]
  },
  {
   "cell_type": "code",
   "execution_count": 114,
   "metadata": {},
   "outputs": [],
   "source": [
    "#X_test_sample = pd.DataFrame(X_test).sample(frac = 0.10, random_state=101)"
   ]
  },
  {
   "cell_type": "code",
   "execution_count": 115,
   "metadata": {},
   "outputs": [],
   "source": [
    "#y_test_sample = pd.DataFrame(y_test).sample(frac = 0.10, random_state=101)"
   ]
  },
  {
   "cell_type": "code",
   "execution_count": 116,
   "metadata": {},
   "outputs": [],
   "source": [
    "#X_testindex = X_test_sample.index"
   ]
  },
  {
   "cell_type": "code",
   "execution_count": 117,
   "metadata": {},
   "outputs": [],
   "source": [
    "#X_trainindex = X_train_sample.index"
   ]
  },
  {
   "cell_type": "code",
   "execution_count": null,
   "metadata": {},
   "outputs": [],
   "source": []
  },
  {
   "cell_type": "markdown",
   "metadata": {},
   "source": [
    "* Scaling"
   ]
  },
  {
   "cell_type": "code",
   "execution_count": 118,
   "metadata": {},
   "outputs": [
    {
     "data": {
      "text/plain": [
       "'scaler = StandardScaler()\\nX = scaler.fit_transform(X)'"
      ]
     },
     "execution_count": 118,
     "metadata": {},
     "output_type": "execute_result"
    }
   ],
   "source": [
    "'''scaler = StandardScaler()\n",
    "X = scaler.fit_transform(X)'''"
   ]
  },
  {
   "cell_type": "code",
   "execution_count": 119,
   "metadata": {},
   "outputs": [
    {
     "data": {
      "text/plain": [
       "'y = (y - y.mean()) / y.std()'"
      ]
     },
     "execution_count": 119,
     "metadata": {},
     "output_type": "execute_result"
    }
   ],
   "source": [
    "'''y = (y - y.mean()) / y.std()'''"
   ]
  },
  {
   "cell_type": "code",
   "execution_count": 120,
   "metadata": {},
   "outputs": [],
   "source": [
    "from sklearn.metrics import r2_score"
   ]
  },
  {
   "cell_type": "markdown",
   "metadata": {},
   "source": [
    "* Scaling PIPE"
   ]
  },
  {
   "cell_type": "code",
   "execution_count": 121,
   "metadata": {},
   "outputs": [],
   "source": [
    "from sklearn.preprocessing import StandardScaler\n",
    "from sklearn.pipeline import Pipeline\n",
    "from sklearn.model_selection import GridSearchCV"
   ]
  },
  {
   "cell_type": "code",
   "execution_count": 122,
   "metadata": {},
   "outputs": [
    {
     "data": {
      "text/plain": [
       "Pipeline(steps=[('scaler', StandardScaler())])"
      ]
     },
     "execution_count": 122,
     "metadata": {},
     "output_type": "execute_result"
    }
   ],
   "source": [
    "pipe = Pipeline([('scaler', StandardScaler())])\n",
    "pipe.fit(X_train, y_train_cat)"
   ]
  },
  {
   "cell_type": "markdown",
   "metadata": {},
   "source": [
    "#### Forrest Classifier"
   ]
  },
  {
   "cell_type": "code",
   "execution_count": 123,
   "metadata": {},
   "outputs": [],
   "source": [
    "from sklearn.ensemble import RandomForestClassifier"
   ]
  },
  {
   "cell_type": "code",
   "execution_count": 124,
   "metadata": {},
   "outputs": [],
   "source": [
    "random_forest_class = RandomForestClassifier()"
   ]
  },
  {
   "cell_type": "code",
   "execution_count": 129,
   "metadata": {},
   "outputs": [],
   "source": [
    "hyperparameters ={\n",
    "    'n_estimators': [50, 100],\n",
    "    'max_depth': [3, 5],\n",
    "    #'min_samples_split':\n",
    "    #\"min_samples_split\": [1, 3, 10],\n",
    "    #\"min_samples_leaf\": [1, 3, 10],\n",
    "    # \"bootstrap\": [True, False],\n",
    "    #\"criterion\": [\"gini\", \"entropy\"]}\n",
    "\n",
    "#    'rand_forrestClass__bootstrap': [False]\n",
    "}"
   ]
  },
  {
   "cell_type": "code",
   "execution_count": 130,
   "metadata": {},
   "outputs": [],
   "source": [
    "#Forest_class_pipe = ('rand_forrestClass', RandomForestClassifier())\n",
    "forest_class_grid = GridSearchCV(estimator=random_forest_class, param_grid=hyperparameters, scoring = 'f1', verbose=0, cv= 15)"
   ]
  },
  {
   "cell_type": "markdown",
   "metadata": {},
   "source": [
    "* test with sample to find best hyperparameters"
   ]
  },
  {
   "cell_type": "code",
   "execution_count": 131,
   "metadata": {},
   "outputs": [],
   "source": [
    "#rand_forrestClass_grid = GridSearchCV(estimator=random_forest_class, param_grid=hyperparameters, scoring = 'r2', verbose=0, cv= 5)"
   ]
  },
  {
   "cell_type": "code",
   "execution_count": 132,
   "metadata": {},
   "outputs": [],
   "source": [
    "#forest_class_grid.fit(X_train_sample, y_trainCat_sample.values.ravel())\n",
    "#y_pred_randFor_class = forest_class_grid.predict(X_test_sample)"
   ]
  },
  {
   "cell_type": "code",
   "execution_count": 133,
   "metadata": {},
   "outputs": [],
   "source": [
    "#forest_class_grid.best_estimator_"
   ]
  },
  {
   "cell_type": "markdown",
   "metadata": {},
   "source": [
    "* adjusted to best hyperparameters"
   ]
  },
  {
   "cell_type": "code",
   "execution_count": 134,
   "metadata": {},
   "outputs": [
    {
     "data": {
      "text/plain": [
       "GridSearchCV(cv=15, estimator=RandomForestClassifier(),\n",
       "             param_grid={'max_depth': [3, 5], 'n_estimators': [50, 100]},\n",
       "             scoring='f1')"
      ]
     },
     "execution_count": 134,
     "metadata": {},
     "output_type": "execute_result"
    }
   ],
   "source": [
    "forest_class_grid.fit(X_train, y_train_cat)"
   ]
  },
  {
   "cell_type": "code",
   "execution_count": 135,
   "metadata": {},
   "outputs": [
    {
     "data": {
      "text/plain": [
       "{'max_depth': 3, 'n_estimators': 50}"
      ]
     },
     "execution_count": 135,
     "metadata": {},
     "output_type": "execute_result"
    }
   ],
   "source": [
    "forest_class_grid.best_params_"
   ]
  },
  {
   "cell_type": "code",
   "execution_count": 136,
   "metadata": {},
   "outputs": [],
   "source": [
    "random_forest_class=RandomForestClassifier(max_depth= 3, n_estimators= 50)"
   ]
  },
  {
   "cell_type": "code",
   "execution_count": 137,
   "metadata": {},
   "outputs": [
    {
     "data": {
      "text/plain": [
       "RandomForestClassifier(max_depth=3, n_estimators=50)"
      ]
     },
     "execution_count": 137,
     "metadata": {},
     "output_type": "execute_result"
    }
   ],
   "source": [
    "random_forest_class.fit(X_train, y_train_cat)"
   ]
  },
  {
   "cell_type": "code",
   "execution_count": 138,
   "metadata": {},
   "outputs": [],
   "source": [
    "y_pred_randFor_class = random_forest_class.predict(X_test)"
   ]
  },
  {
   "cell_type": "code",
   "execution_count": 141,
   "metadata": {},
   "outputs": [
    {
     "name": "stdout",
     "output_type": "stream",
     "text": [
      "Accuracy for Random Forest on CV data:  0.7111\n"
     ]
    }
   ],
   "source": [
    "from sklearn.metrics import accuracy_score\n",
    "print(\"Accuracy for Random Forest on CV data: \",accuracy_score(y_test_cat, y_pred_randFor_class))"
   ]
  },
  {
   "cell_type": "code",
   "execution_count": 142,
   "metadata": {},
   "outputs": [
    {
     "data": {
      "text/plain": [
       "0.7111"
      ]
     },
     "execution_count": 142,
     "metadata": {},
     "output_type": "execute_result"
    }
   ],
   "source": [
    "accuracy_score(y_test_cat, y_pred_randFor_class)"
   ]
  },
  {
   "cell_type": "code",
   "execution_count": 148,
   "metadata": {},
   "outputs": [
    {
     "data": {
      "text/plain": [
       "array([[21333,     0],\n",
       "       [ 8667,     0]])"
      ]
     },
     "execution_count": 148,
     "metadata": {},
     "output_type": "execute_result"
    }
   ],
   "source": [
    "from sklearn.metrics import confusion_matrix\n",
    "confusion_matrix(y_test_cat, y_pred_randFor_class)"
   ]
  },
  {
   "cell_type": "code",
   "execution_count": 150,
   "metadata": {},
   "outputs": [
    {
     "name": "stdout",
     "output_type": "stream",
     "text": [
      "              precision    recall  f1-score   support\n",
      "\n",
      "           0       0.71      1.00      0.83     21333\n",
      "           1       0.00      0.00      0.00      8667\n",
      "\n",
      "    accuracy                           0.71     30000\n",
      "   macro avg       0.36      0.50      0.42     30000\n",
      "weighted avg       0.51      0.71      0.59     30000\n",
      "\n"
     ]
    },
    {
     "name": "stderr",
     "output_type": "stream",
     "text": [
      "/Users/annajose/opt/anaconda3/lib/python3.8/site-packages/sklearn/metrics/_classification.py:1221: UndefinedMetricWarning: Precision and F-score are ill-defined and being set to 0.0 in labels with no predicted samples. Use `zero_division` parameter to control this behavior.\n",
      "  _warn_prf(average, modifier, msg_start, len(result))\n"
     ]
    }
   ],
   "source": [
    "from sklearn.metrics import classification_report\n",
    "print(classification_report(y_test_cat, y_pred_randFor_class))"
   ]
  },
  {
   "cell_type": "code",
   "execution_count": 154,
   "metadata": {},
   "outputs": [
    {
     "data": {
      "image/png": "[encoded data removed]",
      "text/plain": [
       "<Figure size 432x288 with 1 Axes>"
      ]
     },
     "metadata": {},
     "output_type": "display_data"
    }
   ],
   "source": [
    "import matplotlib.pyplot as plt\n",
    "from sklearn.metrics import roc_auc_score\n",
    "from sklearn.metrics import roc_curve\n",
    "\n",
    "forest_roc_auc = roc_auc_score(y_test_cat, forest_class_grid.predict(X_test))\n",
    "fpr, tpr, thresholds = roc_curve(y_test_cat, forest_class_grid.predict_proba(X_test)[:,1])\n",
    "plt.figure()\n",
    "plt.plot(fpr, tpr, label='Random Forest classifier (area = %0.2f)' % forest_roc_auc)\n",
    "plt.plot([0, 1], [0, 1],'r--')\n",
    "plt.xlim([0.0, 1.0])\n",
    "plt.ylim([0.0, 1.05])\n",
    "plt.xlabel('False Positive Rate')\n",
    "plt.ylabel('True Positive Rate')\n",
    "plt.title('Receiver operating characteristic')\n",
    "plt.legend(loc=\"lower right\")\n",
    "plt.savefig('Random Forest Classifier_ROC')\n",
    "plt.show()"
   ]
  },
  {
   "cell_type": "code",
   "execution_count": 155,
   "metadata": {},
   "outputs": [],
   "source": [
    "with open('model_Forrest_class_pickle', 'wb') as forest_class_file:\n",
    "    pickle.dump(forest_class_grid, forest_class_file)"
   ]
  },
  {
   "cell_type": "code",
   "execution_count": 156,
   "metadata": {},
   "outputs": [],
   "source": [
    "with open('model_Forrest_class_pickle', 'rb') as forest_class_file:\n",
    "    model_forrestClass_pred = pickle.load(forest_class_file)"
   ]
  },
  {
   "cell_type": "code",
   "execution_count": null,
   "metadata": {},
   "outputs": [],
   "source": []
  },
  {
   "cell_type": "code",
   "execution_count": null,
   "metadata": {},
   "outputs": [],
   "source": []
  },
  {
   "cell_type": "code",
   "execution_count": null,
   "metadata": {},
   "outputs": [],
   "source": []
  },
  {
   "cell_type": "code",
   "execution_count": null,
   "metadata": {},
   "outputs": [],
   "source": []
  },
  {
   "cell_type": "code",
   "execution_count": null,
   "metadata": {},
   "outputs": [],
   "source": []
  },
  {
   "cell_type": "code",
   "execution_count": null,
   "metadata": {},
   "outputs": [],
   "source": []
  },
  {
   "cell_type": "code",
   "execution_count": null,
   "metadata": {},
   "outputs": [],
   "source": [
    "# Import tools needed for visualization\n",
    "from sklearn.tree import export_graphviz\n",
    "import pydot\n",
    "# Pull out one tree from the forest\n",
    "tree = rf.estimators_[5]\n",
    "# Import tools needed for visualization\n",
    "from sklearn.tree import export_graphviz\n",
    "import pydot\n",
    "# Pull out one tree from the forest\n",
    "tree = rf.estimators_[5]\n",
    "# Export the image to a dot file\n",
    "export_graphviz(tree, out_file = 'tree.dot', feature_names = feature_list, rounded = True, precision = 1)\n",
    "# Use dot file to create a graph\n",
    "(graph, ) = pydot.graph_from_dot_file('tree.dot')\n",
    "# Write graph to a png file\n",
    "graph.write_png('tree.png')"
   ]
  },
  {
   "cell_type": "code",
   "execution_count": null,
   "metadata": {},
   "outputs": [],
   "source": [
    "# Limit depth of tree to 3 levels\n",
    "rf_small = RandomForestRegressor(n_estimators=10, max_depth = 3)\n",
    "rf_small.fit(train_features, train_labels)\n",
    "# Extract the small tree\n",
    "tree_small = rf_small.estimators_[5]\n",
    "# Save the tree as a png image\n",
    "export_graphviz(tree_small, out_file = 'small_tree.dot', feature_names = feature_list, rounded = True, precision = 1)\n",
    "(graph, ) = pydot.graph_from_dot_file('small_tree.dot')\n",
    "graph.write_png('small_tree.png');"
   ]
  },
  {
   "cell_type": "code",
   "execution_count": null,
   "metadata": {},
   "outputs": [],
   "source": [
    "# Get numerical feature importances\n",
    "importances = list(rf.feature_importances_)\n",
    "# List of tuples with variable and importance\n",
    "feature_importances = [(feature, round(importance, 2)) for feature, importance in zip(feature_list, importances)]\n",
    "# Sort the feature importances by most important first\n",
    "feature_importances = sorted(feature_importances, key = lambda x: x[1], reverse = True)\n",
    "# Print out the feature and importances \n",
    "[print('Variable: {:20} Importance: {}'.format(*pair)) for pair in feature_importances];"
   ]
  },
  {
   "cell_type": "code",
   "execution_count": null,
   "metadata": {},
   "outputs": [],
   "source": [
    "# Import matplotlib for plotting and use magic command for Jupyter Notebooks\n",
    "import matplotlib.pyplot as plt\n",
    "%matplotlib inline\n",
    "# Set the style\n",
    "plt.style.use('fivethirtyeight')\n",
    "# list of x locations for plotting\n",
    "x_values = list(range(len(importances)))\n",
    "# Make a bar chart\n",
    "plt.bar(x_values, importances, orientation = 'vertical')\n",
    "# Tick labels for x axis\n",
    "plt.xticks(x_values, feature_list, rotation='vertical')\n",
    "# Axis labels and title\n",
    "plt.ylabel('Importance'); plt.xlabel('Variable'); plt.title('Variable Importances');"
   ]
  },
  {
   "cell_type": "markdown",
   "metadata": {},
   "source": [
    "* pickling"
   ]
  },
  {
   "cell_type": "markdown",
   "metadata": {},
   "source": [
    "#### SVM classification"
   ]
  },
  {
   "cell_type": "code",
   "execution_count": 331,
   "metadata": {},
   "outputs": [],
   "source": [
    "#from sklearn.svm import SVC, SVR, LinearSVC"
   ]
  },
  {
   "cell_type": "code",
   "execution_count": 332,
   "metadata": {},
   "outputs": [],
   "source": [
    "#model_svm_class = SVC()"
   ]
  },
  {
   "cell_type": "code",
   "execution_count": 333,
   "metadata": {},
   "outputs": [],
   "source": [
    "# hyperparameters = {'model_svm_class__kernel': ['linear'],\n",
    "#                    'model_svm_class__C':[1],\n",
    "#                    'model_svm_class__degree':[1]\n",
    "# }\n",
    "# SVC_grid_class = GridSearchCV(estimator=model_svm_class, param_grid=hyperparameters, scoring = 'r2', verbose=0, cv= 5)"
   ]
  },
  {
   "cell_type": "code",
   "execution_count": 334,
   "metadata": {},
   "outputs": [],
   "source": [
    "# svm_class_pipe = Pipeline(steps=[('scaler', StandardScaler()), ('model_svm_class', SVC())])\n",
    "# smv_class_grid = GridSearchCV(estimator=svm_class_pipe, param_grid=hyperparameters, scoring = 'r2', verbose=0, cv= 5)"
   ]
  },
  {
   "cell_type": "markdown",
   "metadata": {},
   "source": [
    "* test with sample to find best hyperparameters"
   ]
  },
  {
   "cell_type": "code",
   "execution_count": 335,
   "metadata": {},
   "outputs": [],
   "source": [
    "# smv_class_grid.fit(X_train_sample, y_trainCat_sample.ravel())\n",
    "# y_pred_svm = smv_class_grid.predict(X_test_sample)"
   ]
  },
  {
   "cell_type": "code",
   "execution_count": 336,
   "metadata": {},
   "outputs": [
    {
     "data": {
      "text/plain": [
       "Pipeline(steps=[('scaler', StandardScaler()),\n",
       "                ('model_svm_class', SVC(C=1, degree=1, kernel='linear'))])"
      ]
     },
     "execution_count": 336,
     "metadata": {},
     "output_type": "execute_result"
    }
   ],
   "source": [
    "# smv_class_grid.best_estimator_"
   ]
  },
  {
   "cell_type": "markdown",
   "metadata": {},
   "source": [
    "* adjusted to best hyperparameters"
   ]
  },
  {
   "cell_type": "code",
   "execution_count": 177,
   "metadata": {},
   "outputs": [],
   "source": [
    "# smv_class_grid.fit(X_train,y_train_cat)\n",
    "# y_pred_svc_cat = smv_class_grid.predict(X_test)"
   ]
  },
  {
   "cell_type": "code",
   "execution_count": null,
   "metadata": {},
   "outputs": [],
   "source": [
    "# smv_class_grid.best_estimator_"
   ]
  },
  {
   "cell_type": "code",
   "execution_count": null,
   "metadata": {},
   "outputs": [],
   "source": [
    "# r2_score = smv_class_grid.score(X_test, y_test_cat)"
   ]
  },
  {
   "cell_type": "code",
   "execution_count": null,
   "metadata": {},
   "outputs": [],
   "source": [
    "# r2_score"
   ]
  },
  {
   "cell_type": "markdown",
   "metadata": {},
   "source": [
    "* pickling"
   ]
  },
  {
   "cell_type": "code",
   "execution_count": null,
   "metadata": {},
   "outputs": [],
   "source": [
    "# with open('model_smv_class_pickle', 'wb') as smv_class_file:\n",
    "#     pickle.dump(smv_class_grid, smv_class_file)"
   ]
  },
  {
   "cell_type": "code",
   "execution_count": null,
   "metadata": {},
   "outputs": [],
   "source": [
    "# with open('model_Forrest_reg_pickle', 'rb') as smv_class_file:\n",
    "#     model_smv_class_pickle = pickle.load(smv_class_file)"
   ]
  },
  {
   "cell_type": "code",
   "execution_count": null,
   "metadata": {},
   "outputs": [],
   "source": []
  },
  {
   "cell_type": "markdown",
   "metadata": {},
   "source": [
    "You have data from 2018 and 2019 to develop models. Use different evaluation metrics for each problem and compare the performance of different models.\n",
    "\n",
    "You are required to predict delays on **out of sample** data from **first 7 days (1st-7th) of January 2020** and to share the file with LighthouseLabs. Sample submission can be found in the file **_sample_submission.csv_**"
   ]
  },
  {
   "cell_type": "code",
   "execution_count": null,
   "metadata": {},
   "outputs": [],
   "source": []
  },
  {
   "cell_type": "code",
   "execution_count": null,
   "metadata": {},
   "outputs": [],
   "source": []
  },
  {
   "cell_type": "code",
   "execution_count": null,
   "metadata": {},
   "outputs": [],
   "source": []
  },
  {
   "cell_type": "code",
   "execution_count": null,
   "metadata": {},
   "outputs": [],
   "source": []
  },
  {
   "cell_type": "markdown",
   "metadata": {},
   "source": [
    "======================================================================\n",
    "## Stretch Tasks"
   ]
  },
  {
   "cell_type": "markdown",
   "metadata": {},
   "source": [
    "### Multiclass Classification"
   ]
  },
  {
   "cell_type": "markdown",
   "metadata": {},
   "source": [
    "The target variables are **CARRIER_DELAY, WEATHER_DELAY, NAS_DELAY, SECURITY_DELAY, LATE_AIRCRAFT_DELAY**. We need to do additional transformations because these variables are not binary but continuos. For each flight that was delayed, we need to have one of these variables as 1 and others 0.\n",
    "\n",
    "It can happen that we have two types of delays with more than 0 minutes. In this case, take the bigger one as 1 and others as 0."
   ]
  },
  {
   "cell_type": "code",
   "execution_count": null,
   "metadata": {},
   "outputs": [],
   "source": []
  },
  {
   "cell_type": "code",
   "execution_count": null,
   "metadata": {},
   "outputs": [],
   "source": []
  },
  {
   "cell_type": "code",
   "execution_count": null,
   "metadata": {},
   "outputs": [],
   "source": []
  },
  {
   "cell_type": "markdown",
   "metadata": {},
   "source": [
    "### Binary Classification"
   ]
  },
  {
   "cell_type": "markdown",
   "metadata": {},
   "source": [
    "The target variable is **CANCELLED**. The main problem here is going to be huge class imbalance. We have only very little cancelled flights with comparison to all flights. It is important to do the right sampling before training and to choose correct evaluation metrics."
   ]
  },
  {
   "cell_type": "code",
   "execution_count": null,
   "metadata": {},
   "outputs": [],
   "source": []
  },
  {
   "cell_type": "code",
   "execution_count": null,
   "metadata": {},
   "outputs": [],
   "source": []
  },
  {
   "cell_type": "code",
   "execution_count": null,
   "metadata": {},
   "outputs": [],
   "source": []
  }
 ],
 "metadata": {
  "kernelspec": {
   "display_name": "Python 3",
   "language": "python",
   "name": "python3"
  },
  "language_info": {
   "codemirror_mode": {
    "name": "ipython",
    "version": 3
   },
   "file_extension": ".py",
   "mimetype": "text/x-python",
   "name": "python",
   "nbconvert_exporter": "python",
   "pygments_lexer": "ipython3",
   "version": "3.8.5"
  }
 },
 "nbformat": 4,
 "nbformat_minor": 4
}
