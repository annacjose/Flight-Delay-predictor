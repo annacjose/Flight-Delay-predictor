{
 "cells": [
  {
   "cell_type": "markdown",
   "metadata": {},
   "source": [
    "<font color='yellow'>\n",
    "Exploratory Data Analysis¶\n",
    "Use this notebook to get familiar with the datasets we have. There is 10 questions we need to answer during the EDA.\n",
    "\n",
    "We shouldn't limit our EDA to these 10 questions. Let's be creative :).\n",
    "</font>"
   ]
  },
  {
   "cell_type": "code",
   "execution_count": 61,
   "metadata": {},
   "outputs": [],
   "source": [
    "import pandas as pd\n",
    "import matplotlib.pyplot as plt\n",
    "import numpy as np\n",
    "from scipy import stats\n",
    "from scipy.stats import shapiro as sh\n",
    "import seaborn as sns\n",
    "from sqlalchemy import create_engine\n",
    "pd.options.display.max_columns=200\n",
    "pd.set_option('display.max_rows', None)"
   ]
  },
  {
   "cell_type": "code",
   "execution_count": 62,
   "metadata": {},
   "outputs": [],
   "source": [
    "POSTGRES_ADDRESS = 'mid-term-project.ca2jkepgjpne.us-east-2.rds.amazonaws.com'\n",
    "POSTGRES_PORT = '5432'\n",
    "POSTGRES_USERNAME = 'lhl_student' \n",
    "POSTGRES_PASSWORD = 'lhl_student'\n",
    "POSTGRES_DBNAME = 'mid_term_project'"
   ]
  },
  {
   "cell_type": "code",
   "execution_count": 63,
   "metadata": {},
   "outputs": [],
   "source": [
    "postgres_str = ('postgresql://{username}:{password}@{ipaddress}:{port}/{dbname}'\n",
    "      .format(username=POSTGRES_USERNAME,\n",
    "       password=POSTGRES_PASSWORD,\n",
    "       ipaddress=POSTGRES_ADDRESS,\n",
    "       port=POSTGRES_PORT,\n",
    "       dbname=POSTGRES_DBNAME))\n",
    "# Create the connection\n",
    "database = create_engine(postgres_str)"
   ]
  },
  {
   "cell_type": "code",
   "execution_count": 64,
   "metadata": {},
   "outputs": [],
   "source": [
    "# def execute_read_query(connection, query, return_pandas=True):\n",
    "#     cursor = connection.cursor()\n",
    "#     result = None\n",
    "#     try:\n",
    "#         if return_pandas:\n",
    "#             result = pd.read_sql_query(query, connection)\n",
    "#         else:\n",
    "#             cursor.execute(query)\n",
    "#             result = cursor.fetchall()\n",
    "#              result=pd.DataFrame(result)  \n",
    "#         return result\n",
    "#     except Error as e:\n",
    "#         print(f\"The error '{e}' occurred\")"
   ]
  },
  {
   "cell_type": "code",
   "execution_count": null,
   "metadata": {},
   "outputs": [],
   "source": []
  },
  {
   "cell_type": "code",
   "execution_count": 65,
   "metadata": {},
   "outputs": [
    {
     "data": {
      "text/html": [
       "<div>\n",
       "<style scoped>\n",
       "    .dataframe tbody tr th:only-of-type {\n",
       "        vertical-align: middle;\n",
       "    }\n",
       "\n",
       "    .dataframe tbody tr th {\n",
       "        vertical-align: top;\n",
       "    }\n",
       "\n",
       "    .dataframe thead th {\n",
       "        text-align: right;\n",
       "    }\n",
       "</style>\n",
       "<table border=\"1\" class=\"dataframe\">\n",
       "  <thead>\n",
       "    <tr style=\"text-align: right;\">\n",
       "      <th></th>\n",
       "      <th>fl_date</th>\n",
       "      <th>mkt_unique_carrier</th>\n",
       "      <th>branded_code_share</th>\n",
       "      <th>mkt_carrier</th>\n",
       "      <th>mkt_carrier_fl_num</th>\n",
       "      <th>op_unique_carrier</th>\n",
       "      <th>tail_num</th>\n",
       "      <th>op_carrier_fl_num</th>\n",
       "      <th>origin_airport_id</th>\n",
       "      <th>origin</th>\n",
       "      <th>origin_city_name</th>\n",
       "      <th>dest_airport_id</th>\n",
       "      <th>dest</th>\n",
       "      <th>dest_city_name</th>\n",
       "      <th>crs_dep_time</th>\n",
       "      <th>dep_time</th>\n",
       "      <th>dep_delay</th>\n",
       "      <th>taxi_out</th>\n",
       "      <th>wheels_off</th>\n",
       "      <th>wheels_on</th>\n",
       "      <th>taxi_in</th>\n",
       "      <th>crs_arr_time</th>\n",
       "      <th>arr_time</th>\n",
       "      <th>arr_delay</th>\n",
       "      <th>cancelled</th>\n",
       "      <th>cancellation_code</th>\n",
       "      <th>diverted</th>\n",
       "      <th>dup</th>\n",
       "      <th>crs_elapsed_time</th>\n",
       "      <th>actual_elapsed_time</th>\n",
       "      <th>air_time</th>\n",
       "      <th>flights</th>\n",
       "      <th>distance</th>\n",
       "      <th>carrier_delay</th>\n",
       "      <th>weather_delay</th>\n",
       "      <th>nas_delay</th>\n",
       "      <th>security_delay</th>\n",
       "      <th>late_aircraft_delay</th>\n",
       "      <th>first_dep_time</th>\n",
       "      <th>total_add_gtime</th>\n",
       "      <th>longest_add_gtime</th>\n",
       "      <th>no_name</th>\n",
       "      <th>departures_scheduled</th>\n",
       "      <th>departures_performed</th>\n",
       "      <th>payload</th>\n",
       "      <th>seats</th>\n",
       "      <th>passengers</th>\n",
       "      <th>freight</th>\n",
       "      <th>mail</th>\n",
       "      <th>distance.1</th>\n",
       "      <th>ramp_to_ramp</th>\n",
       "      <th>air_time.1</th>\n",
       "      <th>unique_carrier</th>\n",
       "      <th>airline_id</th>\n",
       "      <th>unique_carrier_name</th>\n",
       "      <th>region</th>\n",
       "      <th>carrier</th>\n",
       "      <th>carrier_name</th>\n",
       "      <th>carrier_group</th>\n",
       "      <th>carrier_group_new</th>\n",
       "      <th>origin_airport_id.1</th>\n",
       "      <th>origin_city_market_id</th>\n",
       "      <th>origin.1</th>\n",
       "      <th>origin_city_name.1</th>\n",
       "      <th>origin_country</th>\n",
       "      <th>origin_country_name</th>\n",
       "      <th>dest_airport_id.1</th>\n",
       "      <th>dest_city_market_id</th>\n",
       "      <th>dest.1</th>\n",
       "      <th>dest_city_name.1</th>\n",
       "      <th>dest_country</th>\n",
       "      <th>dest_country_name</th>\n",
       "      <th>aircraft_group</th>\n",
       "      <th>aircraft_type</th>\n",
       "      <th>aircraft_config</th>\n",
       "      <th>year</th>\n",
       "      <th>month</th>\n",
       "      <th>distance_group</th>\n",
       "      <th>class</th>\n",
       "      <th>data_source</th>\n",
       "      <th>month.1</th>\n",
       "      <th>airline_id.1</th>\n",
       "      <th>unique_carrier.1</th>\n",
       "      <th>carrier.1</th>\n",
       "      <th>carrier_name.1</th>\n",
       "      <th>carrier_group_new.1</th>\n",
       "      <th>sdomt_gallons</th>\n",
       "      <th>satl_gallons</th>\n",
       "      <th>spac_gallons</th>\n",
       "      <th>slat_gallons</th>\n",
       "      <th>sint_gallons</th>\n",
       "      <th>ts_gallons</th>\n",
       "      <th>tdomt_gallons</th>\n",
       "      <th>tint_gallons</th>\n",
       "      <th>total_gallons</th>\n",
       "      <th>sdomt_cost</th>\n",
       "      <th>satl_cost</th>\n",
       "      <th>spac_cost</th>\n",
       "      <th>slat_cost</th>\n",
       "      <th>sint_cost</th>\n",
       "      <th>ts_cost</th>\n",
       "      <th>tdomt_cost</th>\n",
       "      <th>tint_cost</th>\n",
       "      <th>total_cost</th>\n",
       "      <th>year.1</th>\n",
       "    </tr>\n",
       "  </thead>\n",
       "  <tbody>\n",
       "    <tr>\n",
       "      <th>0</th>\n",
       "      <td>2018-05-24</td>\n",
       "      <td>UA</td>\n",
       "      <td>UA</td>\n",
       "      <td>UA</td>\n",
       "      <td>499</td>\n",
       "      <td>UA</td>\n",
       "      <td>N433UA</td>\n",
       "      <td>499</td>\n",
       "      <td>14689</td>\n",
       "      <td>SBA</td>\n",
       "      <td>Santa Barbara, CA</td>\n",
       "      <td>14771</td>\n",
       "      <td>SFO</td>\n",
       "      <td>San Francisco, CA</td>\n",
       "      <td>710</td>\n",
       "      <td>704.0</td>\n",
       "      <td>-6.0</td>\n",
       "      <td>28.0</td>\n",
       "      <td>732.0</td>\n",
       "      <td>818.0</td>\n",
       "      <td>9.0</td>\n",
       "      <td>821</td>\n",
       "      <td>827.0</td>\n",
       "      <td>6.0</td>\n",
       "      <td>0.0</td>\n",
       "      <td>NaN</td>\n",
       "      <td>0.0</td>\n",
       "      <td>N</td>\n",
       "      <td>71.0</td>\n",
       "      <td>83.0</td>\n",
       "      <td>46.0</td>\n",
       "      <td>1.0</td>\n",
       "      <td>262.0</td>\n",
       "      <td>NaN</td>\n",
       "      <td>NaN</td>\n",
       "      <td>NaN</td>\n",
       "      <td>NaN</td>\n",
       "      <td>NaN</td>\n",
       "      <td>NaN</td>\n",
       "      <td>NaN</td>\n",
       "      <td>NaN</td>\n",
       "      <td>NaN</td>\n",
       "      <td>1.0</td>\n",
       "      <td>1.0</td>\n",
       "      <td>20210.0</td>\n",
       "      <td>76.0</td>\n",
       "      <td>73.0</td>\n",
       "      <td>46.0</td>\n",
       "      <td>0.0</td>\n",
       "      <td>1316.0</td>\n",
       "      <td>170.0</td>\n",
       "      <td>156.0</td>\n",
       "      <td>YV</td>\n",
       "      <td>20378</td>\n",
       "      <td>Mesa Airlines Inc.</td>\n",
       "      <td>D</td>\n",
       "      <td>YV</td>\n",
       "      <td>Mesa Airlines Inc.</td>\n",
       "      <td>2</td>\n",
       "      <td>2</td>\n",
       "      <td>14689</td>\n",
       "      <td>34689</td>\n",
       "      <td>SBA</td>\n",
       "      <td>Santa Barbara, CA</td>\n",
       "      <td>US</td>\n",
       "      <td>United States</td>\n",
       "      <td>11298</td>\n",
       "      <td>30194</td>\n",
       "      <td>DFW</td>\n",
       "      <td>Dallas/Fort Worth, TX</td>\n",
       "      <td>US</td>\n",
       "      <td>United States</td>\n",
       "      <td>6</td>\n",
       "      <td>638</td>\n",
       "      <td>1</td>\n",
       "      <td>2019</td>\n",
       "      <td>11</td>\n",
       "      <td>3</td>\n",
       "      <td>F</td>\n",
       "      <td>DU</td>\n",
       "      <td>12</td>\n",
       "      <td>20378.0</td>\n",
       "      <td>YV</td>\n",
       "      <td>YV</td>\n",
       "      <td>Mesa Airlines Inc.</td>\n",
       "      <td>2</td>\n",
       "      <td>0.0</td>\n",
       "      <td>0.0</td>\n",
       "      <td>0.0</td>\n",
       "      <td>0.0</td>\n",
       "      <td>0.0</td>\n",
       "      <td>0.0</td>\n",
       "      <td>0.0</td>\n",
       "      <td>0.0</td>\n",
       "      <td>0.0</td>\n",
       "      <td>0.0</td>\n",
       "      <td>0.0</td>\n",
       "      <td>0.0</td>\n",
       "      <td>0.0</td>\n",
       "      <td>0.0</td>\n",
       "      <td>0.0</td>\n",
       "      <td>0.0</td>\n",
       "      <td>0.0</td>\n",
       "      <td>0.0</td>\n",
       "      <td>2018</td>\n",
       "    </tr>\n",
       "    <tr>\n",
       "      <th>1</th>\n",
       "      <td>2018-05-24</td>\n",
       "      <td>UA</td>\n",
       "      <td>UA</td>\n",
       "      <td>UA</td>\n",
       "      <td>499</td>\n",
       "      <td>UA</td>\n",
       "      <td>N433UA</td>\n",
       "      <td>499</td>\n",
       "      <td>14689</td>\n",
       "      <td>SBA</td>\n",
       "      <td>Santa Barbara, CA</td>\n",
       "      <td>14771</td>\n",
       "      <td>SFO</td>\n",
       "      <td>San Francisco, CA</td>\n",
       "      <td>710</td>\n",
       "      <td>704.0</td>\n",
       "      <td>-6.0</td>\n",
       "      <td>28.0</td>\n",
       "      <td>732.0</td>\n",
       "      <td>818.0</td>\n",
       "      <td>9.0</td>\n",
       "      <td>821</td>\n",
       "      <td>827.0</td>\n",
       "      <td>6.0</td>\n",
       "      <td>0.0</td>\n",
       "      <td>NaN</td>\n",
       "      <td>0.0</td>\n",
       "      <td>N</td>\n",
       "      <td>71.0</td>\n",
       "      <td>83.0</td>\n",
       "      <td>46.0</td>\n",
       "      <td>1.0</td>\n",
       "      <td>262.0</td>\n",
       "      <td>NaN</td>\n",
       "      <td>NaN</td>\n",
       "      <td>NaN</td>\n",
       "      <td>NaN</td>\n",
       "      <td>NaN</td>\n",
       "      <td>NaN</td>\n",
       "      <td>NaN</td>\n",
       "      <td>NaN</td>\n",
       "      <td>NaN</td>\n",
       "      <td>1.0</td>\n",
       "      <td>1.0</td>\n",
       "      <td>20210.0</td>\n",
       "      <td>76.0</td>\n",
       "      <td>73.0</td>\n",
       "      <td>46.0</td>\n",
       "      <td>0.0</td>\n",
       "      <td>1316.0</td>\n",
       "      <td>170.0</td>\n",
       "      <td>156.0</td>\n",
       "      <td>YV</td>\n",
       "      <td>20378</td>\n",
       "      <td>Mesa Airlines Inc.</td>\n",
       "      <td>D</td>\n",
       "      <td>YV</td>\n",
       "      <td>Mesa Airlines Inc.</td>\n",
       "      <td>2</td>\n",
       "      <td>2</td>\n",
       "      <td>14689</td>\n",
       "      <td>34689</td>\n",
       "      <td>SBA</td>\n",
       "      <td>Santa Barbara, CA</td>\n",
       "      <td>US</td>\n",
       "      <td>United States</td>\n",
       "      <td>11298</td>\n",
       "      <td>30194</td>\n",
       "      <td>DFW</td>\n",
       "      <td>Dallas/Fort Worth, TX</td>\n",
       "      <td>US</td>\n",
       "      <td>United States</td>\n",
       "      <td>6</td>\n",
       "      <td>638</td>\n",
       "      <td>1</td>\n",
       "      <td>2019</td>\n",
       "      <td>11</td>\n",
       "      <td>3</td>\n",
       "      <td>F</td>\n",
       "      <td>DU</td>\n",
       "      <td>11</td>\n",
       "      <td>20378.0</td>\n",
       "      <td>YV</td>\n",
       "      <td>YV</td>\n",
       "      <td>Mesa Airlines Inc.</td>\n",
       "      <td>2</td>\n",
       "      <td>0.0</td>\n",
       "      <td>0.0</td>\n",
       "      <td>0.0</td>\n",
       "      <td>0.0</td>\n",
       "      <td>0.0</td>\n",
       "      <td>0.0</td>\n",
       "      <td>0.0</td>\n",
       "      <td>0.0</td>\n",
       "      <td>0.0</td>\n",
       "      <td>0.0</td>\n",
       "      <td>0.0</td>\n",
       "      <td>0.0</td>\n",
       "      <td>0.0</td>\n",
       "      <td>0.0</td>\n",
       "      <td>0.0</td>\n",
       "      <td>0.0</td>\n",
       "      <td>0.0</td>\n",
       "      <td>0.0</td>\n",
       "      <td>2018</td>\n",
       "    </tr>\n",
       "    <tr>\n",
       "      <th>2</th>\n",
       "      <td>2018-05-24</td>\n",
       "      <td>UA</td>\n",
       "      <td>UA</td>\n",
       "      <td>UA</td>\n",
       "      <td>499</td>\n",
       "      <td>UA</td>\n",
       "      <td>N433UA</td>\n",
       "      <td>499</td>\n",
       "      <td>14689</td>\n",
       "      <td>SBA</td>\n",
       "      <td>Santa Barbara, CA</td>\n",
       "      <td>14771</td>\n",
       "      <td>SFO</td>\n",
       "      <td>San Francisco, CA</td>\n",
       "      <td>710</td>\n",
       "      <td>704.0</td>\n",
       "      <td>-6.0</td>\n",
       "      <td>28.0</td>\n",
       "      <td>732.0</td>\n",
       "      <td>818.0</td>\n",
       "      <td>9.0</td>\n",
       "      <td>821</td>\n",
       "      <td>827.0</td>\n",
       "      <td>6.0</td>\n",
       "      <td>0.0</td>\n",
       "      <td>NaN</td>\n",
       "      <td>0.0</td>\n",
       "      <td>N</td>\n",
       "      <td>71.0</td>\n",
       "      <td>83.0</td>\n",
       "      <td>46.0</td>\n",
       "      <td>1.0</td>\n",
       "      <td>262.0</td>\n",
       "      <td>NaN</td>\n",
       "      <td>NaN</td>\n",
       "      <td>NaN</td>\n",
       "      <td>NaN</td>\n",
       "      <td>NaN</td>\n",
       "      <td>NaN</td>\n",
       "      <td>NaN</td>\n",
       "      <td>NaN</td>\n",
       "      <td>NaN</td>\n",
       "      <td>1.0</td>\n",
       "      <td>1.0</td>\n",
       "      <td>20210.0</td>\n",
       "      <td>76.0</td>\n",
       "      <td>73.0</td>\n",
       "      <td>46.0</td>\n",
       "      <td>0.0</td>\n",
       "      <td>1316.0</td>\n",
       "      <td>170.0</td>\n",
       "      <td>156.0</td>\n",
       "      <td>YV</td>\n",
       "      <td>20378</td>\n",
       "      <td>Mesa Airlines Inc.</td>\n",
       "      <td>D</td>\n",
       "      <td>YV</td>\n",
       "      <td>Mesa Airlines Inc.</td>\n",
       "      <td>2</td>\n",
       "      <td>2</td>\n",
       "      <td>14689</td>\n",
       "      <td>34689</td>\n",
       "      <td>SBA</td>\n",
       "      <td>Santa Barbara, CA</td>\n",
       "      <td>US</td>\n",
       "      <td>United States</td>\n",
       "      <td>11298</td>\n",
       "      <td>30194</td>\n",
       "      <td>DFW</td>\n",
       "      <td>Dallas/Fort Worth, TX</td>\n",
       "      <td>US</td>\n",
       "      <td>United States</td>\n",
       "      <td>6</td>\n",
       "      <td>638</td>\n",
       "      <td>1</td>\n",
       "      <td>2019</td>\n",
       "      <td>11</td>\n",
       "      <td>3</td>\n",
       "      <td>F</td>\n",
       "      <td>DU</td>\n",
       "      <td>10</td>\n",
       "      <td>20378.0</td>\n",
       "      <td>YV</td>\n",
       "      <td>YV</td>\n",
       "      <td>Mesa Airlines Inc.</td>\n",
       "      <td>2</td>\n",
       "      <td>0.0</td>\n",
       "      <td>0.0</td>\n",
       "      <td>0.0</td>\n",
       "      <td>0.0</td>\n",
       "      <td>0.0</td>\n",
       "      <td>0.0</td>\n",
       "      <td>0.0</td>\n",
       "      <td>0.0</td>\n",
       "      <td>0.0</td>\n",
       "      <td>0.0</td>\n",
       "      <td>0.0</td>\n",
       "      <td>0.0</td>\n",
       "      <td>0.0</td>\n",
       "      <td>0.0</td>\n",
       "      <td>0.0</td>\n",
       "      <td>0.0</td>\n",
       "      <td>0.0</td>\n",
       "      <td>0.0</td>\n",
       "      <td>2018</td>\n",
       "    </tr>\n",
       "    <tr>\n",
       "      <th>3</th>\n",
       "      <td>2018-05-24</td>\n",
       "      <td>UA</td>\n",
       "      <td>UA</td>\n",
       "      <td>UA</td>\n",
       "      <td>499</td>\n",
       "      <td>UA</td>\n",
       "      <td>N433UA</td>\n",
       "      <td>499</td>\n",
       "      <td>14689</td>\n",
       "      <td>SBA</td>\n",
       "      <td>Santa Barbara, CA</td>\n",
       "      <td>14771</td>\n",
       "      <td>SFO</td>\n",
       "      <td>San Francisco, CA</td>\n",
       "      <td>710</td>\n",
       "      <td>704.0</td>\n",
       "      <td>-6.0</td>\n",
       "      <td>28.0</td>\n",
       "      <td>732.0</td>\n",
       "      <td>818.0</td>\n",
       "      <td>9.0</td>\n",
       "      <td>821</td>\n",
       "      <td>827.0</td>\n",
       "      <td>6.0</td>\n",
       "      <td>0.0</td>\n",
       "      <td>NaN</td>\n",
       "      <td>0.0</td>\n",
       "      <td>N</td>\n",
       "      <td>71.0</td>\n",
       "      <td>83.0</td>\n",
       "      <td>46.0</td>\n",
       "      <td>1.0</td>\n",
       "      <td>262.0</td>\n",
       "      <td>NaN</td>\n",
       "      <td>NaN</td>\n",
       "      <td>NaN</td>\n",
       "      <td>NaN</td>\n",
       "      <td>NaN</td>\n",
       "      <td>NaN</td>\n",
       "      <td>NaN</td>\n",
       "      <td>NaN</td>\n",
       "      <td>NaN</td>\n",
       "      <td>1.0</td>\n",
       "      <td>1.0</td>\n",
       "      <td>20210.0</td>\n",
       "      <td>76.0</td>\n",
       "      <td>73.0</td>\n",
       "      <td>46.0</td>\n",
       "      <td>0.0</td>\n",
       "      <td>1316.0</td>\n",
       "      <td>170.0</td>\n",
       "      <td>156.0</td>\n",
       "      <td>YV</td>\n",
       "      <td>20378</td>\n",
       "      <td>Mesa Airlines Inc.</td>\n",
       "      <td>D</td>\n",
       "      <td>YV</td>\n",
       "      <td>Mesa Airlines Inc.</td>\n",
       "      <td>2</td>\n",
       "      <td>2</td>\n",
       "      <td>14689</td>\n",
       "      <td>34689</td>\n",
       "      <td>SBA</td>\n",
       "      <td>Santa Barbara, CA</td>\n",
       "      <td>US</td>\n",
       "      <td>United States</td>\n",
       "      <td>11298</td>\n",
       "      <td>30194</td>\n",
       "      <td>DFW</td>\n",
       "      <td>Dallas/Fort Worth, TX</td>\n",
       "      <td>US</td>\n",
       "      <td>United States</td>\n",
       "      <td>6</td>\n",
       "      <td>638</td>\n",
       "      <td>1</td>\n",
       "      <td>2019</td>\n",
       "      <td>11</td>\n",
       "      <td>3</td>\n",
       "      <td>F</td>\n",
       "      <td>DU</td>\n",
       "      <td>9</td>\n",
       "      <td>20378.0</td>\n",
       "      <td>YV</td>\n",
       "      <td>YV</td>\n",
       "      <td>Mesa Airlines Inc.</td>\n",
       "      <td>2</td>\n",
       "      <td>0.0</td>\n",
       "      <td>0.0</td>\n",
       "      <td>0.0</td>\n",
       "      <td>0.0</td>\n",
       "      <td>0.0</td>\n",
       "      <td>0.0</td>\n",
       "      <td>0.0</td>\n",
       "      <td>0.0</td>\n",
       "      <td>0.0</td>\n",
       "      <td>0.0</td>\n",
       "      <td>0.0</td>\n",
       "      <td>0.0</td>\n",
       "      <td>0.0</td>\n",
       "      <td>0.0</td>\n",
       "      <td>0.0</td>\n",
       "      <td>0.0</td>\n",
       "      <td>0.0</td>\n",
       "      <td>0.0</td>\n",
       "      <td>2018</td>\n",
       "    </tr>\n",
       "    <tr>\n",
       "      <th>4</th>\n",
       "      <td>2018-05-24</td>\n",
       "      <td>UA</td>\n",
       "      <td>UA</td>\n",
       "      <td>UA</td>\n",
       "      <td>499</td>\n",
       "      <td>UA</td>\n",
       "      <td>N433UA</td>\n",
       "      <td>499</td>\n",
       "      <td>14689</td>\n",
       "      <td>SBA</td>\n",
       "      <td>Santa Barbara, CA</td>\n",
       "      <td>14771</td>\n",
       "      <td>SFO</td>\n",
       "      <td>San Francisco, CA</td>\n",
       "      <td>710</td>\n",
       "      <td>704.0</td>\n",
       "      <td>-6.0</td>\n",
       "      <td>28.0</td>\n",
       "      <td>732.0</td>\n",
       "      <td>818.0</td>\n",
       "      <td>9.0</td>\n",
       "      <td>821</td>\n",
       "      <td>827.0</td>\n",
       "      <td>6.0</td>\n",
       "      <td>0.0</td>\n",
       "      <td>NaN</td>\n",
       "      <td>0.0</td>\n",
       "      <td>N</td>\n",
       "      <td>71.0</td>\n",
       "      <td>83.0</td>\n",
       "      <td>46.0</td>\n",
       "      <td>1.0</td>\n",
       "      <td>262.0</td>\n",
       "      <td>NaN</td>\n",
       "      <td>NaN</td>\n",
       "      <td>NaN</td>\n",
       "      <td>NaN</td>\n",
       "      <td>NaN</td>\n",
       "      <td>NaN</td>\n",
       "      <td>NaN</td>\n",
       "      <td>NaN</td>\n",
       "      <td>NaN</td>\n",
       "      <td>1.0</td>\n",
       "      <td>1.0</td>\n",
       "      <td>20210.0</td>\n",
       "      <td>76.0</td>\n",
       "      <td>73.0</td>\n",
       "      <td>46.0</td>\n",
       "      <td>0.0</td>\n",
       "      <td>1316.0</td>\n",
       "      <td>170.0</td>\n",
       "      <td>156.0</td>\n",
       "      <td>YV</td>\n",
       "      <td>20378</td>\n",
       "      <td>Mesa Airlines Inc.</td>\n",
       "      <td>D</td>\n",
       "      <td>YV</td>\n",
       "      <td>Mesa Airlines Inc.</td>\n",
       "      <td>2</td>\n",
       "      <td>2</td>\n",
       "      <td>14689</td>\n",
       "      <td>34689</td>\n",
       "      <td>SBA</td>\n",
       "      <td>Santa Barbara, CA</td>\n",
       "      <td>US</td>\n",
       "      <td>United States</td>\n",
       "      <td>11298</td>\n",
       "      <td>30194</td>\n",
       "      <td>DFW</td>\n",
       "      <td>Dallas/Fort Worth, TX</td>\n",
       "      <td>US</td>\n",
       "      <td>United States</td>\n",
       "      <td>6</td>\n",
       "      <td>638</td>\n",
       "      <td>1</td>\n",
       "      <td>2019</td>\n",
       "      <td>11</td>\n",
       "      <td>3</td>\n",
       "      <td>F</td>\n",
       "      <td>DU</td>\n",
       "      <td>8</td>\n",
       "      <td>20378.0</td>\n",
       "      <td>YV</td>\n",
       "      <td>YV</td>\n",
       "      <td>Mesa Airlines Inc.</td>\n",
       "      <td>2</td>\n",
       "      <td>0.0</td>\n",
       "      <td>0.0</td>\n",
       "      <td>0.0</td>\n",
       "      <td>0.0</td>\n",
       "      <td>0.0</td>\n",
       "      <td>0.0</td>\n",
       "      <td>0.0</td>\n",
       "      <td>0.0</td>\n",
       "      <td>0.0</td>\n",
       "      <td>0.0</td>\n",
       "      <td>0.0</td>\n",
       "      <td>0.0</td>\n",
       "      <td>0.0</td>\n",
       "      <td>0.0</td>\n",
       "      <td>0.0</td>\n",
       "      <td>0.0</td>\n",
       "      <td>0.0</td>\n",
       "      <td>0.0</td>\n",
       "      <td>2018</td>\n",
       "    </tr>\n",
       "  </tbody>\n",
       "</table>\n",
       "</div>"
      ],
      "text/plain": [
       "      fl_date mkt_unique_carrier branded_code_share mkt_carrier  \\\n",
       "0  2018-05-24                 UA                 UA          UA   \n",
       "1  2018-05-24                 UA                 UA          UA   \n",
       "2  2018-05-24                 UA                 UA          UA   \n",
       "3  2018-05-24                 UA                 UA          UA   \n",
       "4  2018-05-24                 UA                 UA          UA   \n",
       "\n",
       "   mkt_carrier_fl_num op_unique_carrier tail_num  op_carrier_fl_num  \\\n",
       "0                 499                UA   N433UA                499   \n",
       "1                 499                UA   N433UA                499   \n",
       "2                 499                UA   N433UA                499   \n",
       "3                 499                UA   N433UA                499   \n",
       "4                 499                UA   N433UA                499   \n",
       "\n",
       "   origin_airport_id origin   origin_city_name  dest_airport_id dest  \\\n",
       "0              14689    SBA  Santa Barbara, CA            14771  SFO   \n",
       "1              14689    SBA  Santa Barbara, CA            14771  SFO   \n",
       "2              14689    SBA  Santa Barbara, CA            14771  SFO   \n",
       "3              14689    SBA  Santa Barbara, CA            14771  SFO   \n",
       "4              14689    SBA  Santa Barbara, CA            14771  SFO   \n",
       "\n",
       "      dest_city_name  crs_dep_time  dep_time  dep_delay  taxi_out  wheels_off  \\\n",
       "0  San Francisco, CA           710     704.0       -6.0      28.0       732.0   \n",
       "1  San Francisco, CA           710     704.0       -6.0      28.0       732.0   \n",
       "2  San Francisco, CA           710     704.0       -6.0      28.0       732.0   \n",
       "3  San Francisco, CA           710     704.0       -6.0      28.0       732.0   \n",
       "4  San Francisco, CA           710     704.0       -6.0      28.0       732.0   \n",
       "\n",
       "   wheels_on  taxi_in  crs_arr_time  arr_time  arr_delay  cancelled  \\\n",
       "0      818.0      9.0           821     827.0        6.0        0.0   \n",
       "1      818.0      9.0           821     827.0        6.0        0.0   \n",
       "2      818.0      9.0           821     827.0        6.0        0.0   \n",
       "3      818.0      9.0           821     827.0        6.0        0.0   \n",
       "4      818.0      9.0           821     827.0        6.0        0.0   \n",
       "\n",
       "  cancellation_code  diverted dup  crs_elapsed_time  actual_elapsed_time  \\\n",
       "0               NaN       0.0   N              71.0                 83.0   \n",
       "1               NaN       0.0   N              71.0                 83.0   \n",
       "2               NaN       0.0   N              71.0                 83.0   \n",
       "3               NaN       0.0   N              71.0                 83.0   \n",
       "4               NaN       0.0   N              71.0                 83.0   \n",
       "\n",
       "   air_time  flights  distance  carrier_delay  weather_delay  nas_delay  \\\n",
       "0      46.0      1.0     262.0            NaN            NaN        NaN   \n",
       "1      46.0      1.0     262.0            NaN            NaN        NaN   \n",
       "2      46.0      1.0     262.0            NaN            NaN        NaN   \n",
       "3      46.0      1.0     262.0            NaN            NaN        NaN   \n",
       "4      46.0      1.0     262.0            NaN            NaN        NaN   \n",
       "\n",
       "   security_delay  late_aircraft_delay  first_dep_time  total_add_gtime  \\\n",
       "0             NaN                  NaN             NaN              NaN   \n",
       "1             NaN                  NaN             NaN              NaN   \n",
       "2             NaN                  NaN             NaN              NaN   \n",
       "3             NaN                  NaN             NaN              NaN   \n",
       "4             NaN                  NaN             NaN              NaN   \n",
       "\n",
       "   longest_add_gtime  no_name  departures_scheduled  departures_performed  \\\n",
       "0                NaN      NaN                   1.0                   1.0   \n",
       "1                NaN      NaN                   1.0                   1.0   \n",
       "2                NaN      NaN                   1.0                   1.0   \n",
       "3                NaN      NaN                   1.0                   1.0   \n",
       "4                NaN      NaN                   1.0                   1.0   \n",
       "\n",
       "   payload  seats  passengers  freight  mail  distance.1  ramp_to_ramp  \\\n",
       "0  20210.0   76.0        73.0     46.0   0.0      1316.0         170.0   \n",
       "1  20210.0   76.0        73.0     46.0   0.0      1316.0         170.0   \n",
       "2  20210.0   76.0        73.0     46.0   0.0      1316.0         170.0   \n",
       "3  20210.0   76.0        73.0     46.0   0.0      1316.0         170.0   \n",
       "4  20210.0   76.0        73.0     46.0   0.0      1316.0         170.0   \n",
       "\n",
       "   air_time.1 unique_carrier  airline_id unique_carrier_name region carrier  \\\n",
       "0       156.0             YV       20378  Mesa Airlines Inc.      D      YV   \n",
       "1       156.0             YV       20378  Mesa Airlines Inc.      D      YV   \n",
       "2       156.0             YV       20378  Mesa Airlines Inc.      D      YV   \n",
       "3       156.0             YV       20378  Mesa Airlines Inc.      D      YV   \n",
       "4       156.0             YV       20378  Mesa Airlines Inc.      D      YV   \n",
       "\n",
       "         carrier_name  carrier_group  carrier_group_new  origin_airport_id.1  \\\n",
       "0  Mesa Airlines Inc.              2                  2                14689   \n",
       "1  Mesa Airlines Inc.              2                  2                14689   \n",
       "2  Mesa Airlines Inc.              2                  2                14689   \n",
       "3  Mesa Airlines Inc.              2                  2                14689   \n",
       "4  Mesa Airlines Inc.              2                  2                14689   \n",
       "\n",
       "   origin_city_market_id origin.1 origin_city_name.1 origin_country  \\\n",
       "0                  34689      SBA  Santa Barbara, CA             US   \n",
       "1                  34689      SBA  Santa Barbara, CA             US   \n",
       "2                  34689      SBA  Santa Barbara, CA             US   \n",
       "3                  34689      SBA  Santa Barbara, CA             US   \n",
       "4                  34689      SBA  Santa Barbara, CA             US   \n",
       "\n",
       "  origin_country_name  dest_airport_id.1  dest_city_market_id dest.1  \\\n",
       "0       United States              11298                30194    DFW   \n",
       "1       United States              11298                30194    DFW   \n",
       "2       United States              11298                30194    DFW   \n",
       "3       United States              11298                30194    DFW   \n",
       "4       United States              11298                30194    DFW   \n",
       "\n",
       "        dest_city_name.1 dest_country dest_country_name  aircraft_group  \\\n",
       "0  Dallas/Fort Worth, TX           US     United States               6   \n",
       "1  Dallas/Fort Worth, TX           US     United States               6   \n",
       "2  Dallas/Fort Worth, TX           US     United States               6   \n",
       "3  Dallas/Fort Worth, TX           US     United States               6   \n",
       "4  Dallas/Fort Worth, TX           US     United States               6   \n",
       "\n",
       "   aircraft_type  aircraft_config  year  month  distance_group class  \\\n",
       "0            638                1  2019     11               3     F   \n",
       "1            638                1  2019     11               3     F   \n",
       "2            638                1  2019     11               3     F   \n",
       "3            638                1  2019     11               3     F   \n",
       "4            638                1  2019     11               3     F   \n",
       "\n",
       "  data_source  month.1  airline_id.1 unique_carrier.1 carrier.1  \\\n",
       "0          DU       12       20378.0               YV        YV   \n",
       "1          DU       11       20378.0               YV        YV   \n",
       "2          DU       10       20378.0               YV        YV   \n",
       "3          DU        9       20378.0               YV        YV   \n",
       "4          DU        8       20378.0               YV        YV   \n",
       "\n",
       "       carrier_name.1  carrier_group_new.1  sdomt_gallons  satl_gallons  \\\n",
       "0  Mesa Airlines Inc.                    2            0.0           0.0   \n",
       "1  Mesa Airlines Inc.                    2            0.0           0.0   \n",
       "2  Mesa Airlines Inc.                    2            0.0           0.0   \n",
       "3  Mesa Airlines Inc.                    2            0.0           0.0   \n",
       "4  Mesa Airlines Inc.                    2            0.0           0.0   \n",
       "\n",
       "   spac_gallons  slat_gallons  sint_gallons  ts_gallons  tdomt_gallons  \\\n",
       "0           0.0           0.0           0.0         0.0            0.0   \n",
       "1           0.0           0.0           0.0         0.0            0.0   \n",
       "2           0.0           0.0           0.0         0.0            0.0   \n",
       "3           0.0           0.0           0.0         0.0            0.0   \n",
       "4           0.0           0.0           0.0         0.0            0.0   \n",
       "\n",
       "   tint_gallons  total_gallons  sdomt_cost  satl_cost  spac_cost  slat_cost  \\\n",
       "0           0.0            0.0         0.0        0.0        0.0        0.0   \n",
       "1           0.0            0.0         0.0        0.0        0.0        0.0   \n",
       "2           0.0            0.0         0.0        0.0        0.0        0.0   \n",
       "3           0.0            0.0         0.0        0.0        0.0        0.0   \n",
       "4           0.0            0.0         0.0        0.0        0.0        0.0   \n",
       "\n",
       "   sint_cost  ts_cost  tdomt_cost  tint_cost  total_cost  year.1  \n",
       "0        0.0      0.0         0.0        0.0         0.0    2018  \n",
       "1        0.0      0.0         0.0        0.0         0.0    2018  \n",
       "2        0.0      0.0         0.0        0.0         0.0    2018  \n",
       "3        0.0      0.0         0.0        0.0         0.0    2018  \n",
       "4        0.0      0.0         0.0        0.0         0.0    2018  "
      ]
     },
     "execution_count": 65,
     "metadata": {},
     "output_type": "execute_result"
    }
   ],
   "source": [
    "data=pd.read_csv(\"/Users/annajose/Desktop/BOOTCAMP 2/Week5Day5/data.csv\")\n",
    "data.head(5)"
   ]
  },
  {
   "cell_type": "code",
   "execution_count": 66,
   "metadata": {},
   "outputs": [
    {
     "data": {
      "text/plain": [
       "['fl_date',\n",
       " 'mkt_unique_carrier',\n",
       " 'branded_code_share',\n",
       " 'mkt_carrier',\n",
       " 'mkt_carrier_fl_num',\n",
       " 'op_unique_carrier',\n",
       " 'tail_num',\n",
       " 'op_carrier_fl_num',\n",
       " 'origin_airport_id',\n",
       " 'origin',\n",
       " 'origin_city_name',\n",
       " 'dest_airport_id',\n",
       " 'dest',\n",
       " 'dest_city_name',\n",
       " 'crs_dep_time',\n",
       " 'dep_time',\n",
       " 'dep_delay',\n",
       " 'taxi_out',\n",
       " 'wheels_off',\n",
       " 'wheels_on',\n",
       " 'taxi_in',\n",
       " 'crs_arr_time',\n",
       " 'arr_time',\n",
       " 'arr_delay',\n",
       " 'cancelled',\n",
       " 'cancellation_code',\n",
       " 'diverted',\n",
       " 'dup',\n",
       " 'crs_elapsed_time',\n",
       " 'actual_elapsed_time',\n",
       " 'air_time',\n",
       " 'flights',\n",
       " 'distance',\n",
       " 'carrier_delay',\n",
       " 'weather_delay',\n",
       " 'nas_delay',\n",
       " 'security_delay',\n",
       " 'late_aircraft_delay',\n",
       " 'first_dep_time',\n",
       " 'total_add_gtime',\n",
       " 'longest_add_gtime',\n",
       " 'no_name',\n",
       " 'departures_scheduled',\n",
       " 'departures_performed',\n",
       " 'payload',\n",
       " 'seats',\n",
       " 'passengers',\n",
       " 'freight',\n",
       " 'mail',\n",
       " 'distance.1',\n",
       " 'ramp_to_ramp',\n",
       " 'air_time.1',\n",
       " 'unique_carrier',\n",
       " 'airline_id',\n",
       " 'unique_carrier_name',\n",
       " 'region',\n",
       " 'carrier',\n",
       " 'carrier_name',\n",
       " 'carrier_group',\n",
       " 'carrier_group_new',\n",
       " 'origin_airport_id.1',\n",
       " 'origin_city_market_id',\n",
       " 'origin.1',\n",
       " 'origin_city_name.1',\n",
       " 'origin_country',\n",
       " 'origin_country_name',\n",
       " 'dest_airport_id.1',\n",
       " 'dest_city_market_id',\n",
       " 'dest.1',\n",
       " 'dest_city_name.1',\n",
       " 'dest_country',\n",
       " 'dest_country_name',\n",
       " 'aircraft_group',\n",
       " 'aircraft_type',\n",
       " 'aircraft_config',\n",
       " 'year',\n",
       " 'month',\n",
       " 'distance_group',\n",
       " 'class',\n",
       " 'data_source',\n",
       " 'month.1',\n",
       " 'airline_id.1',\n",
       " 'unique_carrier.1',\n",
       " 'carrier.1',\n",
       " 'carrier_name.1',\n",
       " 'carrier_group_new.1',\n",
       " 'sdomt_gallons',\n",
       " 'satl_gallons',\n",
       " 'spac_gallons',\n",
       " 'slat_gallons',\n",
       " 'sint_gallons',\n",
       " 'ts_gallons',\n",
       " 'tdomt_gallons',\n",
       " 'tint_gallons',\n",
       " 'total_gallons',\n",
       " 'sdomt_cost',\n",
       " 'satl_cost',\n",
       " 'spac_cost',\n",
       " 'slat_cost',\n",
       " 'sint_cost',\n",
       " 'ts_cost',\n",
       " 'tdomt_cost',\n",
       " 'tint_cost',\n",
       " 'total_cost',\n",
       " 'year.1']"
      ]
     },
     "execution_count": 66,
     "metadata": {},
     "output_type": "execute_result"
    }
   ],
   "source": [
    "data.columns.values.tolist()"
   ]
  },
  {
   "cell_type": "code",
   "execution_count": null,
   "metadata": {},
   "outputs": [],
   "source": []
  },
  {
   "cell_type": "code",
   "execution_count": 122,
   "metadata": {},
   "outputs": [
    {
     "data": {
      "text/plain": [
       "(100000, 42)"
      ]
     },
     "execution_count": 122,
     "metadata": {},
     "output_type": "execute_result"
    }
   ],
   "source": [
    "df_flights = pd.read_csv(\"/Users/annajose/Desktop/BOOTCAMP 2/Week5Day5/M-I-D-T-E-R-M/flights.csv\")\n",
    "df_flights.shape"
   ]
  },
  {
   "cell_type": "code",
   "execution_count": 123,
   "metadata": {},
   "outputs": [
    {
     "data": {
      "text/html": [
       "<div>\n",
       "<style scoped>\n",
       "    .dataframe tbody tr th:only-of-type {\n",
       "        vertical-align: middle;\n",
       "    }\n",
       "\n",
       "    .dataframe tbody tr th {\n",
       "        vertical-align: top;\n",
       "    }\n",
       "\n",
       "    .dataframe thead th {\n",
       "        text-align: right;\n",
       "    }\n",
       "</style>\n",
       "<table border=\"1\" class=\"dataframe\">\n",
       "  <thead>\n",
       "    <tr style=\"text-align: right;\">\n",
       "      <th></th>\n",
       "      <th>fl_date</th>\n",
       "      <th>mkt_unique_carrier</th>\n",
       "      <th>branded_code_share</th>\n",
       "      <th>mkt_carrier</th>\n",
       "      <th>mkt_carrier_fl_num</th>\n",
       "      <th>op_unique_carrier</th>\n",
       "      <th>tail_num</th>\n",
       "      <th>op_carrier_fl_num</th>\n",
       "      <th>origin_airport_id</th>\n",
       "      <th>origin</th>\n",
       "      <th>origin_city_name</th>\n",
       "      <th>dest_airport_id</th>\n",
       "      <th>dest</th>\n",
       "      <th>dest_city_name</th>\n",
       "      <th>crs_dep_time</th>\n",
       "      <th>dep_time</th>\n",
       "      <th>dep_delay</th>\n",
       "      <th>taxi_out</th>\n",
       "      <th>wheels_off</th>\n",
       "      <th>wheels_on</th>\n",
       "      <th>taxi_in</th>\n",
       "      <th>crs_arr_time</th>\n",
       "      <th>arr_time</th>\n",
       "      <th>arr_delay</th>\n",
       "      <th>cancelled</th>\n",
       "      <th>cancellation_code</th>\n",
       "      <th>diverted</th>\n",
       "      <th>dup</th>\n",
       "      <th>crs_elapsed_time</th>\n",
       "      <th>actual_elapsed_time</th>\n",
       "      <th>air_time</th>\n",
       "      <th>flights</th>\n",
       "      <th>distance</th>\n",
       "      <th>carrier_delay</th>\n",
       "      <th>weather_delay</th>\n",
       "      <th>nas_delay</th>\n",
       "      <th>security_delay</th>\n",
       "      <th>late_aircraft_delay</th>\n",
       "      <th>first_dep_time</th>\n",
       "      <th>total_add_gtime</th>\n",
       "      <th>longest_add_gtime</th>\n",
       "      <th>no_name</th>\n",
       "    </tr>\n",
       "  </thead>\n",
       "  <tbody>\n",
       "    <tr>\n",
       "      <th>0</th>\n",
       "      <td>2019-11-27</td>\n",
       "      <td>AA</td>\n",
       "      <td>AA_CODESHARE</td>\n",
       "      <td>AA</td>\n",
       "      <td>5052</td>\n",
       "      <td>OH</td>\n",
       "      <td>N557NN</td>\n",
       "      <td>5052</td>\n",
       "      <td>11057</td>\n",
       "      <td>CLT</td>\n",
       "      <td>Charlotte, NC</td>\n",
       "      <td>11995</td>\n",
       "      <td>GSO</td>\n",
       "      <td>Greensboro/High Point, NC</td>\n",
       "      <td>1634</td>\n",
       "      <td>1628.0</td>\n",
       "      <td>-6.0</td>\n",
       "      <td>25.0</td>\n",
       "      <td>1653.0</td>\n",
       "      <td>1724.0</td>\n",
       "      <td>5.0</td>\n",
       "      <td>1733</td>\n",
       "      <td>1729.0</td>\n",
       "      <td>-4.0</td>\n",
       "      <td>0</td>\n",
       "      <td>NaN</td>\n",
       "      <td>0</td>\n",
       "      <td>N</td>\n",
       "      <td>59</td>\n",
       "      <td>61.0</td>\n",
       "      <td>31.0</td>\n",
       "      <td>1</td>\n",
       "      <td>83</td>\n",
       "      <td>NaN</td>\n",
       "      <td>NaN</td>\n",
       "      <td>NaN</td>\n",
       "      <td>NaN</td>\n",
       "      <td>NaN</td>\n",
       "      <td>NaN</td>\n",
       "      <td>NaN</td>\n",
       "      <td>NaN</td>\n",
       "      <td>NaN</td>\n",
       "    </tr>\n",
       "    <tr>\n",
       "      <th>1</th>\n",
       "      <td>2019-12-26</td>\n",
       "      <td>AA</td>\n",
       "      <td>AA_CODESHARE</td>\n",
       "      <td>AA</td>\n",
       "      <td>5812</td>\n",
       "      <td>YV</td>\n",
       "      <td>N952LR</td>\n",
       "      <td>5812</td>\n",
       "      <td>13851</td>\n",
       "      <td>OKC</td>\n",
       "      <td>Oklahoma City, OK</td>\n",
       "      <td>11298</td>\n",
       "      <td>DFW</td>\n",
       "      <td>Dallas/Fort Worth, TX</td>\n",
       "      <td>1652</td>\n",
       "      <td>1732.0</td>\n",
       "      <td>40.0</td>\n",
       "      <td>13.0</td>\n",
       "      <td>1745.0</td>\n",
       "      <td>1819.0</td>\n",
       "      <td>7.0</td>\n",
       "      <td>1802</td>\n",
       "      <td>1826.0</td>\n",
       "      <td>24.0</td>\n",
       "      <td>0</td>\n",
       "      <td>NaN</td>\n",
       "      <td>0</td>\n",
       "      <td>N</td>\n",
       "      <td>70</td>\n",
       "      <td>54.0</td>\n",
       "      <td>34.0</td>\n",
       "      <td>1</td>\n",
       "      <td>175</td>\n",
       "      <td>0.0</td>\n",
       "      <td>0.0</td>\n",
       "      <td>0.0</td>\n",
       "      <td>0.0</td>\n",
       "      <td>24.0</td>\n",
       "      <td>NaN</td>\n",
       "      <td>NaN</td>\n",
       "      <td>NaN</td>\n",
       "      <td>NaN</td>\n",
       "    </tr>\n",
       "    <tr>\n",
       "      <th>2</th>\n",
       "      <td>2018-10-25</td>\n",
       "      <td>WN</td>\n",
       "      <td>WN</td>\n",
       "      <td>WN</td>\n",
       "      <td>1270</td>\n",
       "      <td>WN</td>\n",
       "      <td>N962WN</td>\n",
       "      <td>1270</td>\n",
       "      <td>15304</td>\n",
       "      <td>TPA</td>\n",
       "      <td>Tampa, FL</td>\n",
       "      <td>14730</td>\n",
       "      <td>SDF</td>\n",
       "      <td>Louisville, KY</td>\n",
       "      <td>955</td>\n",
       "      <td>949.0</td>\n",
       "      <td>-6.0</td>\n",
       "      <td>21.0</td>\n",
       "      <td>1010.0</td>\n",
       "      <td>1150.0</td>\n",
       "      <td>5.0</td>\n",
       "      <td>1155</td>\n",
       "      <td>1155.0</td>\n",
       "      <td>0.0</td>\n",
       "      <td>0</td>\n",
       "      <td>NaN</td>\n",
       "      <td>0</td>\n",
       "      <td>N</td>\n",
       "      <td>120</td>\n",
       "      <td>126.0</td>\n",
       "      <td>100.0</td>\n",
       "      <td>1</td>\n",
       "      <td>727</td>\n",
       "      <td>NaN</td>\n",
       "      <td>NaN</td>\n",
       "      <td>NaN</td>\n",
       "      <td>NaN</td>\n",
       "      <td>NaN</td>\n",
       "      <td>NaN</td>\n",
       "      <td>NaN</td>\n",
       "      <td>NaN</td>\n",
       "      <td>NaN</td>\n",
       "    </tr>\n",
       "    <tr>\n",
       "      <th>3</th>\n",
       "      <td>2018-06-25</td>\n",
       "      <td>DL</td>\n",
       "      <td>DL</td>\n",
       "      <td>DL</td>\n",
       "      <td>2031</td>\n",
       "      <td>DL</td>\n",
       "      <td>N979AT</td>\n",
       "      <td>2031</td>\n",
       "      <td>10397</td>\n",
       "      <td>ATL</td>\n",
       "      <td>Atlanta, GA</td>\n",
       "      <td>15624</td>\n",
       "      <td>VPS</td>\n",
       "      <td>Valparaiso, FL</td>\n",
       "      <td>1342</td>\n",
       "      <td>1401.0</td>\n",
       "      <td>19.0</td>\n",
       "      <td>30.0</td>\n",
       "      <td>1431.0</td>\n",
       "      <td>1414.0</td>\n",
       "      <td>10.0</td>\n",
       "      <td>1353</td>\n",
       "      <td>1424.0</td>\n",
       "      <td>31.0</td>\n",
       "      <td>0</td>\n",
       "      <td>NaN</td>\n",
       "      <td>0</td>\n",
       "      <td>N</td>\n",
       "      <td>71</td>\n",
       "      <td>83.0</td>\n",
       "      <td>43.0</td>\n",
       "      <td>1</td>\n",
       "      <td>250</td>\n",
       "      <td>0.0</td>\n",
       "      <td>19.0</td>\n",
       "      <td>12.0</td>\n",
       "      <td>0.0</td>\n",
       "      <td>0.0</td>\n",
       "      <td>NaN</td>\n",
       "      <td>NaN</td>\n",
       "      <td>NaN</td>\n",
       "      <td>NaN</td>\n",
       "    </tr>\n",
       "    <tr>\n",
       "      <th>4</th>\n",
       "      <td>2019-11-20</td>\n",
       "      <td>B6</td>\n",
       "      <td>B6</td>\n",
       "      <td>B6</td>\n",
       "      <td>2705</td>\n",
       "      <td>B6</td>\n",
       "      <td>N547JB</td>\n",
       "      <td>2705</td>\n",
       "      <td>11618</td>\n",
       "      <td>EWR</td>\n",
       "      <td>Newark, NJ</td>\n",
       "      <td>11697</td>\n",
       "      <td>FLL</td>\n",
       "      <td>Fort Lauderdale, FL</td>\n",
       "      <td>1646</td>\n",
       "      <td>1705.0</td>\n",
       "      <td>19.0</td>\n",
       "      <td>12.0</td>\n",
       "      <td>1717.0</td>\n",
       "      <td>1934.0</td>\n",
       "      <td>8.0</td>\n",
       "      <td>1952</td>\n",
       "      <td>1942.0</td>\n",
       "      <td>-10.0</td>\n",
       "      <td>0</td>\n",
       "      <td>NaN</td>\n",
       "      <td>0</td>\n",
       "      <td>N</td>\n",
       "      <td>186</td>\n",
       "      <td>157.0</td>\n",
       "      <td>137.0</td>\n",
       "      <td>1</td>\n",
       "      <td>1065</td>\n",
       "      <td>NaN</td>\n",
       "      <td>NaN</td>\n",
       "      <td>NaN</td>\n",
       "      <td>NaN</td>\n",
       "      <td>NaN</td>\n",
       "      <td>NaN</td>\n",
       "      <td>NaN</td>\n",
       "      <td>NaN</td>\n",
       "      <td>NaN</td>\n",
       "    </tr>\n",
       "  </tbody>\n",
       "</table>\n",
       "</div>"
      ],
      "text/plain": [
       "      fl_date mkt_unique_carrier branded_code_share mkt_carrier  \\\n",
       "0  2019-11-27                 AA       AA_CODESHARE          AA   \n",
       "1  2019-12-26                 AA       AA_CODESHARE          AA   \n",
       "2  2018-10-25                 WN                 WN          WN   \n",
       "3  2018-06-25                 DL                 DL          DL   \n",
       "4  2019-11-20                 B6                 B6          B6   \n",
       "\n",
       "   mkt_carrier_fl_num op_unique_carrier tail_num  op_carrier_fl_num  \\\n",
       "0                5052                OH   N557NN               5052   \n",
       "1                5812                YV   N952LR               5812   \n",
       "2                1270                WN   N962WN               1270   \n",
       "3                2031                DL   N979AT               2031   \n",
       "4                2705                B6   N547JB               2705   \n",
       "\n",
       "   origin_airport_id origin   origin_city_name  dest_airport_id dest  \\\n",
       "0              11057    CLT      Charlotte, NC            11995  GSO   \n",
       "1              13851    OKC  Oklahoma City, OK            11298  DFW   \n",
       "2              15304    TPA          Tampa, FL            14730  SDF   \n",
       "3              10397    ATL        Atlanta, GA            15624  VPS   \n",
       "4              11618    EWR         Newark, NJ            11697  FLL   \n",
       "\n",
       "              dest_city_name  crs_dep_time  dep_time  dep_delay  taxi_out  \\\n",
       "0  Greensboro/High Point, NC          1634    1628.0       -6.0      25.0   \n",
       "1      Dallas/Fort Worth, TX          1652    1732.0       40.0      13.0   \n",
       "2             Louisville, KY           955     949.0       -6.0      21.0   \n",
       "3             Valparaiso, FL          1342    1401.0       19.0      30.0   \n",
       "4        Fort Lauderdale, FL          1646    1705.0       19.0      12.0   \n",
       "\n",
       "   wheels_off  wheels_on  taxi_in  crs_arr_time  arr_time  arr_delay  \\\n",
       "0      1653.0     1724.0      5.0          1733    1729.0       -4.0   \n",
       "1      1745.0     1819.0      7.0          1802    1826.0       24.0   \n",
       "2      1010.0     1150.0      5.0          1155    1155.0        0.0   \n",
       "3      1431.0     1414.0     10.0          1353    1424.0       31.0   \n",
       "4      1717.0     1934.0      8.0          1952    1942.0      -10.0   \n",
       "\n",
       "   cancelled cancellation_code  diverted dup  crs_elapsed_time  \\\n",
       "0          0               NaN         0   N                59   \n",
       "1          0               NaN         0   N                70   \n",
       "2          0               NaN         0   N               120   \n",
       "3          0               NaN         0   N                71   \n",
       "4          0               NaN         0   N               186   \n",
       "\n",
       "   actual_elapsed_time  air_time  flights  distance  carrier_delay  \\\n",
       "0                 61.0      31.0        1        83            NaN   \n",
       "1                 54.0      34.0        1       175            0.0   \n",
       "2                126.0     100.0        1       727            NaN   \n",
       "3                 83.0      43.0        1       250            0.0   \n",
       "4                157.0     137.0        1      1065            NaN   \n",
       "\n",
       "   weather_delay  nas_delay  security_delay  late_aircraft_delay  \\\n",
       "0            NaN        NaN             NaN                  NaN   \n",
       "1            0.0        0.0             0.0                 24.0   \n",
       "2            NaN        NaN             NaN                  NaN   \n",
       "3           19.0       12.0             0.0                  0.0   \n",
       "4            NaN        NaN             NaN                  NaN   \n",
       "\n",
       "   first_dep_time  total_add_gtime  longest_add_gtime  no_name  \n",
       "0             NaN              NaN                NaN      NaN  \n",
       "1             NaN              NaN                NaN      NaN  \n",
       "2             NaN              NaN                NaN      NaN  \n",
       "3             NaN              NaN                NaN      NaN  \n",
       "4             NaN              NaN                NaN      NaN  "
      ]
     },
     "execution_count": 123,
     "metadata": {},
     "output_type": "execute_result"
    }
   ],
   "source": [
    "df_flights.head()"
   ]
  },
  {
   "cell_type": "code",
   "execution_count": 134,
   "metadata": {},
   "outputs": [
    {
     "data": {
      "text/html": [
       "<div>\n",
       "<style scoped>\n",
       "    .dataframe tbody tr th:only-of-type {\n",
       "        vertical-align: middle;\n",
       "    }\n",
       "\n",
       "    .dataframe tbody tr th {\n",
       "        vertical-align: top;\n",
       "    }\n",
       "\n",
       "    .dataframe thead th {\n",
       "        text-align: right;\n",
       "    }\n",
       "</style>\n",
       "<table border=\"1\" class=\"dataframe\">\n",
       "  <thead>\n",
       "    <tr style=\"text-align: right;\">\n",
       "      <th></th>\n",
       "      <th>dep_time</th>\n",
       "      <th>origin_city_name</th>\n",
       "    </tr>\n",
       "  </thead>\n",
       "  <tbody>\n",
       "    <tr>\n",
       "      <th>0</th>\n",
       "      <td>1628.0</td>\n",
       "      <td>Charlotte, NC</td>\n",
       "    </tr>\n",
       "    <tr>\n",
       "      <th>1</th>\n",
       "      <td>1732.0</td>\n",
       "      <td>Oklahoma City, OK</td>\n",
       "    </tr>\n",
       "    <tr>\n",
       "      <th>2</th>\n",
       "      <td>949.0</td>\n",
       "      <td>Tampa, FL</td>\n",
       "    </tr>\n",
       "    <tr>\n",
       "      <th>3</th>\n",
       "      <td>1401.0</td>\n",
       "      <td>Atlanta, GA</td>\n",
       "    </tr>\n",
       "    <tr>\n",
       "      <th>4</th>\n",
       "      <td>1705.0</td>\n",
       "      <td>Newark, NJ</td>\n",
       "    </tr>\n",
       "  </tbody>\n",
       "</table>\n",
       "</div>"
      ],
      "text/plain": [
       "   dep_time   origin_city_name\n",
       "0    1628.0      Charlotte, NC\n",
       "1    1732.0  Oklahoma City, OK\n",
       "2     949.0          Tampa, FL\n",
       "3    1401.0        Atlanta, GA\n",
       "4    1705.0         Newark, NJ"
      ]
     },
     "execution_count": 134,
     "metadata": {},
     "output_type": "execute_result"
    }
   ],
   "source": [
    "df_flights_origin_and_date_unique = df_flights[['dep_time', 'origin_city_name']].drop_duplicates()\n",
    "df_flights_origin_and_date_unique.head()"
   ]
  },
  {
   "cell_type": "code",
   "execution_count": 135,
   "metadata": {},
   "outputs": [
    {
     "data": {
      "text/plain": [
       "(51659, 2)"
      ]
     },
     "execution_count": 135,
     "metadata": {},
     "output_type": "execute_result"
    }
   ],
   "source": [
    "df_flights_origin_and_date_unique.shape"
   ]
  },
  {
   "cell_type": "code",
   "execution_count": 100,
   "metadata": {},
   "outputs": [
    {
     "data": {
      "text/plain": [
       "pandas.core.frame.DataFrame"
      ]
     },
     "execution_count": 100,
     "metadata": {},
     "output_type": "execute_result"
    }
   ],
   "source": [
    "df_delays = df_flights['arr_delay'] - df_flights['dep_delay']\n",
    "type(df_delays)\n",
    "df_delays1 = pd.DataFrame(data=df_delays)\n",
    "type(df_delays1)"
   ]
  },
  {
   "cell_type": "code",
   "execution_count": 101,
   "metadata": {},
   "outputs": [
    {
     "data": {
      "text/plain": [
       "RangeIndex(start=0, stop=1, step=1)"
      ]
     },
     "execution_count": 101,
     "metadata": {},
     "output_type": "execute_result"
    }
   ],
   "source": [
    "df_delays1.columns"
   ]
  },
  {
   "cell_type": "code",
   "execution_count": 69,
   "metadata": {},
   "outputs": [
    {
     "data": {
      "text/plain": [
       "(100000, 38)"
      ]
     },
     "execution_count": 69,
     "metadata": {},
     "output_type": "execute_result"
    }
   ],
   "source": [
    "df_passengers = pd.read_csv(\"/Users/annajose/Desktop/BOOTCAMP 2/Week5Day5/M-I-D-T-E-R-M/passengers.csv\")\n",
    "df_passengers.shape"
   ]
  },
  {
   "cell_type": "code",
   "execution_count": 70,
   "metadata": {},
   "outputs": [
    {
     "data": {
      "text/plain": [
       "(3035, 25)"
      ]
     },
     "execution_count": 70,
     "metadata": {},
     "output_type": "execute_result"
    }
   ],
   "source": [
    "df_fuelconsumption = pd.read_csv(\"/Users/annajose/Desktop/BOOTCAMP 2/Week5Day5/M-I-D-T-E-R-M/fuel_consumption.csv\")\n",
    "df_fuelconsumption.shape"
   ]
  },
  {
   "cell_type": "code",
   "execution_count": 71,
   "metadata": {},
   "outputs": [],
   "source": [
    "#df_flights.isnull().sum()"
   ]
  },
  {
   "cell_type": "code",
   "execution_count": 72,
   "metadata": {},
   "outputs": [],
   "source": [
    "#df_passengers.isnull().sum()"
   ]
  },
  {
   "cell_type": "code",
   "execution_count": 73,
   "metadata": {},
   "outputs": [],
   "source": [
    "#df_fuelconsumption.isnull().sum()"
   ]
  },
  {
   "cell_type": "code",
   "execution_count": null,
   "metadata": {},
   "outputs": [],
   "source": []
  },
  {
   "cell_type": "markdown",
   "metadata": {},
   "source": [
    "<font color='yellow'>Task 1: Test the hypothesis that the delay is from Normal distribution. and that mean of the delay is 0. Be careful about the outliers.</font."
   ]
  },
  {
   "cell_type": "code",
   "execution_count": 74,
   "metadata": {},
   "outputs": [
    {
     "name": "stderr",
     "output_type": "stream",
     "text": [
      "/Users/annajose/opt/anaconda3/lib/python3.8/site-packages/scipy/stats/morestats.py:1681: UserWarning: p-value may not be accurate for N > 5000.\n",
      "  warnings.warn(\"p-value may not be accurate for N > 5000.\")\n"
     ]
    },
    {
     "data": {
      "text/plain": [
       "ShapiroResult(statistic=nan, pvalue=1.0)"
      ]
     },
     "execution_count": 74,
     "metadata": {},
     "output_type": "execute_result"
    }
   ],
   "source": [
    "#After trying the shapiro test, we failed to reject the shapiro test\n",
    "shapiro_test_dep = sh(data.dep_delay)\n",
    "shapiro_test_dep"
   ]
  },
  {
   "cell_type": "code",
   "execution_count": 75,
   "metadata": {},
   "outputs": [
    {
     "data": {
      "text/plain": [
       "<AxesSubplot:xlabel='dep_delay', ylabel='Count'>"
      ]
     },
     "execution_count": 75,
     "metadata": {},
     "output_type": "execute_result"
    },
    {
     "data": {
      "image/png": "[encoded data removed]",
      "text/plain": [
       "<Figure size 432x288 with 1 Axes>"
      ]
     },
     "metadata": {
      "needs_background": "light"
     },
     "output_type": "display_data"
    }
   ],
   "source": [
    "sns.histplot(data = data, x='dep_delay', log_scale = False)"
   ]
  },
  {
   "cell_type": "code",
   "execution_count": 18,
   "metadata": {},
   "outputs": [
    {
     "name": "stderr",
     "output_type": "stream",
     "text": [
      "/Users/annajose/opt/anaconda3/lib/python3.8/site-packages/scipy/stats/morestats.py:1681: UserWarning: p-value may not be accurate for N > 5000.\n",
      "  warnings.warn(\"p-value may not be accurate for N > 5000.\")\n"
     ]
    },
    {
     "data": {
      "text/plain": [
       "ShapiroResult(statistic=nan, pvalue=1.0)"
      ]
     },
     "execution_count": 18,
     "metadata": {},
     "output_type": "execute_result"
    }
   ],
   "source": [
    "shapiro_test_arr = sh(data.arr_delay)\n",
    "shapiro_test_arr"
   ]
  },
  {
   "cell_type": "code",
   "execution_count": 19,
   "metadata": {},
   "outputs": [
    {
     "data": {
      "text/plain": [
       "<AxesSubplot:xlabel='arr_delay', ylabel='Count'>"
      ]
     },
     "execution_count": 19,
     "metadata": {},
     "output_type": "execute_result"
    },
    {
     "data": {
      "image/png": "[encoded data removed]",
      "text/plain": [
       "<Figure size 432x288 with 1 Axes>"
      ]
     },
     "metadata": {
      "needs_background": "light"
     },
     "output_type": "display_data"
    }
   ],
   "source": [
    "sns.histplot(data = data, x='arr_delay')"
   ]
  },
  {
   "cell_type": "code",
   "execution_count": 20,
   "metadata": {},
   "outputs": [
    {
     "data": {
      "text/plain": [
       "<AxesSubplot:xlabel='weather_delay', ylabel='Count'>"
      ]
     },
     "execution_count": 20,
     "metadata": {},
     "output_type": "execute_result"
    },
    {
     "data": {
      "image/png": "[encoded data removed]",
      "text/plain": [
       "<Figure size 432x288 with 1 Axes>"
      ]
     },
     "metadata": {
      "needs_background": "light"
     },
     "output_type": "display_data"
    }
   ],
   "source": [
    "sns.histplot(data = data, x='weather_delay')"
   ]
  },
  {
   "cell_type": "code",
   "execution_count": null,
   "metadata": {},
   "outputs": [],
   "source": [
    "#.............................................................END OF TASK 1................................................................................................"
   ]
  },
  {
   "cell_type": "markdown",
   "metadata": {},
   "source": [
    "Task 2: Is average/median monthly delay different during the year? If yes, which are months with the biggest delays and what could be the reason?"
   ]
  },
  {
   "cell_type": "code",
   "execution_count": null,
   "metadata": {},
   "outputs": [],
   "source": [
    "df_flights['fl_date'] = pd.to_datetime(df_flights['fl_date'], errors='coerce')\n",
    "df_flights['fl_date']"
   ]
  },
  {
   "cell_type": "code",
   "execution_count": null,
   "metadata": {},
   "outputs": [],
   "source": [
    "df_flights['month'] = df_flights['fl_date'].dt.month\n",
    "df_flights['month']"
   ]
  },
  {
   "cell_type": "code",
   "execution_count": null,
   "metadata": {},
   "outputs": [],
   "source": [
    "df_flights['year'] = df_flights['fl_date'].dt.year\n",
    "df_flights['year']"
   ]
  },
  {
   "cell_type": "code",
   "execution_count": null,
   "metadata": {},
   "outputs": [],
   "source": [
    "yr_mon_dep_delay = df_flights[['year','month', 'dep_delay']]\n",
    "yr_mon_dep_delay"
   ]
  },
  {
   "cell_type": "code",
   "execution_count": null,
   "metadata": {},
   "outputs": [],
   "source": [
    "yr_dep_delay = yr_mon_dep_delay[['dep_delay', 'year']].groupby('year').mean().reset_index()\n",
    "yr_dep_delay"
   ]
  },
  {
   "cell_type": "code",
   "execution_count": null,
   "metadata": {},
   "outputs": [],
   "source": [
    "month_dep_delay = yr_mon_dep_delay[['dep_delay', 'month']].groupby('month').mean().reset_index()\n",
    "month_dep_delay[['dep_delay', 'month']].max().to_list()"
   ]
  },
  {
   "cell_type": "code",
   "execution_count": null,
   "metadata": {},
   "outputs": [],
   "source": [
    "#///////////////////////////////////////////////////////////////////"
   ]
  },
  {
   "cell_type": "code",
   "execution_count": null,
   "metadata": {},
   "outputs": [],
   "source": [
    "import datetime"
   ]
  },
  {
   "cell_type": "code",
   "execution_count": null,
   "metadata": {},
   "outputs": [],
   "source": [
    "df_task2=df_flights.copy(deep=True)\n",
    "df_task2.head()"
   ]
  },
  {
   "cell_type": "code",
   "execution_count": null,
   "metadata": {},
   "outputs": [],
   "source": [
    "df_task2['fl_date']=pd.to_datetime(df_task2['fl_date'])\n",
    "df_task2['month']=df_task2['fl_date'].dt.month"
   ]
  },
  {
   "cell_type": "code",
   "execution_count": null,
   "metadata": {},
   "outputs": [],
   "source": [
    "df_mean=df_task2[['month', 'dep_delay','arr_delay']].groupby(['month']).mean()\n",
    "df_median=df_task2[['month', 'dep_delay','arr_delay']].groupby(['month']).median()"
   ]
  },
  {
   "cell_type": "code",
   "execution_count": null,
   "metadata": {},
   "outputs": [],
   "source": [
    "df_mean.head()"
   ]
  },
  {
   "cell_type": "code",
   "execution_count": null,
   "metadata": {},
   "outputs": [],
   "source": [
    "import plotly.express as go"
   ]
  },
  {
   "cell_type": "code",
   "execution_count": null,
   "metadata": {},
   "outputs": [],
   "source": [
    "fig=plt.subplots(figsize=(10, 6))\n",
    "\n",
    "sns.barplot(x=df_mean.index, y=df_mean['arr_delay'])"
   ]
  },
  {
   "cell_type": "code",
   "execution_count": null,
   "metadata": {},
   "outputs": [],
   "source": [
    "\n",
    "fig=plt.figure(figsize=(10, 6))\n",
    "\n",
    "sns.barplot(x=df_mean.index, y=df_mean['dep_delay'])"
   ]
  },
  {
   "cell_type": "code",
   "execution_count": null,
   "metadata": {},
   "outputs": [],
   "source": [
    "#.............................................................END OF TASK 2................................................................................................"
   ]
  },
  {
   "cell_type": "markdown",
   "metadata": {},
   "source": [
    "<font color='yellow'>Task 3: Does the weather affect the delay?\n",
    "Use the API to pull the weather information for flights. There is no need to get weather for ALL flights. We can choose the right representative sample. Let's focus on four weather types:\n",
    "</font>\n",
    "\n",
    "<font color='yellow'>\n",
    "sunny\n",
    "cloudy\n",
    "rainy\n",
    "snow. \n",
    "</font>\n",
    "    \n",
    "<font color='yellow'>Test the hypothesis that these 4 delays are from the same distribution. If they are not, which ones are significantly different?</font>"
   ]
  },
  {
   "cell_type": "code",
   "execution_count": 103,
   "metadata": {},
   "outputs": [],
   "source": [
    "# Import required Libraries\n",
    "import pandas as pd\n",
    "import os\n",
    "from pandas import json_normalize\n",
    "import json\n",
    "import requests\n",
    "from IPython.display import JSON"
   ]
  },
  {
   "cell_type": "code",
   "execution_count": 108,
   "metadata": {},
   "outputs": [],
   "source": [
    "#### REFORMAT DATE AND TIME FOR VISUAL CROSSING\n",
    "def format_departure_time(x):\n",
    "    str_time = str(x['crs_dep_time'])\n",
    "    new_time = str_time.rjust(4, '0')\n",
    "    return x['fl_date'] + 'T' + new_time[0:2] + ':' + new_time[2:4] + ':00'\n",
    "\n",
    "def format_arrival_time(x):\n",
    "    str_time = str(x['crs_arr_time'])\n",
    "    new_time = str_time.rjust(4, '0')\n",
    "    return x['fl_date'] + 'T' + new_time[0:2] + ':' + new_time[2:4] + ':00'\n",
    "\n",
    "df_flights['new_dep_time'] = df_flights.apply(format_departure_time, axis=1)\n",
    "df_flights['new_arr_time'] = df_flights.apply(format_arrival_time, axis=1)"
   ]
  },
  {
   "cell_type": "code",
   "execution_count": 109,
   "metadata": {},
   "outputs": [
    {
     "data": {
      "text/html": [
       "<div>\n",
       "<style scoped>\n",
       "    .dataframe tbody tr th:only-of-type {\n",
       "        vertical-align: middle;\n",
       "    }\n",
       "\n",
       "    .dataframe tbody tr th {\n",
       "        vertical-align: top;\n",
       "    }\n",
       "\n",
       "    .dataframe thead th {\n",
       "        text-align: right;\n",
       "    }\n",
       "</style>\n",
       "<table border=\"1\" class=\"dataframe\">\n",
       "  <thead>\n",
       "    <tr style=\"text-align: right;\">\n",
       "      <th></th>\n",
       "      <th>fl_date</th>\n",
       "      <th>mkt_unique_carrier</th>\n",
       "      <th>branded_code_share</th>\n",
       "      <th>mkt_carrier</th>\n",
       "      <th>mkt_carrier_fl_num</th>\n",
       "      <th>op_unique_carrier</th>\n",
       "      <th>tail_num</th>\n",
       "      <th>op_carrier_fl_num</th>\n",
       "      <th>origin_airport_id</th>\n",
       "      <th>origin</th>\n",
       "      <th>origin_city_name</th>\n",
       "      <th>dest_airport_id</th>\n",
       "      <th>dest</th>\n",
       "      <th>dest_city_name</th>\n",
       "      <th>crs_dep_time</th>\n",
       "      <th>dep_time</th>\n",
       "      <th>dep_delay</th>\n",
       "      <th>taxi_out</th>\n",
       "      <th>wheels_off</th>\n",
       "      <th>wheels_on</th>\n",
       "      <th>taxi_in</th>\n",
       "      <th>crs_arr_time</th>\n",
       "      <th>arr_time</th>\n",
       "      <th>arr_delay</th>\n",
       "      <th>cancelled</th>\n",
       "      <th>cancellation_code</th>\n",
       "      <th>diverted</th>\n",
       "      <th>dup</th>\n",
       "      <th>crs_elapsed_time</th>\n",
       "      <th>actual_elapsed_time</th>\n",
       "      <th>air_time</th>\n",
       "      <th>flights</th>\n",
       "      <th>distance</th>\n",
       "      <th>carrier_delay</th>\n",
       "      <th>weather_delay</th>\n",
       "      <th>nas_delay</th>\n",
       "      <th>security_delay</th>\n",
       "      <th>late_aircraft_delay</th>\n",
       "      <th>first_dep_time</th>\n",
       "      <th>total_add_gtime</th>\n",
       "      <th>longest_add_gtime</th>\n",
       "      <th>no_name</th>\n",
       "      <th>new_dep_time</th>\n",
       "      <th>new_arr_time</th>\n",
       "    </tr>\n",
       "  </thead>\n",
       "  <tbody>\n",
       "    <tr>\n",
       "      <th>0</th>\n",
       "      <td>2019-11-27</td>\n",
       "      <td>AA</td>\n",
       "      <td>AA_CODESHARE</td>\n",
       "      <td>AA</td>\n",
       "      <td>5052</td>\n",
       "      <td>OH</td>\n",
       "      <td>N557NN</td>\n",
       "      <td>5052</td>\n",
       "      <td>11057</td>\n",
       "      <td>CLT</td>\n",
       "      <td>Charlotte, NC</td>\n",
       "      <td>11995</td>\n",
       "      <td>GSO</td>\n",
       "      <td>Greensboro/High Point, NC</td>\n",
       "      <td>1634</td>\n",
       "      <td>1628.0</td>\n",
       "      <td>-6.0</td>\n",
       "      <td>25.0</td>\n",
       "      <td>1653.0</td>\n",
       "      <td>1724.0</td>\n",
       "      <td>5.0</td>\n",
       "      <td>1733</td>\n",
       "      <td>1729.0</td>\n",
       "      <td>-4.0</td>\n",
       "      <td>0</td>\n",
       "      <td>NaN</td>\n",
       "      <td>0</td>\n",
       "      <td>N</td>\n",
       "      <td>59</td>\n",
       "      <td>61.0</td>\n",
       "      <td>31.0</td>\n",
       "      <td>1</td>\n",
       "      <td>83</td>\n",
       "      <td>NaN</td>\n",
       "      <td>NaN</td>\n",
       "      <td>NaN</td>\n",
       "      <td>NaN</td>\n",
       "      <td>NaN</td>\n",
       "      <td>NaN</td>\n",
       "      <td>NaN</td>\n",
       "      <td>NaN</td>\n",
       "      <td>NaN</td>\n",
       "      <td>2019-11-27T16:34:00</td>\n",
       "      <td>2019-11-27T17:33:00</td>\n",
       "    </tr>\n",
       "    <tr>\n",
       "      <th>1</th>\n",
       "      <td>2019-12-26</td>\n",
       "      <td>AA</td>\n",
       "      <td>AA_CODESHARE</td>\n",
       "      <td>AA</td>\n",
       "      <td>5812</td>\n",
       "      <td>YV</td>\n",
       "      <td>N952LR</td>\n",
       "      <td>5812</td>\n",
       "      <td>13851</td>\n",
       "      <td>OKC</td>\n",
       "      <td>Oklahoma City, OK</td>\n",
       "      <td>11298</td>\n",
       "      <td>DFW</td>\n",
       "      <td>Dallas/Fort Worth, TX</td>\n",
       "      <td>1652</td>\n",
       "      <td>1732.0</td>\n",
       "      <td>40.0</td>\n",
       "      <td>13.0</td>\n",
       "      <td>1745.0</td>\n",
       "      <td>1819.0</td>\n",
       "      <td>7.0</td>\n",
       "      <td>1802</td>\n",
       "      <td>1826.0</td>\n",
       "      <td>24.0</td>\n",
       "      <td>0</td>\n",
       "      <td>NaN</td>\n",
       "      <td>0</td>\n",
       "      <td>N</td>\n",
       "      <td>70</td>\n",
       "      <td>54.0</td>\n",
       "      <td>34.0</td>\n",
       "      <td>1</td>\n",
       "      <td>175</td>\n",
       "      <td>0.0</td>\n",
       "      <td>0.0</td>\n",
       "      <td>0.0</td>\n",
       "      <td>0.0</td>\n",
       "      <td>24.0</td>\n",
       "      <td>NaN</td>\n",
       "      <td>NaN</td>\n",
       "      <td>NaN</td>\n",
       "      <td>NaN</td>\n",
       "      <td>2019-12-26T16:52:00</td>\n",
       "      <td>2019-12-26T18:02:00</td>\n",
       "    </tr>\n",
       "    <tr>\n",
       "      <th>2</th>\n",
       "      <td>2018-10-25</td>\n",
       "      <td>WN</td>\n",
       "      <td>WN</td>\n",
       "      <td>WN</td>\n",
       "      <td>1270</td>\n",
       "      <td>WN</td>\n",
       "      <td>N962WN</td>\n",
       "      <td>1270</td>\n",
       "      <td>15304</td>\n",
       "      <td>TPA</td>\n",
       "      <td>Tampa, FL</td>\n",
       "      <td>14730</td>\n",
       "      <td>SDF</td>\n",
       "      <td>Louisville, KY</td>\n",
       "      <td>955</td>\n",
       "      <td>949.0</td>\n",
       "      <td>-6.0</td>\n",
       "      <td>21.0</td>\n",
       "      <td>1010.0</td>\n",
       "      <td>1150.0</td>\n",
       "      <td>5.0</td>\n",
       "      <td>1155</td>\n",
       "      <td>1155.0</td>\n",
       "      <td>0.0</td>\n",
       "      <td>0</td>\n",
       "      <td>NaN</td>\n",
       "      <td>0</td>\n",
       "      <td>N</td>\n",
       "      <td>120</td>\n",
       "      <td>126.0</td>\n",
       "      <td>100.0</td>\n",
       "      <td>1</td>\n",
       "      <td>727</td>\n",
       "      <td>NaN</td>\n",
       "      <td>NaN</td>\n",
       "      <td>NaN</td>\n",
       "      <td>NaN</td>\n",
       "      <td>NaN</td>\n",
       "      <td>NaN</td>\n",
       "      <td>NaN</td>\n",
       "      <td>NaN</td>\n",
       "      <td>NaN</td>\n",
       "      <td>2018-10-25T09:55:00</td>\n",
       "      <td>2018-10-25T11:55:00</td>\n",
       "    </tr>\n",
       "    <tr>\n",
       "      <th>3</th>\n",
       "      <td>2018-06-25</td>\n",
       "      <td>DL</td>\n",
       "      <td>DL</td>\n",
       "      <td>DL</td>\n",
       "      <td>2031</td>\n",
       "      <td>DL</td>\n",
       "      <td>N979AT</td>\n",
       "      <td>2031</td>\n",
       "      <td>10397</td>\n",
       "      <td>ATL</td>\n",
       "      <td>Atlanta, GA</td>\n",
       "      <td>15624</td>\n",
       "      <td>VPS</td>\n",
       "      <td>Valparaiso, FL</td>\n",
       "      <td>1342</td>\n",
       "      <td>1401.0</td>\n",
       "      <td>19.0</td>\n",
       "      <td>30.0</td>\n",
       "      <td>1431.0</td>\n",
       "      <td>1414.0</td>\n",
       "      <td>10.0</td>\n",
       "      <td>1353</td>\n",
       "      <td>1424.0</td>\n",
       "      <td>31.0</td>\n",
       "      <td>0</td>\n",
       "      <td>NaN</td>\n",
       "      <td>0</td>\n",
       "      <td>N</td>\n",
       "      <td>71</td>\n",
       "      <td>83.0</td>\n",
       "      <td>43.0</td>\n",
       "      <td>1</td>\n",
       "      <td>250</td>\n",
       "      <td>0.0</td>\n",
       "      <td>19.0</td>\n",
       "      <td>12.0</td>\n",
       "      <td>0.0</td>\n",
       "      <td>0.0</td>\n",
       "      <td>NaN</td>\n",
       "      <td>NaN</td>\n",
       "      <td>NaN</td>\n",
       "      <td>NaN</td>\n",
       "      <td>2018-06-25T13:42:00</td>\n",
       "      <td>2018-06-25T13:53:00</td>\n",
       "    </tr>\n",
       "    <tr>\n",
       "      <th>4</th>\n",
       "      <td>2019-11-20</td>\n",
       "      <td>B6</td>\n",
       "      <td>B6</td>\n",
       "      <td>B6</td>\n",
       "      <td>2705</td>\n",
       "      <td>B6</td>\n",
       "      <td>N547JB</td>\n",
       "      <td>2705</td>\n",
       "      <td>11618</td>\n",
       "      <td>EWR</td>\n",
       "      <td>Newark, NJ</td>\n",
       "      <td>11697</td>\n",
       "      <td>FLL</td>\n",
       "      <td>Fort Lauderdale, FL</td>\n",
       "      <td>1646</td>\n",
       "      <td>1705.0</td>\n",
       "      <td>19.0</td>\n",
       "      <td>12.0</td>\n",
       "      <td>1717.0</td>\n",
       "      <td>1934.0</td>\n",
       "      <td>8.0</td>\n",
       "      <td>1952</td>\n",
       "      <td>1942.0</td>\n",
       "      <td>-10.0</td>\n",
       "      <td>0</td>\n",
       "      <td>NaN</td>\n",
       "      <td>0</td>\n",
       "      <td>N</td>\n",
       "      <td>186</td>\n",
       "      <td>157.0</td>\n",
       "      <td>137.0</td>\n",
       "      <td>1</td>\n",
       "      <td>1065</td>\n",
       "      <td>NaN</td>\n",
       "      <td>NaN</td>\n",
       "      <td>NaN</td>\n",
       "      <td>NaN</td>\n",
       "      <td>NaN</td>\n",
       "      <td>NaN</td>\n",
       "      <td>NaN</td>\n",
       "      <td>NaN</td>\n",
       "      <td>NaN</td>\n",
       "      <td>2019-11-20T16:46:00</td>\n",
       "      <td>2019-11-20T19:52:00</td>\n",
       "    </tr>\n",
       "  </tbody>\n",
       "</table>\n",
       "</div>"
      ],
      "text/plain": [
       "      fl_date mkt_unique_carrier branded_code_share mkt_carrier  \\\n",
       "0  2019-11-27                 AA       AA_CODESHARE          AA   \n",
       "1  2019-12-26                 AA       AA_CODESHARE          AA   \n",
       "2  2018-10-25                 WN                 WN          WN   \n",
       "3  2018-06-25                 DL                 DL          DL   \n",
       "4  2019-11-20                 B6                 B6          B6   \n",
       "\n",
       "   mkt_carrier_fl_num op_unique_carrier tail_num  op_carrier_fl_num  \\\n",
       "0                5052                OH   N557NN               5052   \n",
       "1                5812                YV   N952LR               5812   \n",
       "2                1270                WN   N962WN               1270   \n",
       "3                2031                DL   N979AT               2031   \n",
       "4                2705                B6   N547JB               2705   \n",
       "\n",
       "   origin_airport_id origin   origin_city_name  dest_airport_id dest  \\\n",
       "0              11057    CLT      Charlotte, NC            11995  GSO   \n",
       "1              13851    OKC  Oklahoma City, OK            11298  DFW   \n",
       "2              15304    TPA          Tampa, FL            14730  SDF   \n",
       "3              10397    ATL        Atlanta, GA            15624  VPS   \n",
       "4              11618    EWR         Newark, NJ            11697  FLL   \n",
       "\n",
       "              dest_city_name  crs_dep_time  dep_time  dep_delay  taxi_out  \\\n",
       "0  Greensboro/High Point, NC          1634    1628.0       -6.0      25.0   \n",
       "1      Dallas/Fort Worth, TX          1652    1732.0       40.0      13.0   \n",
       "2             Louisville, KY           955     949.0       -6.0      21.0   \n",
       "3             Valparaiso, FL          1342    1401.0       19.0      30.0   \n",
       "4        Fort Lauderdale, FL          1646    1705.0       19.0      12.0   \n",
       "\n",
       "   wheels_off  wheels_on  taxi_in  crs_arr_time  arr_time  arr_delay  \\\n",
       "0      1653.0     1724.0      5.0          1733    1729.0       -4.0   \n",
       "1      1745.0     1819.0      7.0          1802    1826.0       24.0   \n",
       "2      1010.0     1150.0      5.0          1155    1155.0        0.0   \n",
       "3      1431.0     1414.0     10.0          1353    1424.0       31.0   \n",
       "4      1717.0     1934.0      8.0          1952    1942.0      -10.0   \n",
       "\n",
       "   cancelled cancellation_code  diverted dup  crs_elapsed_time  \\\n",
       "0          0               NaN         0   N                59   \n",
       "1          0               NaN         0   N                70   \n",
       "2          0               NaN         0   N               120   \n",
       "3          0               NaN         0   N                71   \n",
       "4          0               NaN         0   N               186   \n",
       "\n",
       "   actual_elapsed_time  air_time  flights  distance  carrier_delay  \\\n",
       "0                 61.0      31.0        1        83            NaN   \n",
       "1                 54.0      34.0        1       175            0.0   \n",
       "2                126.0     100.0        1       727            NaN   \n",
       "3                 83.0      43.0        1       250            0.0   \n",
       "4                157.0     137.0        1      1065            NaN   \n",
       "\n",
       "   weather_delay  nas_delay  security_delay  late_aircraft_delay  \\\n",
       "0            NaN        NaN             NaN                  NaN   \n",
       "1            0.0        0.0             0.0                 24.0   \n",
       "2            NaN        NaN             NaN                  NaN   \n",
       "3           19.0       12.0             0.0                  0.0   \n",
       "4            NaN        NaN             NaN                  NaN   \n",
       "\n",
       "   first_dep_time  total_add_gtime  longest_add_gtime  no_name  \\\n",
       "0             NaN              NaN                NaN      NaN   \n",
       "1             NaN              NaN                NaN      NaN   \n",
       "2             NaN              NaN                NaN      NaN   \n",
       "3             NaN              NaN                NaN      NaN   \n",
       "4             NaN              NaN                NaN      NaN   \n",
       "\n",
       "          new_dep_time         new_arr_time  \n",
       "0  2019-11-27T16:34:00  2019-11-27T17:33:00  \n",
       "1  2019-12-26T16:52:00  2019-12-26T18:02:00  \n",
       "2  2018-10-25T09:55:00  2018-10-25T11:55:00  \n",
       "3  2018-06-25T13:42:00  2018-06-25T13:53:00  \n",
       "4  2019-11-20T16:46:00  2019-11-20T19:52:00  "
      ]
     },
     "execution_count": 109,
     "metadata": {},
     "output_type": "execute_result"
    }
   ],
   "source": [
    "df_flights.head()"
   ]
  },
  {
   "cell_type": "code",
   "execution_count": 110,
   "metadata": {},
   "outputs": [],
   "source": [
    "#### GET WEATHER FROM ORIGIN\n",
    "\n",
    "def get_weather_origin(x):\n",
    "    response = requests.get(\n",
    "        'https://weather.visualcrossing.com/VisualCrossingWebServices/rest/services/weatherdata/history',\n",
    "        params={\n",
    "            'aggregateHours': '1',\n",
    "            'startDateTime': x['new_dep_time'],\n",
    "            'unitGroup': 'us',\n",
    "            'contentType': 'json',\n",
    "            'locations': x['origin_city_name'],\n",
    "            'key': 'NCM5ESCK9CLLLUQU8N28PLD8K'\n",
    "        }\n",
    "    )\n",
    "    \n",
    "    if response.status_code == 200:\n",
    "        json = response.json()\n",
    "        for i in json['locations'].values():\n",
    "            for j in i['values']:\n",
    "                return j['conditions']"
   ]
  },
  {
   "cell_type": "code",
   "execution_count": null,
   "metadata": {},
   "outputs": [],
   "source": []
  },
  {
   "cell_type": "code",
   "execution_count": 111,
   "metadata": {},
   "outputs": [],
   "source": [
    "#### GET WEATHER FROM DESTINATION\n",
    "\n",
    "def get_weather_destination(x):\n",
    "    response = requests.get(\n",
    "        'https://weather.visualcrossing.com/VisualCrossingWebServices/rest/services/weatherdata/history',\n",
    "        params={\n",
    "            'aggregateHours': '1',\n",
    "            'startDateTime': x['new_arr_time'],\n",
    "            'unitGroup': 'us',\n",
    "            'contentType': 'json',\n",
    "            'locations': x['dest_city_name'],\n",
    "            'key': 'NCM5ESCK9CLLLUQU8N28PLD8K'\n",
    "        }\n",
    "    )\n",
    "    \n",
    "    if response.status_code == 200:\n",
    "        json = response.json()\n",
    "        for i in json['locations'].values():\n",
    "            for j in i['values']:\n",
    "                return j['conditions']"
   ]
  },
  {
   "cell_type": "code",
   "execution_count": 119,
   "metadata": {},
   "outputs": [],
   "source": [
    "df_weathertype = df_flights.iloc[500:505,:].copy()\n",
    "df_weathertype['weather_condition_origin'] = ''\n",
    "df_weathertype['weather_condition_dest'] = ''\n",
    "df_weathertype['weather_condition_origin'] = df_flights.apply(get_weather_origin, axis=1)\n",
    "df_weathertype['weather_condition_dest'] = df_flights.apply(get_weather_destination, axis=1)"
   ]
  },
  {
   "cell_type": "code",
   "execution_count": null,
   "metadata": {},
   "outputs": [],
   "source": [
    "# # Weather API Fetch Function\n",
    "# def world_weather_fetch(q, date):\n",
    "    \n",
    "#     # Set Key\n",
    "#     weather_key = 'e058d887c98c44e2922155113212905'\n",
    "        \n",
    "#     # Set Parameters for API\n",
    "#     weather_url = \"https://api.worldweatheronline.com/premium/v1/past-weather.ashx\"\n",
    "#     location = 'q'\n",
    "#     weather_response = requests.get(weather_url,params={\n",
    "#                                                   'q':location,\n",
    "#                                                   'date':'2019-01-01',\n",
    "#                                                   'key':weather_key,  \n",
    "#                                                   'format':'json',\n",
    "#                                                   })\n",
    "        \n",
    "#     #Call API and direct returned information\n",
    "#     weather_result = weather_response.json()\n",
    "#     df_weather = json_normalize(weather_result)\n",
    "#     return weather_result, df_weather"
   ]
  },
  {
   "cell_type": "code",
   "execution_count": null,
   "metadata": {},
   "outputs": [],
   "source": [
    "# world_weather_fetch('Greensboro/High Point', '2019-01-01')"
   ]
  },
  {
   "cell_type": "code",
   "execution_count": null,
   "metadata": {},
   "outputs": [],
   "source": [
    "# weather_response = requests.get('https://api.worldweatheronline.com/premium/v1/past-weather.ashx',params={\n",
    "#                                                   'q':'Greensboro,NC',\n",
    "#                                                   'date':'2019-01-01',\n",
    "#                                                   'key':'e058d887c98c44e2922155113212905',  \n",
    "#                                                   'format':'json',\n",
    "#                                                   })\n",
    "# weather_result = weather_response.json()\n",
    "# df_weather = json_normalize(weather_result)"
   ]
  },
  {
   "cell_type": "code",
   "execution_count": null,
   "metadata": {},
   "outputs": [],
   "source": [
    "# with open('weather.json', 'w') as f:\n",
    "#     json.dump(weather_result, f)"
   ]
  },
  {
   "cell_type": "code",
   "execution_count": null,
   "metadata": {},
   "outputs": [],
   "source": [
    "# # Reading JSON\n",
    "# df=pd.read_json('weather.json')\n",
    "# df"
   ]
  },
  {
   "cell_type": "code",
   "execution_count": null,
   "metadata": {},
   "outputs": [],
   "source": [
    "# weather_result"
   ]
  },
  {
   "cell_type": "code",
   "execution_count": null,
   "metadata": {},
   "outputs": [],
   "source": [
    "#df[‘month’] = df['date'].apply(lambda x: x.month)"
   ]
  },
  {
   "cell_type": "code",
   "execution_count": null,
   "metadata": {},
   "outputs": [],
   "source": []
  },
  {
   "cell_type": "code",
   "execution_count": 83,
   "metadata": {},
   "outputs": [],
   "source": [
    "# weather_result['data']['weather'][0]['hourly'][0]['weatherDesc']"
   ]
  },
  {
   "cell_type": "code",
   "execution_count": 84,
   "metadata": {},
   "outputs": [],
   "source": [
    "# def weather_forecast(row):\n",
    "#     date = row.fl_date\n",
    "#     location_dest=row.dest\n",
    "#     time_arr=row.arr_time\n",
    "#     time_dest=row.dest_time\n",
    "#     location_arr=row.arr\n",
    "#     weather_response = requests.get('https://api.worldweatheronline.com/premium/v1/past-weather.ashx',params={\n",
    "#                                                   'q':location_dest,\n",
    "#                                                   'date':date,\n",
    "#                                                   'key':'e058d887c98c44e2922155113212905',\n",
    "#                                                   'tp':1,\n",
    "#                                                   'format':'json',\n",
    "#                                                   })\n",
    "    \n",
    "#     weather_by_date=weather_result['data']['weather'][0]['hourly'][0]['weatherDesc']\n",
    "    \n",
    "#     return weather_by_date_and_time\n",
    "# df_flights['weather'] = df_flights.apply(lambda x: weather_forecast(x))"
   ]
  },
  {
   "cell_type": "code",
   "execution_count": null,
   "metadata": {},
   "outputs": [],
   "source": [
    "weather_forecast([1])"
   ]
  },
  {
   "cell_type": "code",
   "execution_count": null,
   "metadata": {},
   "outputs": [],
   "source": [
    "df_weather"
   ]
  },
  {
   "cell_type": "code",
   "execution_count": null,
   "metadata": {},
   "outputs": [],
   "source": []
  },
  {
   "cell_type": "code",
   "execution_count": null,
   "metadata": {},
   "outputs": [],
   "source": []
  },
  {
   "cell_type": "code",
   "execution_count": null,
   "metadata": {},
   "outputs": [],
   "source": [
    "df_weather.iloc[0,1]"
   ]
  },
  {
   "cell_type": "code",
   "execution_count": null,
   "metadata": {},
   "outputs": [],
   "source": []
  },
  {
   "cell_type": "code",
   "execution_count": null,
   "metadata": {},
   "outputs": [],
   "source": []
  },
  {
   "cell_type": "code",
   "execution_count": null,
   "metadata": {},
   "outputs": [],
   "source": [
    "weather_response"
   ]
  },
  {
   "cell_type": "code",
   "execution_count": null,
   "metadata": {},
   "outputs": [],
   "source": [
    "df_weather"
   ]
  },
  {
   "cell_type": "code",
   "execution_count": null,
   "metadata": {},
   "outputs": [],
   "source": [
    "df_weather"
   ]
  },
  {
   "cell_type": "code",
   "execution_count": null,
   "metadata": {},
   "outputs": [],
   "source": [
    "df_weather['data.request'].to_list()"
   ]
  },
  {
   "cell_type": "code",
   "execution_count": null,
   "metadata": {},
   "outputs": [],
   "source": []
  },
  {
   "cell_type": "code",
   "execution_count": null,
   "metadata": {},
   "outputs": [],
   "source": [
    "locations = list(df_flights.dest_city_name.unique())\n",
    "locations"
   ]
  },
  {
   "cell_type": "code",
   "execution_count": null,
   "metadata": {},
   "outputs": [],
   "source": []
  },
  {
   "cell_type": "code",
   "execution_count": null,
   "metadata": {},
   "outputs": [],
   "source": [
    "#.............................................................END OF TASK 3................................................................................................"
   ]
  },
  {
   "cell_type": "code",
   "execution_count": null,
   "metadata": {},
   "outputs": [],
   "source": [
    "#Task 4: How taxi times changing during the day? Does higher traffic lead to bigger taxi times? "
   ]
  },
  {
   "cell_type": "code",
   "execution_count": null,
   "metadata": {},
   "outputs": [],
   "source": [
    "df_flights['total_taxi'] = df_flights['taxi_out']+df_flights['taxi_in']"
   ]
  },
  {
   "cell_type": "code",
   "execution_count": null,
   "metadata": {},
   "outputs": [],
   "source": [
    "sns.scatterplot(data=df_flights, x=df_flights['total_taxi'], y=df_flights['dep_delay'])"
   ]
  },
  {
   "cell_type": "code",
   "execution_count": null,
   "metadata": {},
   "outputs": [],
   "source": [
    "#///////////////////////////////////////////////////////////////////"
   ]
  },
  {
   "cell_type": "code",
   "execution_count": null,
   "metadata": {},
   "outputs": [],
   "source": [
    "df_task4=df_flight.copy(deep=True)"
   ]
  },
  {
   "cell_type": "code",
   "execution_count": null,
   "metadata": {},
   "outputs": [],
   "source": [
    "taxi_out=df_task4.groupby(['origin']).agg({'taxi_out':['count', 'mean']}).reset_index()\n",
    "taxi_out"
   ]
  },
  {
   "cell_type": "code",
   "execution_count": null,
   "metadata": {},
   "outputs": [],
   "source": [
    "import plotly.express as go\n",
    "plt.figure(figsize=(12, 8))\n",
    "\n",
    "fig=go.scatter(x=taxi_out[('taxi_out', 'count')], y=taxi_out[('taxi_out', 'mean')], color=taxi_out['origin'])\n",
    "fig.show()"
   ]
  },
  {
   "cell_type": "code",
   "execution_count": null,
   "metadata": {},
   "outputs": [],
   "source": [
    "taxi_in=df_task4.groupby(['dest']).agg({'taxi_in':['count', 'mean']}).reset_index()\n",
    "\n",
    "plt.figure(figsize=(12, 8))\n",
    "\n",
    "fig=go.scatter(x=taxi_in[('taxi_in', 'count')], y=taxi_in[('taxi_in', 'mean')], color=taxi_in['dest'])\n",
    "fig.show()"
   ]
  },
  {
   "cell_type": "code",
   "execution_count": null,
   "metadata": {},
   "outputs": [],
   "source": [
    "#.............................................................END OF TASK 4................................................................................................"
   ]
  },
  {
   "cell_type": "code",
   "execution_count": null,
   "metadata": {},
   "outputs": [],
   "source": [
    "#Task 5: What is the average percentage of delays that is already created before departure? (aka are arrival delays \n",
    "#caused by departure delays?) Are airlines able to lower the delay during the flights?"
   ]
  },
  {
   "cell_type": "code",
   "execution_count": null,
   "metadata": {},
   "outputs": [],
   "source": [
    "total_delay = df_flights['arr_delay'] + df_flights['dep_delay']"
   ]
  },
  {
   "cell_type": "code",
   "execution_count": null,
   "metadata": {},
   "outputs": [],
   "source": [
    "print('total delays from arrival delay is: ' + str(df_flights['arr_delay'].sum()/total_delay.sum() * 100) + '%')"
   ]
  },
  {
   "cell_type": "code",
   "execution_count": null,
   "metadata": {},
   "outputs": [],
   "source": [
    "#///////////////////////////////////////////////////////////////////"
   ]
  },
  {
   "cell_type": "code",
   "execution_count": null,
   "metadata": {},
   "outputs": [],
   "source": [
    "features = [\n",
    " 'fl_date',\n",
    " 'mkt_carrier',\n",
    " 'dep_delay',\n",
    " 'taxi_out',\n",
    " 'taxi_in',\n",
    " 'crs_arr_time',\n",
    " 'arr_time',\n",
    " 'arr_delay',\n",
    " 'crs_elapsed_time',\n",
    " 'actual_elapsed_time',\n",
    " 'air_time',\n",
    " 'distance']\n",
    "delays = df_flights[features]"
   ]
  },
  {
   "cell_type": "code",
   "execution_count": null,
   "metadata": {},
   "outputs": [],
   "source": [
    "delays.head()"
   ]
  },
  {
   "cell_type": "code",
   "execution_count": null,
   "metadata": {},
   "outputs": [],
   "source": [
    "delays['delays_sum']=delays['arr_delay']+delays['dep_delay']\n",
    "delays['make_up_times']=''\n",
    "for i in delays.index:\n",
    "    if delays._get_value(i, 'dep_delay')>0:\n",
    "        if delays._get_value(i, 'dep_delay')<=delays._get_value(i, 'arr_delay'):\n",
    "            delays._set_value(i, 'make_up_times', 'no')\n",
    "        \n",
    "        else:\n",
    "            delays._set_value(i, 'make_up_times', 'yes')\n",
    "    else:\n",
    "        delays._set_value(i, 'make_up_times', 'no departure delay')"
   ]
  },
  {
   "cell_type": "code",
   "execution_count": null,
   "metadata": {},
   "outputs": [],
   "source": [
    "delays.head()"
   ]
  },
  {
   "cell_type": "code",
   "execution_count": null,
   "metadata": {},
   "outputs": [],
   "source": [
    "delays.groupby('mkt_carrier').count()"
   ]
  },
  {
   "cell_type": "code",
   "execution_count": null,
   "metadata": {},
   "outputs": [],
   "source": [
    "delays['mkt_carrier'].unique()"
   ]
  },
  {
   "cell_type": "code",
   "execution_count": null,
   "metadata": {},
   "outputs": [],
   "source": [
    "# airlines that make up for delays\n",
    "\n",
    "airline_dep_delays={'AA':[0,0,0], 'DL':[0,0,0], 'B6':[0,0,0], 'AS':[0,0,0], 'HA':[0,0,0], 'UA':[0,0,0], 'NK':[0,0,0], 'WN':[0,0,0], 'G4':[0,0,0]}\n",
    "\n",
    "for i in delays.index:\n",
    "    if delays._get_value(i, 'make_up_times')=='yes':\n",
    "        airline_dep_delays[delays._get_value(i,'mkt_carrier')][0] +=1\n",
    "    \n",
    "    elif delays._get_value(i, 'make_up_times')=='no':\n",
    "        airline_dep_delays[delays._get_value(i,'mkt_carrier')][1] +=1\n",
    "    \n",
    "    else: \n",
    "        airline_dep_delays[delays._get_value(i,'mkt_carrier')][2] +=1\n",
    "        \n",
    "#k[0] is when dep_delay is greater than arrival delay but it is managed to arrive shorter delay than the departure\n",
    "#k[1] is when there is a departure delay but the plane arrives with no delay to its destination.\n",
    "for j, k in airline_dep_delays.items():\n",
    "    print(f'{j} is able to make up for departure delay upto: {round(k[0]/(k[0]+k[1])*100)} % of the time')"
   ]
  },
  {
   "cell_type": "code",
   "execution_count": null,
   "metadata": {},
   "outputs": [],
   "source": [
    "# Finding the delays when departuring\n",
    "\n",
    "# k[2] is when the plane leaves without delay\n",
    "\n",
    "for j, k in airline_dep_delays.items():\n",
    "    print(f'{j} gets delayed at departure upto: {round((k[0]+k[1])/(k[0]+k[1]+k[2])*100)} % of the time')"
   ]
  },
  {
   "cell_type": "code",
   "execution_count": null,
   "metadata": {},
   "outputs": [],
   "source": [
    "#.............................................................END OF TASK 5................................................................................................"
   ]
  },
  {
   "cell_type": "code",
   "execution_count": null,
   "metadata": {},
   "outputs": [],
   "source": [
    "#Task 6: How many states cover 50% of US air traffic?"
   ]
  },
  {
   "cell_type": "code",
   "execution_count": null,
   "metadata": {},
   "outputs": [],
   "source": [
    "destinations = df_flights['dest_city_name'].str.rsplit(\",\", n=1, expand=True)\n",
    "destinations"
   ]
  },
  {
   "cell_type": "code",
   "execution_count": null,
   "metadata": {},
   "outputs": [],
   "source": [
    "states = destinations.loc[:,1]"
   ]
  },
  {
   "cell_type": "code",
   "execution_count": null,
   "metadata": {},
   "outputs": [],
   "source": [
    "states.value_counts().head(5)"
   ]
  },
  {
   "cell_type": "code",
   "execution_count": null,
   "metadata": {},
   "outputs": [],
   "source": [
    "#///////////////////////////////////////////////////////////////////"
   ]
  },
  {
   "cell_type": "code",
   "execution_count": null,
   "metadata": {},
   "outputs": [],
   "source": [
    "df_task6=df_flights.copy(deep=True)"
   ]
  },
  {
   "cell_type": "code",
   "execution_count": null,
   "metadata": {},
   "outputs": [],
   "source": [
    "df_task6.columns"
   ]
  },
  {
   "cell_type": "code",
   "execution_count": null,
   "metadata": {},
   "outputs": [],
   "source": [
    "#There is no column for for states, but we can use the columns for origin and destination cities\n",
    "df_task6[['origin_city_name', 'dest_city_name']].head()"
   ]
  },
  {
   "cell_type": "code",
   "execution_count": null,
   "metadata": {},
   "outputs": [],
   "source": [
    "#Spliting the codes from state's name\n",
    "df_task6['origin_state']=df_task6['origin_city_name'].apply(lambda x: x.split(', ')[1])\n",
    "df_task6['destination_state']=df_task6['dest_city_name'].apply(lambda x: x.split(', ')[1])\n",
    "df_task6.head()"
   ]
  },
  {
   "cell_type": "code",
   "execution_count": null,
   "metadata": {},
   "outputs": [],
   "source": [
    "# counting the number of flights based on origin and destination\n",
    "flights_per_state_origin=df_task6.groupby('origin_state')['fl_date'].count().sort_values(ascending=False)\n",
    "flights_per_state_destination=df_task6.groupby('destination_state')['fl_date'].count().sort_values(ascending=False)"
   ]
  },
  {
   "cell_type": "code",
   "execution_count": null,
   "metadata": {},
   "outputs": [],
   "source": [
    "ax=plt.subplots(figsize=(15, 12))\n",
    "million=1000000\n",
    "ax=sns.barplot(x=flights_per_state_origin.values/million, y=flights_per_state_origin.index)\n",
    "ax.set_title('Number of Flights Based On States', fontsize=14)\n",
    "ax.set_xlabel('Flights Per Million')\n",
    "ax.set_ylabel('Origin State')"
   ]
  },
  {
   "cell_type": "code",
   "execution_count": null,
   "metadata": {},
   "outputs": [],
   "source": [
    "ax=plt.subplots(figsize=(15, 12))\n",
    "million=1000000\n",
    "ax=sns.barplot(x=flights_per_state_destination/million, y=flights_per_state_destination.index)\n",
    "ax.set_title('Number of Flights Based On States', fontsize=14)\n",
    "ax.set_xlabel('Flights Per Million')\n",
    "ax.set_ylabel('Destination State')"
   ]
  },
  {
   "cell_type": "code",
   "execution_count": null,
   "metadata": {},
   "outputs": [],
   "source": [
    "#Counting the top states with most air traffic in the US\n",
    "total_flights=flights_per_state_origin + flights_per_state_destination\n",
    "flight_perc=total_flights.sum()*0.5\n",
    "states=[]\n",
    "total=0\n",
    "num=False"
   ]
  },
  {
   "cell_type": "code",
   "execution_count": null,
   "metadata": {},
   "outputs": [],
   "source": [
    "for state, number in total_flights.sort_values(ascending=False).items():\n",
    "    if total<=flight_perc:\n",
    "        states.append(state)\n",
    "        total +=number\n",
    "        \n",
    "    if total > flight_perc:\n",
    "        num =True\n",
    "    \n",
    "    elif num == True:\n",
    "        break\n",
    "\n",
    "print('States that cover 50% of US Air Traffic:')\n",
    "for state in states:\n",
    "    print(state)"
   ]
  },
  {
   "cell_type": "code",
   "execution_count": null,
   "metadata": {},
   "outputs": [],
   "source": [
    "#.............................................................END OF TASK 6................................................................................................"
   ]
  },
  {
   "cell_type": "code",
   "execution_count": null,
   "metadata": {},
   "outputs": [],
   "source": [
    "#Task 7: Test the hypothesis whether planes fly faster when there is the departure delay?"
   ]
  },
  {
   "cell_type": "code",
   "execution_count": null,
   "metadata": {},
   "outputs": [],
   "source": [
    "from scipy import stats"
   ]
  },
  {
   "cell_type": "code",
   "execution_count": null,
   "metadata": {},
   "outputs": [],
   "source": [
    "air_time = df_flights['air_time']"
   ]
  },
  {
   "cell_type": "code",
   "execution_count": null,
   "metadata": {},
   "outputs": [],
   "source": [
    "dep_delay = df_flights['dep_delay']"
   ]
  },
  {
   "cell_type": "code",
   "execution_count": null,
   "metadata": {},
   "outputs": [],
   "source": [
    "sns.scatterplot(data=df_flights, x=dep_delay, y=air_time)"
   ]
  },
  {
   "cell_type": "code",
   "execution_count": null,
   "metadata": {},
   "outputs": [],
   "source": [
    "#///////////////////////////////////////////////////////////////////"
   ]
  },
  {
   "cell_type": "code",
   "execution_count": null,
   "metadata": {},
   "outputs": [],
   "source": [
    "df_task7=df_flights.copy(deep=True)\n",
    "df_task7.head()"
   ]
  },
  {
   "cell_type": "code",
   "execution_count": null,
   "metadata": {},
   "outputs": [],
   "source": [
    "df_task7['air_time'].sort_values(ascending=False)"
   ]
  },
  {
   "cell_type": "code",
   "execution_count": null,
   "metadata": {},
   "outputs": [],
   "source": [
    "df_task7['flight_speed']=(df_task7['distance']/df_task7['air_time'])*60"
   ]
  },
  {
   "cell_type": "code",
   "execution_count": null,
   "metadata": {},
   "outputs": [],
   "source": [
    "df_task7['flight_speed'].sort_values(ascending=False)"
   ]
  },
  {
   "cell_type": "code",
   "execution_count": null,
   "metadata": {},
   "outputs": [],
   "source": [
    "\n",
    "#flight speed with and without delays\n",
    "flightspeed_with_delay=df_task7.loc[(df_task7['dep_delay']>0), 'flight_speed']\n",
    "flightspeed_without_delay=df_task7.loc[(df_task7['dep_delay']==0), 'flight_speed']"
   ]
  },
  {
   "cell_type": "code",
   "execution_count": null,
   "metadata": {},
   "outputs": [],
   "source": [
    "stats.f_oneway(flightspeed_with_delay, flightspeed_without_delay)"
   ]
  },
  {
   "cell_type": "code",
   "execution_count": null,
   "metadata": {},
   "outputs": [],
   "source": [
    "stats.ttest_ind(flightspeed_with_delay, flightspeed_without_delay)\n",
    "#Result: The null hypothesis is not rejected because the P-value is greater than alpha."
   ]
  },
  {
   "cell_type": "code",
   "execution_count": null,
   "metadata": {},
   "outputs": [],
   "source": [
    "#.............................................................END OF TASK 7................................................................................................"
   ]
  },
  {
   "cell_type": "code",
   "execution_count": null,
   "metadata": {},
   "outputs": [],
   "source": [
    "#Task 8: When (which hour) do most 'LONG', 'SHORT', 'MEDIUM' haul flights take off?"
   ]
  },
  {
   "cell_type": "code",
   "execution_count": null,
   "metadata": {},
   "outputs": [],
   "source": [
    "df_flights['hour_departure'] = df_flights['dep_time'].apply(\n",
    "lambda x: str(x)[:2] if len(str(x)) == 6 else (str(x)[:1]))"
   ]
  },
  {
   "cell_type": "code",
   "execution_count": null,
   "metadata": {},
   "outputs": [],
   "source": [
    "long = df_flights[df_flights['air_time'].between(400, 659)]"
   ]
  },
  {
   "cell_type": "code",
   "execution_count": null,
   "metadata": {},
   "outputs": [],
   "source": [
    "medium = df_flights[df_flights['air_time'].between(200,399)]"
   ]
  },
  {
   "cell_type": "code",
   "execution_count": null,
   "metadata": {},
   "outputs": [],
   "source": [
    "short = df_flights[df_flights['air_time'].between(0,199)]"
   ]
  },
  {
   "cell_type": "code",
   "execution_count": null,
   "metadata": {},
   "outputs": [],
   "source": [
    "commonhr_long = long.groupby('hour_departure').size().sort_values(ascending = False)\n",
    "commonhr_long"
   ]
  },
  {
   "cell_type": "code",
   "execution_count": null,
   "metadata": {},
   "outputs": [],
   "source": [
    "commonhr_medium = medium.groupby('hour_departure').size().sort_values(ascending = False)\n",
    "commonhr_medium.head()"
   ]
  },
  {
   "cell_type": "code",
   "execution_count": null,
   "metadata": {},
   "outputs": [],
   "source": [
    "commonhr_short = short.groupby('hour_departure').size().sort_values(ascending = False)\n",
    "commonhr_short.head()"
   ]
  },
  {
   "cell_type": "code",
   "execution_count": null,
   "metadata": {},
   "outputs": [],
   "source": [
    "#//////////////////////////////////////////////////"
   ]
  },
  {
   "cell_type": "code",
   "execution_count": null,
   "metadata": {},
   "outputs": [],
   "source": [
    "df_task8=df_flights.copy(deep=True)\n",
    "df_task8.columns"
   ]
  },
  {
   "cell_type": "code",
   "execution_count": null,
   "metadata": {},
   "outputs": [],
   "source": [
    "df_task8.head()"
   ]
  },
  {
   "cell_type": "code",
   "execution_count": null,
   "metadata": {},
   "outputs": [],
   "source": [
    "#convert to datetime\n",
    "def convert_time(x):\n",
    "    if np.isnan(x):\n",
    "        return '00:00'\n",
    "    \n",
    "    if x == 2400:\n",
    "        return '23:59'   \n",
    "    string = str(int(x))\n",
    "    \n",
    "    if len(string)< 4:\n",
    "        for _ in range(4-len(string)):\n",
    "            string = '0' + string\n",
    "    \n",
    "    return string[:2] + ':' + string[2:]"
   ]
  },
  {
   "cell_type": "code",
   "execution_count": null,
   "metadata": {},
   "outputs": [],
   "source": [
    "#get dep_hr again\n",
    "df_task8['fl_date'] = pd.to_datetime(df_task8['fl_date'], format='%Y-%m-%d')\n",
    "\n",
    "df_task8['dep_time'] = df_task8['dep_time'].apply(lambda x: convert_time(x))\n",
    "df_task8['dep_time'] = pd.to_datetime(df_task8['dep_time'], format='%H:%M')\n",
    "df_task8['dep_hr'] = df_task8['dep_time'].dt.hour"
   ]
  },
  {
   "cell_type": "code",
   "execution_count": null,
   "metadata": {},
   "outputs": [],
   "source": [
    "#short flights:30 mins to 3 hours\n",
    "#medium flights: 3 hourst to 6 hours\n",
    "#long flights: above 6 hours\n",
    "short_flights=df_task8[df_task8['air_time']<=180]\n",
    "medium_flights=df_task8[(df_task8['air_time']> 180) & (df_task8['air_time']<=360)]\n",
    "long_flights=df_task8[df_task8['air_time']>=360]"
   ]
  },
  {
   "cell_type": "code",
   "execution_count": null,
   "metadata": {},
   "outputs": [],
   "source": [
    "short_time=short_flights.groupby(by=[short_flights['dep_hr']])['taxi_out'].count().sort_values(ascending=False)\n",
    "med_time=medium_flights.groupby(by=[medium_flights['dep_hr']])['taxi_out'].count().sort_values(ascending=False)\n",
    "long_time=long_flights.groupby(by=[long_flights['dep_hr']])['taxi_out'].count().sort_values(ascending=False)"
   ]
  },
  {
   "cell_type": "code",
   "execution_count": null,
   "metadata": {},
   "outputs": [],
   "source": [
    "fig, ax=plt.subplots(figsize=(10, 6))\n",
    "\n",
    "sns.barplot(ax=ax, x=short_time.index, y=short_time.values, color='r')\n",
    "ax.set_title('Short Flights in Different Hours')\n",
    "ax.set_xlabel('Hours during the days')\n",
    "ax.set_ylabel('Number of flights')"
   ]
  },
  {
   "cell_type": "code",
   "execution_count": null,
   "metadata": {},
   "outputs": [],
   "source": [
    "fig, ax=plt.subplots(figsize=(10, 6))\n",
    "\n",
    "sns.barplot(ax=ax, x=med_time.index, y=med_time.values, color='r')\n",
    "ax.set_title('Medium Flights in Different Hours')\n",
    "ax.set_xlabel('Hours during the days')\n",
    "ax.set_ylabel('Number of flights')"
   ]
  },
  {
   "cell_type": "code",
   "execution_count": null,
   "metadata": {},
   "outputs": [],
   "source": [
    "fig, ax=plt.subplots(figsize=(10, 6))\n",
    "\n",
    "sns.barplot(ax=ax, x=long_time.index, y=long_time.values, color='r')\n",
    "ax.set_title('Long Flights in Different Hours')\n",
    "ax.set_xlabel('Hours during the days')\n",
    "ax.set_ylabel('Number of flights')"
   ]
  },
  {
   "cell_type": "code",
   "execution_count": null,
   "metadata": {},
   "outputs": [],
   "source": [
    "#..........................................................................................END OF TASK 8................................................................................................"
   ]
  },
  {
   "cell_type": "code",
   "execution_count": null,
   "metadata": {},
   "outputs": [],
   "source": [
    "#Task 9: Find the top 10 the bussiest airports. Does the biggest number of flights mean that the biggest number of \n",
    "#passengers went through the particular airport? How much traffic do these 10 airports cover?"
   ]
  },
  {
   "cell_type": "code",
   "execution_count": null,
   "metadata": {},
   "outputs": [],
   "source": [
    "busiest_airport = df_flights.groupby('dest').size().sort_values(ascending = False)\n",
    "busiest_airport"
   ]
  },
  {
   "cell_type": "code",
   "execution_count": null,
   "metadata": {},
   "outputs": [],
   "source": [
    "df_passengers = pd.read_csv('/Users/annajose/Desktop/BOOTCAMP 2/Week5Day5/M-I-D-T-E-R-M/passengers.csv')"
   ]
  },
  {
   "cell_type": "code",
   "execution_count": null,
   "metadata": {},
   "outputs": [],
   "source": [
    "pass_numb_dest = df_passengers[['passengers', 'dest']].groupby('dest').sum().reset_index()"
   ]
  },
  {
   "cell_type": "code",
   "execution_count": null,
   "metadata": {},
   "outputs": [],
   "source": [
    "pass_numb_dest.sort_values(by = 'passengers', ascending = False)"
   ]
  },
  {
   "cell_type": "code",
   "execution_count": null,
   "metadata": {},
   "outputs": [],
   "source": [
    "#/////////////////////////////////////////////////////////////////////////"
   ]
  },
  {
   "cell_type": "code",
   "execution_count": null,
   "metadata": {},
   "outputs": [],
   "source": [
    "df_task9=df_passengers.copy(deep=True)"
   ]
  },
  {
   "cell_type": "code",
   "execution_count": null,
   "metadata": {},
   "outputs": [],
   "source": [
    "df_task9.columns"
   ]
  },
  {
   "cell_type": "code",
   "execution_count": null,
   "metadata": {},
   "outputs": [],
   "source": [
    "df_task9['dest']"
   ]
  },
  {
   "cell_type": "code",
   "execution_count": null,
   "metadata": {},
   "outputs": [],
   "source": [
    "busy_airports_dest=df_task9[['passengers', 'dest']].groupby('dest').sum().reset_index()"
   ]
  },
  {
   "cell_type": "code",
   "execution_count": null,
   "metadata": {},
   "outputs": [],
   "source": [
    "busy_airports_dest=busy_airports_dest.sort_values(by='passengers', ascending=False).head(10)\n",
    "busy_airports_dest"
   ]
  },
  {
   "cell_type": "code",
   "execution_count": null,
   "metadata": {},
   "outputs": [],
   "source": [
    "ax=plt.subplots(figsize=(15, 12))\n",
    "\n",
    "ax=sns.barplot(x=busy_airports_dest.dest, y=busy_airports_dest.passengers)\n",
    "ax.set_title('Number of Passengers Based on States', fontsize=14)\n",
    "ax.set_xlabel('Destination')\n",
    "ax.set_ylabel('Number of Passengers')"
   ]
  },
  {
   "cell_type": "code",
   "execution_count": null,
   "metadata": {},
   "outputs": [],
   "source": [
    "busy_airports_origin=df_task9[['passengers', 'origin']].groupby('origin').sum().reset_index()\n",
    "busy_airports_origin=busy_airports_origin.sort_values(by='passengers', ascending=False).head(10)\n",
    "busy_airports_origin"
   ]
  },
  {
   "cell_type": "code",
   "execution_count": null,
   "metadata": {},
   "outputs": [],
   "source": [
    "ax=plt.subplots(figsize=(15, 12))\n",
    "\n",
    "ax=sns.barplot(x=busy_airports_origin.origin, y=busy_airports_origin.passengers)\n",
    "\n",
    "ax.set_title('Number of Passengers Based on States', fontsize=14)\n",
    "ax.set_xlabel('Origin')\n",
    "ax.set_ylabel('Number of Passengers')"
   ]
  },
  {
   "cell_type": "code",
   "execution_count": null,
   "metadata": {},
   "outputs": [],
   "source": [
    "#..........................................................................................END OF TASK 9................................................................................................"
   ]
  },
  {
   "cell_type": "code",
   "execution_count": null,
   "metadata": {},
   "outputs": [],
   "source": [
    "#Task 10: Do bigger delays lead to bigger fuel comsumption per passenger?\n",
    "#We need to do four things to answer this as accurate as possible:\n",
    "\n",
    "#Find out average monthly delay per air carrier (monthly delay is sum of all delays in 1 month)\n",
    "#Find out distance covered monthly by different air carriers\n",
    "#Find out number of passengers that were carried by different air carriers\n",
    "#Find out total fuel comsumption per air carrier.\n",
    "#Use this information to get the average fuel comsumption per passenger per km. Is this higher for the airlines with bigger average delays?"
   ]
  },
  {
   "cell_type": "code",
   "execution_count": null,
   "metadata": {},
   "outputs": [],
   "source": [
    "fuel = pd.read_csv('/Users/annajose/Desktop/BOOTCAMP 2/Week5Day5/M-I-D-T-E-R-M/fuel_consumption.csv')"
   ]
  },
  {
   "cell_type": "code",
   "execution_count": null,
   "metadata": {},
   "outputs": [],
   "source": [
    "monthly_carrier_delay = df_flights[['mkt_unique_carrier', 'dep_delay', 'month']].groupby(['mkt_unique_carrier', 'month']).agg({'dep_delay': 'mean'})"
   ]
  },
  {
   "cell_type": "code",
   "execution_count": null,
   "metadata": {},
   "outputs": [],
   "source": [
    "monthly_carrier_dist = df_flights[['mkt_unique_carrier', 'distance', 'month']].groupby(['mkt_unique_carrier', 'month']).sum()"
   ]
  },
  {
   "cell_type": "code",
   "execution_count": null,
   "metadata": {},
   "outputs": [],
   "source": [
    "numb_pass_carrier = df_passengers[['passengers', 'unique_carrier']].groupby('unique_carrier').sum().sort_values(by = 'passengers', ascending = False)"
   ]
  },
  {
   "cell_type": "code",
   "execution_count": null,
   "metadata": {},
   "outputs": [],
   "source": [
    "fuel_carrier = df_fuelconsumption[['total_cost', 'unique_carrier']].groupby('unique_carrier').sum().sort_values(by = 'total_cost', ascending = False)"
   ]
  },
  {
   "cell_type": "code",
   "execution_count": null,
   "metadata": {},
   "outputs": [],
   "source": [
    "merged_delay = pd.merge(monthly_carrier_delay, monthly_carrier_dist, how = 'left', on = ['mkt_unique_carrier', 'month']).reset_index()"
   ]
  },
  {
   "cell_type": "code",
   "execution_count": null,
   "metadata": {},
   "outputs": [],
   "source": [
    "merged_delay_renamed = merged_delay.rename(columns={\"mkt_unique_carrier\": \"unique_carrier\"})"
   ]
  },
  {
   "cell_type": "code",
   "execution_count": null,
   "metadata": {},
   "outputs": [],
   "source": [
    "carrier_merged = pd.merge(numb_pass_carrier, fuel_carrier, how = 'left', on = 'unique_carrier').reset_index()"
   ]
  },
  {
   "cell_type": "code",
   "execution_count": null,
   "metadata": {},
   "outputs": [],
   "source": [
    "fuel_pass = pd.merge(merged_delay_renamed, carrier_merged, how = 'right', on = 'unique_carrier')"
   ]
  },
  {
   "cell_type": "code",
   "execution_count": null,
   "metadata": {},
   "outputs": [],
   "source": [
    "fuel_pass.sort_values(by = 'total_cost', ascending = False)"
   ]
  },
  {
   "cell_type": "code",
   "execution_count": null,
   "metadata": {},
   "outputs": [],
   "source": [
    "#Use this information to get the average fuel comsumption per passenger per km. Is this higher for the airlines with bigger average delays?"
   ]
  },
  {
   "cell_type": "code",
   "execution_count": null,
   "metadata": {},
   "outputs": [],
   "source": [
    "\n",
    "avg_fuel = (fuel_pass.groupby(['unique_carrier', 'month']).agg(np.mean).reset_index().fillna(0).assign(\n",
    "    \n",
    "    cost_per_km = lambda x: x['total_cost'] / x['distance']\n",
    "    ).assign(\n",
    "    \n",
    "    cost_per_passenger = lambda x: x[('total_cost')] / x['passengers']\n",
    "    )\n",
    ").fillna(0)\n",
    "#.sort_values(by = 'cost_per_passenger', ascending = False)\n",
    "avg_fuel"
   ]
  },
  {
   "cell_type": "code",
   "execution_count": null,
   "metadata": {},
   "outputs": [],
   "source": [
    "sns.scatterplot(data = avg_fuel, x = 'dep_delay', y = 'cost_per_passenger')"
   ]
  },
  {
   "cell_type": "code",
   "execution_count": null,
   "metadata": {},
   "outputs": [],
   "source": [
    "\n",
    "sns.scatterplot(data = avg_fuel, x = 'dep_delay', y = 'cost_per_km')"
   ]
  },
  {
   "cell_type": "code",
   "execution_count": null,
   "metadata": {},
   "outputs": [],
   "source": [
    "import seaborn as sns"
   ]
  },
  {
   "cell_type": "code",
   "execution_count": null,
   "metadata": {},
   "outputs": [],
   "source": [
    "avg_fuel_cost = np.log1p(avg_fuel[['cost_per_km', 'cost_per_passenger']])\n",
    "avg_fuel_cost.plot.kde()"
   ]
  },
  {
   "cell_type": "code",
   "execution_count": null,
   "metadata": {},
   "outputs": [],
   "source": []
  },
  {
   "cell_type": "code",
   "execution_count": null,
   "metadata": {},
   "outputs": [],
   "source": [
    "#arr_delay and taxi out/in correlation"
   ]
  },
  {
   "cell_type": "code",
   "execution_count": null,
   "metadata": {},
   "outputs": [],
   "source": [
    "df_flights = pd.read_csv('/Users/annajose/Desktop/BOOTCAMP 2/Week5Day5/M-I-D-T-E-R-M/flights.csv')"
   ]
  },
  {
   "cell_type": "code",
   "execution_count": null,
   "metadata": {},
   "outputs": [],
   "source": [
    "sns.scatterplot(data = df_flights, x = 'arr_delay', y = 'taxi_out')"
   ]
  },
  {
   "cell_type": "code",
   "execution_count": null,
   "metadata": {},
   "outputs": [],
   "source": [
    "sns.scatterplot(data = df_flights, x = 'taxi_in', y = 'arr_delay')"
   ]
  },
  {
   "cell_type": "code",
   "execution_count": null,
   "metadata": {},
   "outputs": [],
   "source": [
    "sns.scatterplot(data = df_flights, x = 'cancelled', y = 'arr_delay')"
   ]
  },
  {
   "cell_type": "code",
   "execution_count": null,
   "metadata": {},
   "outputs": [],
   "source": [
    "sns.scatterplot(data = df_flights, x = 'diverted', y = 'arr_delay')"
   ]
  },
  {
   "cell_type": "code",
   "execution_count": null,
   "metadata": {},
   "outputs": [],
   "source": [
    "#wheels off and on"
   ]
  },
  {
   "cell_type": "code",
   "execution_count": null,
   "metadata": {},
   "outputs": [],
   "source": [
    "df_flights['hour_wheels_on'] = df_flights['wheels_on'].apply(\n",
    "lambda x: str(x)[:2] if len(str(x)) == 6 else (str(x)[:1]))"
   ]
  },
  {
   "cell_type": "code",
   "execution_count": null,
   "metadata": {},
   "outputs": [],
   "source": [
    "df_flights['hour_wheels_off'] = df_flights['wheels_off'].apply(\n",
    "lambda x: str(x)[:2] if len(str(x)) == 6 else (str(x)[:1]))"
   ]
  },
  {
   "cell_type": "code",
   "execution_count": null,
   "metadata": {},
   "outputs": [],
   "source": [
    "df_flights['hour_wheels_off']"
   ]
  },
  {
   "cell_type": "code",
   "execution_count": null,
   "metadata": {},
   "outputs": [],
   "source": [
    "sns.scatterplot(data = df_flights, x = 'hour_wheels_on', y = 'arr_delay')"
   ]
  },
  {
   "cell_type": "code",
   "execution_count": null,
   "metadata": {},
   "outputs": [],
   "source": [
    "sns.scatterplot(data = df_flights, x = 'hour_wheels_off', y = 'arr_delay')"
   ]
  },
  {
   "cell_type": "code",
   "execution_count": null,
   "metadata": {},
   "outputs": [],
   "source": [
    "#///////////////////////////////////////////////////////////////////"
   ]
  },
  {
   "cell_type": "code",
   "execution_count": null,
   "metadata": {},
   "outputs": [],
   "source": [
    "df_task10=df_flights.copy(deep=True)"
   ]
  },
  {
   "cell_type": "code",
   "execution_count": null,
   "metadata": {},
   "outputs": [],
   "source": [
    "df_task10['fl_date']=pd.to_datetime(df_task2['fl_date'])\n",
    "df_task10['month']=df_task2['fl_date'].dt.month"
   ]
  },
  {
   "cell_type": "code",
   "execution_count": null,
   "metadata": {},
   "outputs": [],
   "source": [
    "#Average delays and distance covered by carriers\n",
    "monthly_delay=df_task10.groupby(['month', 'mkt_unique_carrier'])['dep_delay'].mean()\n",
    "monthly_distance=df_task10.groupby(['month','mkt_unique_carrier'])['distance'].sum()"
   ]
  },
  {
   "cell_type": "code",
   "execution_count": null,
   "metadata": {},
   "outputs": [],
   "source": [
    "monthly_delay"
   ]
  },
  {
   "cell_type": "code",
   "execution_count": null,
   "metadata": {},
   "outputs": [],
   "source": [
    "df_task10_pas=df_passengers.copy(deep=True)"
   ]
  },
  {
   "cell_type": "code",
   "execution_count": null,
   "metadata": {},
   "outputs": [],
   "source": [
    "df_task10.columns"
   ]
  },
  {
   "cell_type": "code",
   "execution_count": null,
   "metadata": {},
   "outputs": [],
   "source": [
    "#Number of passengers carreid by all carriers\n",
    "pas_by_carriers=df_task10_pas[['passengers','unique_carrier']].groupby('unique_carrier').sum().sort_values(by='passengers', ascending=False)\n",
    "pas_by_carriers"
   ]
  },
  {
   "cell_type": "code",
   "execution_count": null,
   "metadata": {},
   "outputs": [],
   "source": [
    "#total fuel consumption per carrir \n",
    "fuel_by_carriers=df_fuelconsumption[['total_gallons','unique_carrier']].groupby('unique_carrier').sum().sort_values(by='total_gallons', ascending=False)\n",
    "fuel_by_carriers"
   ]
  },
  {
   "cell_type": "code",
   "execution_count": null,
   "metadata": {},
   "outputs": [],
   "source": [
    "#Merging\n",
    "\n",
    "delay_dest_merged=pd.merge(monthly_delay, monthly_distance, how='left', on=['mkt_unique_carrier', 'month']).reset_index()\n",
    "delay_dest_merged"
   ]
  },
  {
   "cell_type": "code",
   "execution_count": null,
   "metadata": {},
   "outputs": [],
   "source": [
    "delay_dest_merged=delay_dest_merged.rename(columns={'mkt_unique_carrier': 'unique_carrier'})"
   ]
  },
  {
   "cell_type": "code",
   "execution_count": null,
   "metadata": {},
   "outputs": [],
   "source": [
    "pas_fuel_merged=pd.merge(pas_by_carriers, fuel_by_carriers, how='left', on='unique_carrier').reset_index()\n",
    "pas_fuel_merged"
   ]
  },
  {
   "cell_type": "code",
   "execution_count": null,
   "metadata": {},
   "outputs": [],
   "source": [
    "fuel_pass = pd.merge(delay_dest_merged, pas_fuel_merged, how = 'right', on = 'unique_carrier')\n",
    "fuel_pass"
   ]
  },
  {
   "cell_type": "code",
   "execution_count": null,
   "metadata": {},
   "outputs": [],
   "source": [
    "fuel_pass.head()"
   ]
  },
  {
   "cell_type": "code",
   "execution_count": null,
   "metadata": {},
   "outputs": [],
   "source": [
    "sns.scatterplot(data=fuel_pass, x='dep_delay', y='fuel consumption per passenger')"
   ]
  },
  {
   "cell_type": "code",
   "execution_count": null,
   "metadata": {},
   "outputs": [],
   "source": [
    "sns.scatterplot(data=fuel_pass, x='dep_delay', y='consumption per km')"
   ]
  },
  {
   "cell_type": "code",
   "execution_count": null,
   "metadata": {},
   "outputs": [],
   "source": [
    "#..........................................................................................END OF TASK 10................................................................................................"
   ]
  },
  {
   "cell_type": "code",
   "execution_count": null,
   "metadata": {},
   "outputs": [],
   "source": []
  },
  {
   "cell_type": "code",
   "execution_count": null,
   "metadata": {},
   "outputs": [],
   "source": []
  },
  {
   "cell_type": "code",
   "execution_count": null,
   "metadata": {},
   "outputs": [],
   "source": []
  },
  {
   "cell_type": "code",
   "execution_count": null,
   "metadata": {},
   "outputs": [],
   "source": []
  },
  {
   "cell_type": "code",
   "execution_count": null,
   "metadata": {},
   "outputs": [],
   "source": []
  }
 ],
 "metadata": {
  "kernelspec": {
   "display_name": "Python 3",
   "language": "python",
   "name": "python3"
  },
  "language_info": {
   "codemirror_mode": {
    "name": "ipython",
    "version": 3
   },
   "file_extension": ".py",
   "mimetype": "text/x-python",
   "name": "python",
   "nbconvert_exporter": "python",
   "pygments_lexer": "ipython3",
   "version": "3.8.5"
  }
 },
 "nbformat": 4,
 "nbformat_minor": 4
}
